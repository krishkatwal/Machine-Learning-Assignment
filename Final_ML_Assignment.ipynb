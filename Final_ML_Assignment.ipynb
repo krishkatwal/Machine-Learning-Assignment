{
 "cells": [
  {
   "cell_type": "code",
   "execution_count": 110,
   "id": "8aa51d48-cee5-417d-a4c8-3b0c0f36293b",
   "metadata": {},
   "outputs": [],
   "source": [
    "# data handling\n",
    "import pandas as pd\n",
    "pd.set_option('display.width', 140)\n",
    "\n",
    "# numerical analysis\n",
    "import numpy as np\n",
    "np.set_printoptions(linewidth=140)\n",
    "\n",
    "# OS-independent path\n",
    "import pathlib\n",
    "\n",
    "# data visualization (See Preprocessing -> Exploratory Data Analysis)\n",
    "import matplotlib.pyplot as plt\n",
    "plt.style.use('https://raw.githubusercontent.com/JoseGuzman/minibrain/master/minibrain/paper.mplstyle') # minibrain plotting\n",
    "\n",
    "# Display Pipelines and models\n",
    "from sklearn import set_config\n",
    "set_config(display='diagram')\n",
    "\n",
    "# other (e.g. for python >=3.6 type definitions like age: int = 1)\n",
    "from typing import List, Tuple\n",
    "\n",
    "# A progress bar\n",
    "from tqdm import tqdm\n",
    "\n",
    "# custom utility script (https://www.kaggle.com/code/joseguzman/reducing)\n",
    "#from reducing import PandaReducer\n",
    "import sys\n",
    "sys.path.append('/Downloads/Assignment/')\n",
    "#import reducing"
   ]
  },
  {
   "cell_type": "markdown",
   "id": "ee9710f7-85e9-4d1e-bfd4-10bbe49d6b03",
   "metadata": {},
   "source": [
    "# Data Loading"
   ]
  },
  {
   "cell_type": "code",
   "execution_count": 111,
   "id": "6d67c1d9-1f7b-4f05-b6e2-c3806c1eb8ed",
   "metadata": {},
   "outputs": [
    {
     "data": {
      "text/plain": [
       "pathlib.PosixPath"
      ]
     },
     "execution_count": 111,
     "metadata": {},
     "output_type": "execute_result"
    }
   ],
   "source": [
    "# Data Loading\n",
    "# Define file paths, test and train files\n",
    "mypath = pathlib.Path('data/')\n",
    "train_file = mypath / 'train.csv'\n",
    "test_file = mypath / 'test.csv'\n",
    "type(test_file)"
   ]
  },
  {
   "cell_type": "code",
   "execution_count": 112,
   "id": "9d0636bf-fac8-4f9a-8e5a-73d5ce500ffc",
   "metadata": {},
   "outputs": [],
   "source": [
    "\"\"\"\n",
    "reducing.py\n",
    "\n",
    "This script is adapted from https://www.kaggle.com/code/wkirgsn/fail-safe-parallel-memory-reduction\n",
    "Author: Kirgsn, 2018\n",
    "\n",
    "How to use it in Kaggle:\n",
    "1. Open a notebook and click File->Add Utility Script\n",
    "\n",
    "Usage:\n",
    ">>> from reducing import PandaReducer\n",
    ">>> new_df = PandaReducer().reduce(df)\n",
    "\"\"\"\n",
    "import numpy as np\n",
    "import pandas as pd\n",
    "\n",
    "import time\n",
    "import gc\n",
    "\n",
    "from joblib import Parallel, delayed\n",
    "from fastprogress import progress_bar\n",
    "\n",
    "__all__ = ['PandaReducer']\n",
    "\n",
    "def measure_time_mem(func):\n",
    "    def wrapped_reduce(self, df:pd.DataFrame, *args, **kwargs)-> pd.DataFrame:\n",
    "        \n",
    "        # start time\n",
    "        mem_init = df.memory_usage().sum() / self.memory_scale_factor\n",
    "        start_time = time.time()\n",
    "        \n",
    "        # execute target function\n",
    "        new_df = func(self, df, *args, **kwargs)\n",
    "        \n",
    "        # end time \n",
    "        mem_new = new_df.memory_usage().sum() / self.memory_scale_factor\n",
    "        end_time = time.time()\n",
    "        \n",
    "        percentage = 100 * (mem_init - mem_new)/ mem_init \n",
    "        msg = 'Dataset reduced {0:.2f}% : {1:.2f} to {2:.2f} MB'.format(percentage, mem_init, mem_new)\n",
    "        print(f'{msg} in {(end_time - start_time):.2f} seconds')\n",
    "        \n",
    "        gc.collect()\n",
    "        return new_df\n",
    "    \n",
    "    return wrapped_reduce\n",
    "\n",
    "\n",
    "class PandaReducer:\n",
    "    \"\"\"\n",
    "    Class that takes a dict of increasingly big numpy datatypes to transform\n",
    "    the data of a pandas dataframe into, in order to save memory.\n",
    "    \"\"\"\n",
    "    memory_scale_factor = 1024**2  # memory in MB\n",
    "\n",
    "    def __init__(self, use_categoricals:bool = True, n_jobs:int = -1):\n",
    "        \"\"\"\n",
    "        use_categoricals: (bool) \n",
    "            Whether the new pandas dtype \"Categoricals\" shall be used.\n",
    "        \n",
    "        n_jobs: (int)\n",
    "            number of parallel jobs, default (-1) use all available.\n",
    "        \"\"\"\n",
    "       \n",
    "        #dict with np.dtypes-strings as keys\n",
    "        self.conversion_table = {\n",
    "            'int': [np.int8, np.int16, np.int32, np.int64],\n",
    "            'uint': [np.uint8, np.uint16, np.uint32, np.uint64],\n",
    "            'float': [np.float32, ]\n",
    "        }\n",
    "        \n",
    "        self.null_int = {   \n",
    "            np.int8:  pd.Int8Dtype,\n",
    "            np.int16: pd.Int16Dtype,\n",
    "            np.int32: pd.Int32Dtype,\n",
    "            np.int64: pd.Int64Dtype,\n",
    "            np.uint8: pd.UInt8Dtype,\n",
    "            np.uint16:pd.UInt16Dtype,\n",
    "            np.uint32:pd.UInt32Dtype,\n",
    "            np.uint64:pd.UInt64Dtype\n",
    "        }\n",
    "        \n",
    "        self.use_categoricals = use_categoricals\n",
    "        self.n_jobs = n_jobs\n",
    "\n",
    "    def _type_candidates(self, k):\n",
    "        for c in self.conversion_table[k]:\n",
    "            i = np.iinfo(c) if 'int' in k else np.finfo(c)\n",
    "            yield c, i\n",
    "\n",
    "    @measure_time_mem\n",
    "    def reduce(self, df:pd.DataFrame, verbose:bool = False)-> pd.DataFrame:\n",
    "        \"\"\"\n",
    "        Takes a dataframe and returns it with all data transformed to the\n",
    "        smallest necessary types.\n",
    "\n",
    "        df: (pd.DataFrame)\n",
    "        the Pandas dataframe to be reduced.\n",
    "        \n",
    "        verbose: (bool) \n",
    "            If True, outputs more information\n",
    "        \n",
    "        Returns \n",
    "        \n",
    "        pandas dataframe with reduced data types\n",
    "        \"\"\"\n",
    "        ret_list = Parallel(n_jobs=self.n_jobs, max_nbytes=None)(progress_bar(list(delayed(self._reduce)\n",
    "                                                (df[c], c, verbose) for c in\n",
    "                                                df.columns)))\n",
    "\n",
    "        del df\n",
    "        gc.collect()\n",
    "        return pd.concat(ret_list, axis=1)\n",
    "\n",
    "    def _reduce(self, series:pd.Series, colname:str, verbose:bool):\n",
    "        \"\"\"\n",
    "        Real reduce function\n",
    "        \n",
    "        series (pd.Series)\n",
    "        A Series object of a panda\n",
    "        \n",
    "        colname (str)\n",
    "        \n",
    "        \"\"\"\n",
    "        try:\n",
    "            isnull = False\n",
    "            # skip NaNs\n",
    "            if series.isnull().any():\n",
    "                isnull = True\n",
    "            # detect kind of type\n",
    "            coltype = series.dtype\n",
    "            if np.issubdtype(coltype, np.integer):\n",
    "                conv_key = 'int' if series.min() < 0 else 'uint'\n",
    "            elif np.issubdtype(coltype, np.floating):\n",
    "                conv_key = 'float'\n",
    "                asint = series.fillna(0).astype(np.int64)\n",
    "                result = (series - asint)\n",
    "                result = np.abs(result.sum())\n",
    "                if result < 0.01:\n",
    "                    conv_key = 'int' if series.min() < 0 else 'uint'\n",
    "            else:\n",
    "                if isinstance(coltype, object) and self.use_categoricals:\n",
    "                    # check for all-strings series\n",
    "                    if series.apply(lambda x: isinstance(x, str)).all():\n",
    "                        if verbose: print(f'convert {colname} to categorical')\n",
    "                        return series.astype('category')\n",
    "                if verbose: print(f'{colname} is {coltype} - Skip..')\n",
    "                return series\n",
    "            # find right candidate\n",
    "            for cand, cand_info in self._type_candidates(conv_key):\n",
    "                if series.max() <= cand_info.max and series.min() >= cand_info.min:\n",
    "                    if verbose: print(f'convert {colname} to {cand}')\n",
    "                    if isnull:\n",
    "                        return series.astype(self.null_int[cand]())\n",
    "                    else:\n",
    "                        return series.astype(cand)\n",
    "\n",
    "            # reaching this code is bad. Probably there are inf, or other high numbs\n",
    "            print(f\"WARNING: {colname} doesn't fit the grid with \\nmax: {series.max()} \"\n",
    "                f\"and \\nmin: {series.min()}\")\n",
    "            print('Dropping it..')\n",
    "        except Exception as ex:\n",
    "            print(f'Exception for {colname}: {ex}')\n",
    "            return series"
   ]
  },
  {
   "cell_type": "code",
   "execution_count": 113,
   "id": "a0da229a-1571-45bf-97d6-0ece4658f6e9",
   "metadata": {},
   "outputs": [],
   "source": [
    "# Data Loading\n",
    "def data_loader(file:pathlib.PosixPath, target:str=None, verbose:bool = False, **kwargs) -> Tuple[pd.DataFrame, pd.Series]:\n",
    "    \"\"\"\n",
    "    Loads csv file and return a tuple with a pandas dataset \n",
    "    containing all features, and a pandas Series with the \n",
    "    target variable.\n",
    "    \"\"\"\n",
    "    \n",
    "    data = pd.read_csv(file, **kwargs)\n",
    "    df = PandaReducer().reduce(data) # see reduce.py in Utility Script \n",
    "    \n",
    "    if target is not None:\n",
    "        out = (df[target]).astype(int)\n",
    "        df.drop([target], axis=1, inplace=True)\n",
    "    else:\n",
    "        out = None\n",
    "        \n",
    "    \n",
    "    if verbose:\n",
    "        print('The dataset contains {0} entries and {1} features'.format(*df.shape))\n",
    "    \n",
    "    return df, out\n"
   ]
  },
  {
   "cell_type": "code",
   "execution_count": 114,
   "id": "4396acf0-ef9e-4f83-a10f-a51d3612ec21",
   "metadata": {},
   "outputs": [
    {
     "data": {
      "text/html": [
       "\n",
       "<style>\n",
       "    /* Turns off some styling */\n",
       "    progress {\n",
       "        /* gets rid of default border in Firefox and Opera. */\n",
       "        border: none;\n",
       "        /* Needs to be in here for Safari polyfill so background images work as expected. */\n",
       "        background-size: auto;\n",
       "    }\n",
       "    progress:not([value]), progress:not([value])::-webkit-progress-bar {\n",
       "        background: repeating-linear-gradient(45deg, #7e7e7e, #7e7e7e 10px, #5c5c5c 10px, #5c5c5c 20px);\n",
       "    }\n",
       "    .progress-bar-interrupted, .progress-bar-interrupted::-webkit-progress-bar {\n",
       "        background: #F44336;\n",
       "    }\n",
       "</style>\n"
      ],
      "text/plain": [
       "<IPython.core.display.HTML object>"
      ]
     },
     "metadata": {},
     "output_type": "display_data"
    },
    {
     "data": {
      "text/html": [
       "\n",
       "    <div>\n",
       "      <progress value='21' class='' max='21' style='width:300px; height:20px; vertical-align: middle;'></progress>\n",
       "      100.00% [21/21 00:01&lt;00:00]\n",
       "    </div>\n",
       "    "
      ],
      "text/plain": [
       "<IPython.core.display.HTML object>"
      ]
     },
     "metadata": {},
     "output_type": "display_data"
    },
    {
     "name": "stdout",
     "output_type": "stream",
     "text": [
      "Dataset reduced 79.61% : 0.13 to 0.03 MB in 1.39 seconds\n",
      "The dataset contains 800 entries and 20 features\n"
     ]
    },
    {
     "data": {
      "text/html": [
       "\n",
       "<style>\n",
       "    /* Turns off some styling */\n",
       "    progress {\n",
       "        /* gets rid of default border in Firefox and Opera. */\n",
       "        border: none;\n",
       "        /* Needs to be in here for Safari polyfill so background images work as expected. */\n",
       "        background-size: auto;\n",
       "    }\n",
       "    progress:not([value]), progress:not([value])::-webkit-progress-bar {\n",
       "        background: repeating-linear-gradient(45deg, #7e7e7e, #7e7e7e 10px, #5c5c5c 10px, #5c5c5c 20px);\n",
       "    }\n",
       "    .progress-bar-interrupted, .progress-bar-interrupted::-webkit-progress-bar {\n",
       "        background: #F44336;\n",
       "    }\n",
       "</style>\n"
      ],
      "text/plain": [
       "<IPython.core.display.HTML object>"
      ]
     },
     "metadata": {},
     "output_type": "display_data"
    },
    {
     "data": {
      "text/html": [
       "\n",
       "    <div>\n",
       "      <progress value='20' class='' max='20' style='width:300px; height:20px; vertical-align: middle;'></progress>\n",
       "      100.00% [20/20 00:00&lt;00:00]\n",
       "    </div>\n",
       "    "
      ],
      "text/plain": [
       "<IPython.core.display.HTML object>"
      ]
     },
     "metadata": {},
     "output_type": "display_data"
    },
    {
     "name": "stdout",
     "output_type": "stream",
     "text": [
      "Dataset reduced 78.07% : 0.03 to 0.01 MB in 0.09 seconds\n",
      "The dataset contains 200 entries and 20 features\n"
     ]
    }
   ],
   "source": [
    "# Data Loading\n",
    "train, train_target = data_loader(file = train_file, target = 'Class/ASD', verbose=True, index_col='ID')\n",
    "test, _ = data_loader(file = test_file, target=None, verbose=True, index_col='ID') # note target is None"
   ]
  },
  {
   "cell_type": "code",
   "execution_count": 115,
   "id": "6370b85f-2799-4477-9eee-99f19a1613fe",
   "metadata": {},
   "outputs": [
    {
     "data": {
      "text/html": [
       "<div>\n",
       "<style scoped>\n",
       "    .dataframe tbody tr th:only-of-type {\n",
       "        vertical-align: middle;\n",
       "    }\n",
       "\n",
       "    .dataframe tbody tr th {\n",
       "        vertical-align: top;\n",
       "    }\n",
       "\n",
       "    .dataframe thead th {\n",
       "        text-align: right;\n",
       "    }\n",
       "</style>\n",
       "<table border=\"1\" class=\"dataframe\">\n",
       "  <thead>\n",
       "    <tr style=\"text-align: right;\">\n",
       "      <th></th>\n",
       "      <th>A1_Score</th>\n",
       "      <th>A2_Score</th>\n",
       "      <th>A3_Score</th>\n",
       "      <th>A4_Score</th>\n",
       "      <th>A5_Score</th>\n",
       "      <th>A6_Score</th>\n",
       "      <th>A7_Score</th>\n",
       "      <th>A8_Score</th>\n",
       "      <th>A9_Score</th>\n",
       "      <th>A10_Score</th>\n",
       "      <th>age</th>\n",
       "      <th>gender</th>\n",
       "      <th>ethnicity</th>\n",
       "      <th>jaundice</th>\n",
       "      <th>austim</th>\n",
       "      <th>contry_of_res</th>\n",
       "      <th>used_app_before</th>\n",
       "      <th>result</th>\n",
       "      <th>age_desc</th>\n",
       "      <th>relation</th>\n",
       "    </tr>\n",
       "    <tr>\n",
       "      <th>ID</th>\n",
       "      <th></th>\n",
       "      <th></th>\n",
       "      <th></th>\n",
       "      <th></th>\n",
       "      <th></th>\n",
       "      <th></th>\n",
       "      <th></th>\n",
       "      <th></th>\n",
       "      <th></th>\n",
       "      <th></th>\n",
       "      <th></th>\n",
       "      <th></th>\n",
       "      <th></th>\n",
       "      <th></th>\n",
       "      <th></th>\n",
       "      <th></th>\n",
       "      <th></th>\n",
       "      <th></th>\n",
       "      <th></th>\n",
       "      <th></th>\n",
       "    </tr>\n",
       "  </thead>\n",
       "  <tbody>\n",
       "    <tr>\n",
       "      <th>1</th>\n",
       "      <td>1</td>\n",
       "      <td>0</td>\n",
       "      <td>1</td>\n",
       "      <td>1</td>\n",
       "      <td>1</td>\n",
       "      <td>1</td>\n",
       "      <td>0</td>\n",
       "      <td>1</td>\n",
       "      <td>1</td>\n",
       "      <td>1</td>\n",
       "      <td>18.605396</td>\n",
       "      <td>f</td>\n",
       "      <td>White-European</td>\n",
       "      <td>no</td>\n",
       "      <td>no</td>\n",
       "      <td>United States</td>\n",
       "      <td>no</td>\n",
       "      <td>7.819715</td>\n",
       "      <td>18 and more</td>\n",
       "      <td>Self</td>\n",
       "    </tr>\n",
       "    <tr>\n",
       "      <th>2</th>\n",
       "      <td>0</td>\n",
       "      <td>0</td>\n",
       "      <td>0</td>\n",
       "      <td>0</td>\n",
       "      <td>0</td>\n",
       "      <td>0</td>\n",
       "      <td>0</td>\n",
       "      <td>0</td>\n",
       "      <td>0</td>\n",
       "      <td>1</td>\n",
       "      <td>13.829370</td>\n",
       "      <td>f</td>\n",
       "      <td>South Asian</td>\n",
       "      <td>no</td>\n",
       "      <td>no</td>\n",
       "      <td>Australia</td>\n",
       "      <td>no</td>\n",
       "      <td>10.544296</td>\n",
       "      <td>18 and more</td>\n",
       "      <td>?</td>\n",
       "    </tr>\n",
       "    <tr>\n",
       "      <th>3</th>\n",
       "      <td>1</td>\n",
       "      <td>1</td>\n",
       "      <td>1</td>\n",
       "      <td>1</td>\n",
       "      <td>1</td>\n",
       "      <td>1</td>\n",
       "      <td>0</td>\n",
       "      <td>0</td>\n",
       "      <td>1</td>\n",
       "      <td>1</td>\n",
       "      <td>14.679893</td>\n",
       "      <td>f</td>\n",
       "      <td>White-European</td>\n",
       "      <td>no</td>\n",
       "      <td>no</td>\n",
       "      <td>United Kingdom</td>\n",
       "      <td>no</td>\n",
       "      <td>13.167506</td>\n",
       "      <td>18 and more</td>\n",
       "      <td>Self</td>\n",
       "    </tr>\n",
       "    <tr>\n",
       "      <th>4</th>\n",
       "      <td>0</td>\n",
       "      <td>0</td>\n",
       "      <td>0</td>\n",
       "      <td>1</td>\n",
       "      <td>0</td>\n",
       "      <td>0</td>\n",
       "      <td>0</td>\n",
       "      <td>0</td>\n",
       "      <td>0</td>\n",
       "      <td>0</td>\n",
       "      <td>61.035290</td>\n",
       "      <td>f</td>\n",
       "      <td>South Asian</td>\n",
       "      <td>no</td>\n",
       "      <td>no</td>\n",
       "      <td>New Zealand</td>\n",
       "      <td>no</td>\n",
       "      <td>1.530098</td>\n",
       "      <td>18 and more</td>\n",
       "      <td>?</td>\n",
       "    </tr>\n",
       "    <tr>\n",
       "      <th>5</th>\n",
       "      <td>0</td>\n",
       "      <td>0</td>\n",
       "      <td>0</td>\n",
       "      <td>0</td>\n",
       "      <td>1</td>\n",
       "      <td>0</td>\n",
       "      <td>0</td>\n",
       "      <td>0</td>\n",
       "      <td>1</td>\n",
       "      <td>1</td>\n",
       "      <td>14.256686</td>\n",
       "      <td>m</td>\n",
       "      <td>Black</td>\n",
       "      <td>no</td>\n",
       "      <td>yes</td>\n",
       "      <td>Italy</td>\n",
       "      <td>no</td>\n",
       "      <td>7.949723</td>\n",
       "      <td>18 and more</td>\n",
       "      <td>Self</td>\n",
       "    </tr>\n",
       "  </tbody>\n",
       "</table>\n",
       "</div>"
      ],
      "text/plain": [
       "    A1_Score  A2_Score  A3_Score  A4_Score  A5_Score  A6_Score  A7_Score  A8_Score  A9_Score  A10_Score        age gender       ethnicity  \\\n",
       "ID                                                                                                                                          \n",
       "1          1         0         1         1         1         1         0         1         1          1  18.605396      f  White-European   \n",
       "2          0         0         0         0         0         0         0         0         0          1  13.829370      f     South Asian   \n",
       "3          1         1         1         1         1         1         0         0         1          1  14.679893      f  White-European   \n",
       "4          0         0         0         1         0         0         0         0         0          0  61.035290      f     South Asian   \n",
       "5          0         0         0         0         1         0         0         0         1          1  14.256686      m           Black   \n",
       "\n",
       "   jaundice austim   contry_of_res used_app_before     result     age_desc relation  \n",
       "ID                                                                                   \n",
       "1        no     no   United States              no   7.819715  18 and more     Self  \n",
       "2        no     no       Australia              no  10.544296  18 and more        ?  \n",
       "3        no     no  United Kingdom              no  13.167506  18 and more     Self  \n",
       "4        no     no     New Zealand              no   1.530098  18 and more        ?  \n",
       "5        no    yes           Italy              no   7.949723  18 and more     Self  "
      ]
     },
     "execution_count": 115,
     "metadata": {},
     "output_type": "execute_result"
    }
   ],
   "source": [
    "train.head(n=5)"
   ]
  },
  {
   "cell_type": "code",
   "execution_count": 116,
   "id": "c49dd542-c2df-49b0-8fe5-0202c612d1f6",
   "metadata": {},
   "outputs": [
    {
     "name": "stdout",
     "output_type": "stream",
     "text": [
      "<class 'pandas.core.frame.DataFrame'>\n",
      "Int64Index: 800 entries, 1 to 800\n",
      "Data columns (total 20 columns):\n",
      " #   Column           Non-Null Count  Dtype   \n",
      "---  ------           --------------  -----   \n",
      " 0   A1_Score         800 non-null    uint8   \n",
      " 1   A2_Score         800 non-null    uint8   \n",
      " 2   A3_Score         800 non-null    uint8   \n",
      " 3   A4_Score         800 non-null    uint8   \n",
      " 4   A5_Score         800 non-null    uint8   \n",
      " 5   A6_Score         800 non-null    uint8   \n",
      " 6   A7_Score         800 non-null    uint8   \n",
      " 7   A8_Score         800 non-null    uint8   \n",
      " 8   A9_Score         800 non-null    uint8   \n",
      " 9   A10_Score        800 non-null    uint8   \n",
      " 10  age              800 non-null    float32 \n",
      " 11  gender           800 non-null    category\n",
      " 12  ethnicity        800 non-null    category\n",
      " 13  jaundice         800 non-null    category\n",
      " 14  austim           800 non-null    category\n",
      " 15  contry_of_res    800 non-null    category\n",
      " 16  used_app_before  800 non-null    category\n",
      " 17  result           800 non-null    float32 \n",
      " 18  age_desc         800 non-null    category\n",
      " 19  relation         800 non-null    category\n",
      "dtypes: category(8), float32(2), uint8(10)\n",
      "memory usage: 27.2 KB\n"
     ]
    }
   ],
   "source": [
    "train.info()"
   ]
  },
  {
   "cell_type": "code",
   "execution_count": 117,
   "id": "84c3533d-12df-4b99-9c0d-4f1b62d385e4",
   "metadata": {},
   "outputs": [
    {
     "data": {
      "text/plain": [
       "(False, False)"
      ]
     },
     "execution_count": 117,
     "metadata": {},
     "output_type": "execute_result"
    }
   ],
   "source": [
    "# Exploration: there are no missing values in both train and test datasets\n",
    "test.isnull().values.any(), train.isnull().values.any() # "
   ]
  },
  {
   "cell_type": "code",
   "execution_count": 118,
   "id": "1f0b802b-4b21-4e88-8717-1fad2d727dd0",
   "metadata": {},
   "outputs": [
    {
     "data": {
      "text/plain": [
       "0    615\n",
       "1    185\n",
       "Name: Class/ASD, dtype: int64"
      ]
     },
     "execution_count": 118,
     "metadata": {},
     "output_type": "execute_result"
    }
   ],
   "source": [
    "# Exploration: evaluate if data is uniformly distributed\n",
    "train_target.value_counts() # data is umbalanced!"
   ]
  },
  {
   "cell_type": "code",
   "execution_count": 119,
   "id": "8c44bcb6-c4ea-4f44-a6e5-affc4b46b94f",
   "metadata": {},
   "outputs": [
    {
     "data": {
      "image/png": "[encoded data removed]",
      "text/plain": [
       "<Figure size 576x288 with 2 Axes>"
      ]
     },
     "metadata": {},
     "output_type": "display_data"
    }
   ],
   "source": [
    "# Exploration: visualization of target variable\n",
    "\n",
    "autistic = train_target.value_counts() \n",
    "\n",
    "fig, ax = plt.subplots(1,2, figsize =(6,3))\n",
    "fig.tight_layout(pad = 1, h_pad = 2, w_pad = 4)\n",
    "\n",
    "mylabels = ['ASD (No)', 'ASD (Yes)']\n",
    "mycolors = ['tab:blue', 'tab:orange']\n",
    "\n",
    "ax[0].bar(x=mylabels, height = autistic, color = mycolors, width = 0.75, alpha = .6)\n",
    "\n",
    "for tick in ax[0].get_xticklabels():\n",
    "    tick.set_rotation(90)\n",
    "ax[0].set_ylabel('counts')#, ax[0].set_yticks(np.arange(0,4000,500))\n",
    "\n",
    "ax[1].pie(autistic.values, labels = mylabels, colors = mycolors, autopct='%2.2f%%',shadow=True, startangle=90);"
   ]
  },
  {
   "cell_type": "code",
   "execution_count": 120,
   "id": "315acf7e-729a-4c7b-98b1-83c694190c0f",
   "metadata": {},
   "outputs": [
    {
     "data": {
      "text/html": [
       "<div>\n",
       "<style scoped>\n",
       "    .dataframe tbody tr th:only-of-type {\n",
       "        vertical-align: middle;\n",
       "    }\n",
       "\n",
       "    .dataframe tbody tr th {\n",
       "        vertical-align: top;\n",
       "    }\n",
       "\n",
       "    .dataframe thead th {\n",
       "        text-align: right;\n",
       "    }\n",
       "</style>\n",
       "<table border=\"1\" class=\"dataframe\">\n",
       "  <thead>\n",
       "    <tr style=\"text-align: right;\">\n",
       "      <th></th>\n",
       "      <th>A1_Score</th>\n",
       "      <th>A2_Score</th>\n",
       "      <th>A3_Score</th>\n",
       "      <th>A4_Score</th>\n",
       "      <th>A5_Score</th>\n",
       "      <th>A6_Score</th>\n",
       "      <th>A7_Score</th>\n",
       "      <th>A8_Score</th>\n",
       "      <th>A9_Score</th>\n",
       "      <th>A10_Score</th>\n",
       "      <th>age</th>\n",
       "      <th>result</th>\n",
       "    </tr>\n",
       "  </thead>\n",
       "  <tbody>\n",
       "    <tr>\n",
       "      <th>count</th>\n",
       "      <td>800.000000</td>\n",
       "      <td>800.00000</td>\n",
       "      <td>800.000000</td>\n",
       "      <td>800.00000</td>\n",
       "      <td>800.000000</td>\n",
       "      <td>800.00000</td>\n",
       "      <td>800.000000</td>\n",
       "      <td>800.000000</td>\n",
       "      <td>800.000000</td>\n",
       "      <td>800.000000</td>\n",
       "      <td>800.000000</td>\n",
       "      <td>800.000000</td>\n",
       "    </tr>\n",
       "    <tr>\n",
       "      <th>mean</th>\n",
       "      <td>0.582500</td>\n",
       "      <td>0.28625</td>\n",
       "      <td>0.321250</td>\n",
       "      <td>0.41500</td>\n",
       "      <td>0.457500</td>\n",
       "      <td>0.20875</td>\n",
       "      <td>0.273750</td>\n",
       "      <td>0.717500</td>\n",
       "      <td>0.316250</td>\n",
       "      <td>0.460000</td>\n",
       "      <td>28.612303</td>\n",
       "      <td>7.058527</td>\n",
       "    </tr>\n",
       "    <tr>\n",
       "      <th>std</th>\n",
       "      <td>0.493455</td>\n",
       "      <td>0.45229</td>\n",
       "      <td>0.467249</td>\n",
       "      <td>0.49303</td>\n",
       "      <td>0.498502</td>\n",
       "      <td>0.40667</td>\n",
       "      <td>0.446161</td>\n",
       "      <td>0.450497</td>\n",
       "      <td>0.465303</td>\n",
       "      <td>0.498709</td>\n",
       "      <td>12.872375</td>\n",
       "      <td>3.788970</td>\n",
       "    </tr>\n",
       "    <tr>\n",
       "      <th>min</th>\n",
       "      <td>0.000000</td>\n",
       "      <td>0.00000</td>\n",
       "      <td>0.000000</td>\n",
       "      <td>0.00000</td>\n",
       "      <td>0.000000</td>\n",
       "      <td>0.00000</td>\n",
       "      <td>0.000000</td>\n",
       "      <td>0.000000</td>\n",
       "      <td>0.000000</td>\n",
       "      <td>0.000000</td>\n",
       "      <td>9.560505</td>\n",
       "      <td>-2.594654</td>\n",
       "    </tr>\n",
       "    <tr>\n",
       "      <th>25%</th>\n",
       "      <td>0.000000</td>\n",
       "      <td>0.00000</td>\n",
       "      <td>0.000000</td>\n",
       "      <td>0.00000</td>\n",
       "      <td>0.000000</td>\n",
       "      <td>0.00000</td>\n",
       "      <td>0.000000</td>\n",
       "      <td>0.000000</td>\n",
       "      <td>0.000000</td>\n",
       "      <td>0.000000</td>\n",
       "      <td>19.282082</td>\n",
       "      <td>4.527556</td>\n",
       "    </tr>\n",
       "    <tr>\n",
       "      <th>50%</th>\n",
       "      <td>1.000000</td>\n",
       "      <td>0.00000</td>\n",
       "      <td>0.000000</td>\n",
       "      <td>0.00000</td>\n",
       "      <td>0.000000</td>\n",
       "      <td>0.00000</td>\n",
       "      <td>0.000000</td>\n",
       "      <td>1.000000</td>\n",
       "      <td>0.000000</td>\n",
       "      <td>0.000000</td>\n",
       "      <td>25.479960</td>\n",
       "      <td>6.893472</td>\n",
       "    </tr>\n",
       "    <tr>\n",
       "      <th>75%</th>\n",
       "      <td>1.000000</td>\n",
       "      <td>1.00000</td>\n",
       "      <td>1.000000</td>\n",
       "      <td>1.00000</td>\n",
       "      <td>1.000000</td>\n",
       "      <td>0.00000</td>\n",
       "      <td>1.000000</td>\n",
       "      <td>1.000000</td>\n",
       "      <td>1.000000</td>\n",
       "      <td>1.000000</td>\n",
       "      <td>33.154757</td>\n",
       "      <td>9.892981</td>\n",
       "    </tr>\n",
       "    <tr>\n",
       "      <th>max</th>\n",
       "      <td>1.000000</td>\n",
       "      <td>1.00000</td>\n",
       "      <td>1.000000</td>\n",
       "      <td>1.00000</td>\n",
       "      <td>1.000000</td>\n",
       "      <td>1.00000</td>\n",
       "      <td>1.000000</td>\n",
       "      <td>1.000000</td>\n",
       "      <td>1.000000</td>\n",
       "      <td>1.000000</td>\n",
       "      <td>72.402489</td>\n",
       "      <td>13.390868</td>\n",
       "    </tr>\n",
       "  </tbody>\n",
       "</table>\n",
       "</div>"
      ],
      "text/plain": [
       "         A1_Score   A2_Score    A3_Score   A4_Score    A5_Score   A6_Score    A7_Score    A8_Score    A9_Score   A10_Score         age  \\\n",
       "count  800.000000  800.00000  800.000000  800.00000  800.000000  800.00000  800.000000  800.000000  800.000000  800.000000  800.000000   \n",
       "mean     0.582500    0.28625    0.321250    0.41500    0.457500    0.20875    0.273750    0.717500    0.316250    0.460000   28.612303   \n",
       "std      0.493455    0.45229    0.467249    0.49303    0.498502    0.40667    0.446161    0.450497    0.465303    0.498709   12.872375   \n",
       "min      0.000000    0.00000    0.000000    0.00000    0.000000    0.00000    0.000000    0.000000    0.000000    0.000000    9.560505   \n",
       "25%      0.000000    0.00000    0.000000    0.00000    0.000000    0.00000    0.000000    0.000000    0.000000    0.000000   19.282082   \n",
       "50%      1.000000    0.00000    0.000000    0.00000    0.000000    0.00000    0.000000    1.000000    0.000000    0.000000   25.479960   \n",
       "75%      1.000000    1.00000    1.000000    1.00000    1.000000    0.00000    1.000000    1.000000    1.000000    1.000000   33.154757   \n",
       "max      1.000000    1.00000    1.000000    1.00000    1.000000    1.00000    1.000000    1.000000    1.000000    1.000000   72.402489   \n",
       "\n",
       "           result  \n",
       "count  800.000000  \n",
       "mean     7.058527  \n",
       "std      3.788970  \n",
       "min     -2.594654  \n",
       "25%      4.527556  \n",
       "50%      6.893472  \n",
       "75%      9.892981  \n",
       "max     13.390868  "
      ]
     },
     "execution_count": 120,
     "metadata": {},
     "output_type": "execute_result"
    }
   ],
   "source": [
    "train.describe() # numeric variables, "
   ]
  },
  {
   "cell_type": "code",
   "execution_count": 121,
   "id": "022e6c08-2cfe-4041-b94c-e238112ad649",
   "metadata": {},
   "outputs": [
    {
     "data": {
      "text/html": [
       "<div>\n",
       "<style scoped>\n",
       "    .dataframe tbody tr th:only-of-type {\n",
       "        vertical-align: middle;\n",
       "    }\n",
       "\n",
       "    .dataframe tbody tr th {\n",
       "        vertical-align: top;\n",
       "    }\n",
       "\n",
       "    .dataframe thead th {\n",
       "        text-align: right;\n",
       "    }\n",
       "</style>\n",
       "<table border=\"1\" class=\"dataframe\">\n",
       "  <thead>\n",
       "    <tr style=\"text-align: right;\">\n",
       "      <th></th>\n",
       "      <th>A1_Score</th>\n",
       "      <th>A2_Score</th>\n",
       "      <th>A3_Score</th>\n",
       "      <th>A4_Score</th>\n",
       "      <th>A5_Score</th>\n",
       "      <th>A6_Score</th>\n",
       "      <th>A7_Score</th>\n",
       "      <th>A8_Score</th>\n",
       "      <th>A9_Score</th>\n",
       "      <th>A10_Score</th>\n",
       "      <th>age</th>\n",
       "      <th>result</th>\n",
       "    </tr>\n",
       "  </thead>\n",
       "  <tbody>\n",
       "    <tr>\n",
       "      <th>count</th>\n",
       "      <td>200.000000</td>\n",
       "      <td>200.000000</td>\n",
       "      <td>200.000000</td>\n",
       "      <td>200.000000</td>\n",
       "      <td>200.000000</td>\n",
       "      <td>200.00000</td>\n",
       "      <td>200.000000</td>\n",
       "      <td>200.000000</td>\n",
       "      <td>200.000000</td>\n",
       "      <td>200.000000</td>\n",
       "      <td>200.000000</td>\n",
       "      <td>200.000000</td>\n",
       "    </tr>\n",
       "    <tr>\n",
       "      <th>mean</th>\n",
       "      <td>0.585000</td>\n",
       "      <td>0.285000</td>\n",
       "      <td>0.355000</td>\n",
       "      <td>0.450000</td>\n",
       "      <td>0.475000</td>\n",
       "      <td>0.21000</td>\n",
       "      <td>0.285000</td>\n",
       "      <td>0.725000</td>\n",
       "      <td>0.330000</td>\n",
       "      <td>0.390000</td>\n",
       "      <td>27.875051</td>\n",
       "      <td>6.912688</td>\n",
       "    </tr>\n",
       "    <tr>\n",
       "      <th>std</th>\n",
       "      <td>0.493958</td>\n",
       "      <td>0.452547</td>\n",
       "      <td>0.479714</td>\n",
       "      <td>0.498742</td>\n",
       "      <td>0.500628</td>\n",
       "      <td>0.40833</td>\n",
       "      <td>0.452547</td>\n",
       "      <td>0.447635</td>\n",
       "      <td>0.471393</td>\n",
       "      <td>0.488974</td>\n",
       "      <td>12.489215</td>\n",
       "      <td>3.949887</td>\n",
       "    </tr>\n",
       "    <tr>\n",
       "      <th>min</th>\n",
       "      <td>0.000000</td>\n",
       "      <td>0.000000</td>\n",
       "      <td>0.000000</td>\n",
       "      <td>0.000000</td>\n",
       "      <td>0.000000</td>\n",
       "      <td>0.00000</td>\n",
       "      <td>0.000000</td>\n",
       "      <td>0.000000</td>\n",
       "      <td>0.000000</td>\n",
       "      <td>0.000000</td>\n",
       "      <td>7.822865</td>\n",
       "      <td>-1.721289</td>\n",
       "    </tr>\n",
       "    <tr>\n",
       "      <th>25%</th>\n",
       "      <td>0.000000</td>\n",
       "      <td>0.000000</td>\n",
       "      <td>0.000000</td>\n",
       "      <td>0.000000</td>\n",
       "      <td>0.000000</td>\n",
       "      <td>0.00000</td>\n",
       "      <td>0.000000</td>\n",
       "      <td>0.000000</td>\n",
       "      <td>0.000000</td>\n",
       "      <td>0.000000</td>\n",
       "      <td>18.889948</td>\n",
       "      <td>4.303175</td>\n",
       "    </tr>\n",
       "    <tr>\n",
       "      <th>50%</th>\n",
       "      <td>1.000000</td>\n",
       "      <td>0.000000</td>\n",
       "      <td>0.000000</td>\n",
       "      <td>0.000000</td>\n",
       "      <td>0.000000</td>\n",
       "      <td>0.00000</td>\n",
       "      <td>0.000000</td>\n",
       "      <td>1.000000</td>\n",
       "      <td>0.000000</td>\n",
       "      <td>0.000000</td>\n",
       "      <td>24.754095</td>\n",
       "      <td>7.138223</td>\n",
       "    </tr>\n",
       "    <tr>\n",
       "      <th>75%</th>\n",
       "      <td>1.000000</td>\n",
       "      <td>1.000000</td>\n",
       "      <td>1.000000</td>\n",
       "      <td>1.000000</td>\n",
       "      <td>1.000000</td>\n",
       "      <td>0.00000</td>\n",
       "      <td>1.000000</td>\n",
       "      <td>1.000000</td>\n",
       "      <td>1.000000</td>\n",
       "      <td>1.000000</td>\n",
       "      <td>31.165790</td>\n",
       "      <td>9.756596</td>\n",
       "    </tr>\n",
       "    <tr>\n",
       "      <th>max</th>\n",
       "      <td>1.000000</td>\n",
       "      <td>1.000000</td>\n",
       "      <td>1.000000</td>\n",
       "      <td>1.000000</td>\n",
       "      <td>1.000000</td>\n",
       "      <td>1.00000</td>\n",
       "      <td>1.000000</td>\n",
       "      <td>1.000000</td>\n",
       "      <td>1.000000</td>\n",
       "      <td>1.000000</td>\n",
       "      <td>66.163940</td>\n",
       "      <td>13.369400</td>\n",
       "    </tr>\n",
       "  </tbody>\n",
       "</table>\n",
       "</div>"
      ],
      "text/plain": [
       "         A1_Score    A2_Score    A3_Score    A4_Score    A5_Score   A6_Score    A7_Score    A8_Score    A9_Score   A10_Score         age  \\\n",
       "count  200.000000  200.000000  200.000000  200.000000  200.000000  200.00000  200.000000  200.000000  200.000000  200.000000  200.000000   \n",
       "mean     0.585000    0.285000    0.355000    0.450000    0.475000    0.21000    0.285000    0.725000    0.330000    0.390000   27.875051   \n",
       "std      0.493958    0.452547    0.479714    0.498742    0.500628    0.40833    0.452547    0.447635    0.471393    0.488974   12.489215   \n",
       "min      0.000000    0.000000    0.000000    0.000000    0.000000    0.00000    0.000000    0.000000    0.000000    0.000000    7.822865   \n",
       "25%      0.000000    0.000000    0.000000    0.000000    0.000000    0.00000    0.000000    0.000000    0.000000    0.000000   18.889948   \n",
       "50%      1.000000    0.000000    0.000000    0.000000    0.000000    0.00000    0.000000    1.000000    0.000000    0.000000   24.754095   \n",
       "75%      1.000000    1.000000    1.000000    1.000000    1.000000    0.00000    1.000000    1.000000    1.000000    1.000000   31.165790   \n",
       "max      1.000000    1.000000    1.000000    1.000000    1.000000    1.00000    1.000000    1.000000    1.000000    1.000000   66.163940   \n",
       "\n",
       "           result  \n",
       "count  200.000000  \n",
       "mean     6.912688  \n",
       "std      3.949887  \n",
       "min     -1.721289  \n",
       "25%      4.303175  \n",
       "50%      7.138223  \n",
       "75%      9.756596  \n",
       "max     13.369400  "
      ]
     },
     "execution_count": 121,
     "metadata": {},
     "output_type": "execute_result"
    }
   ],
   "source": [
    "test.describe() # numeric variables, "
   ]
  },
  {
   "cell_type": "code",
   "execution_count": 122,
   "id": "02a34051-6485-4324-99d9-6a0ec56488fa",
   "metadata": {},
   "outputs": [],
   "source": [
    "test.rename(columns={'austim':'autism'}, inplace=True)"
   ]
  },
  {
   "cell_type": "code",
   "execution_count": 123,
   "id": "2a2c63c5-97bd-48db-8798-17bdf5e45fd9",
   "metadata": {},
   "outputs": [
    {
     "data": {
      "text/plain": [
       "Index(['A1_Score', 'A2_Score', 'A3_Score', 'A4_Score', 'A5_Score', 'A6_Score', 'A7_Score', 'A8_Score', 'A9_Score', 'A10_Score', 'age',\n",
       "       'gender', 'ethnicity', 'jaundice', 'autism', 'contry_of_res', 'used_app_before', 'result', 'age_desc', 'relation'],\n",
       "      dtype='object')"
      ]
     },
     "execution_count": 123,
     "metadata": {},
     "output_type": "execute_result"
    }
   ],
   "source": [
    "test.columns"
   ]
  },
  {
   "cell_type": "code",
   "execution_count": 124,
   "id": "7d30b24b-1588-47a0-9e06-a6de7492dcd6",
   "metadata": {},
   "outputs": [],
   "source": [
    "train.rename(columns={'austim':'autism'}, inplace=True)"
   ]
  },
  {
   "cell_type": "code",
   "execution_count": 125,
   "id": "88895d09-4324-4cb0-9f4a-8cec0f59c358",
   "metadata": {},
   "outputs": [
    {
     "data": {
      "text/plain": [
       "Index(['A1_Score', 'A2_Score', 'A3_Score', 'A4_Score', 'A5_Score', 'A6_Score', 'A7_Score', 'A8_Score', 'A9_Score', 'A10_Score', 'age',\n",
       "       'gender', 'ethnicity', 'jaundice', 'autism', 'contry_of_res', 'used_app_before', 'result', 'age_desc', 'relation'],\n",
       "      dtype='object')"
      ]
     },
     "execution_count": 125,
     "metadata": {},
     "output_type": "execute_result"
    }
   ],
   "source": [
    "train.columns"
   ]
  },
  {
   "cell_type": "code",
   "execution_count": 126,
   "id": "15629d98-e261-4109-84db-8e244cf03697",
   "metadata": {},
   "outputs": [],
   "source": [
    "test.rename(columns={'contry_of_res':'country_of_res'}, inplace=True)"
   ]
  },
  {
   "cell_type": "code",
   "execution_count": 127,
   "id": "13d605b9-a2be-436b-b802-aa10d33f061b",
   "metadata": {},
   "outputs": [
    {
     "data": {
      "text/plain": [
       "Index(['A1_Score', 'A2_Score', 'A3_Score', 'A4_Score', 'A5_Score', 'A6_Score', 'A7_Score', 'A8_Score', 'A9_Score', 'A10_Score', 'age',\n",
       "       'gender', 'ethnicity', 'jaundice', 'autism', 'country_of_res', 'used_app_before', 'result', 'age_desc', 'relation'],\n",
       "      dtype='object')"
      ]
     },
     "execution_count": 127,
     "metadata": {},
     "output_type": "execute_result"
    }
   ],
   "source": [
    "test.columns"
   ]
  },
  {
   "cell_type": "code",
   "execution_count": 128,
   "id": "5ca79f2d-8b01-4c5a-bc8d-e7507112cb47",
   "metadata": {},
   "outputs": [],
   "source": [
    "train.rename(columns={'contry_of_res':'country_of_res'}, inplace=True)"
   ]
  },
  {
   "cell_type": "code",
   "execution_count": 129,
   "id": "9441b71a-da2e-4b5f-bab1-95ec0fd59083",
   "metadata": {},
   "outputs": [
    {
     "data": {
      "text/plain": [
       "Index(['A1_Score', 'A2_Score', 'A3_Score', 'A4_Score', 'A5_Score', 'A6_Score', 'A7_Score', 'A8_Score', 'A9_Score', 'A10_Score', 'age',\n",
       "       'gender', 'ethnicity', 'jaundice', 'autism', 'country_of_res', 'used_app_before', 'result', 'age_desc', 'relation'],\n",
       "      dtype='object')"
      ]
     },
     "execution_count": 129,
     "metadata": {},
     "output_type": "execute_result"
    }
   ],
   "source": [
    "train.columns"
   ]
  },
  {
   "cell_type": "code",
   "execution_count": null,
   "id": "08393664-035c-49cd-a6c3-7c7a8b700a0d",
   "metadata": {},
   "outputs": [],
   "source": []
  },
  {
   "cell_type": "code",
   "execution_count": null,
   "id": "de7b70a4-6906-4009-91d9-bb2ad27f889e",
   "metadata": {},
   "outputs": [],
   "source": []
  },
  {
   "cell_type": "code",
   "execution_count": 130,
   "id": "bda8b591-71b9-44d9-920c-31d5925c7f88",
   "metadata": {},
   "outputs": [
    {
     "name": "stdout",
     "output_type": "stream",
     "text": [
      "BIVARIATE   : gender -> ['f', 'm']\n",
      "MULTIVARIATE: ethnicity -> ['White-European', 'South Asian', 'Black', 'Asian', 'Middle Eastern ', '?', 'others', 'Latino', 'Turkish', 'Others', 'Hispanic', 'Pasifika']\n",
      "BIVARIATE   : jaundice -> ['no', 'yes']\n",
      "BIVARIATE   : autism -> ['no', 'yes']\n",
      "MULTIVARIATE: country_of_res -> ['United States', 'Australia', 'United Kingdom', 'New Zealand', 'Italy', 'Nicaragua', 'Canada', 'United Arab Emirates', 'Netherlands', 'Sri Lanka', 'India', 'Armenia', 'Sierra Leone', 'Argentina', 'Azerbaijan', 'Iceland', 'Egypt', 'Serbia', 'Afghanistan', 'Costa Rica', 'Jordan', 'Angola', 'Pakistan', 'Brazil', 'Ireland', 'Kazakhstan', 'Viet Nam', 'Ethiopia', 'Austria', 'Finland', 'France', 'Malaysia', 'Japan', 'Spain', 'Philippines', 'Iran', 'Czech Republic', 'Russia', 'Romania', 'Mexico', 'Belgium', 'Aruba', 'Uruguay', 'Indonesia', 'Ukraine', 'AmericanSamoa', 'Germany', 'China', 'Iraq', 'Tonga', 'South Africa', 'Saudi Arabia', 'Hong Kong', 'Bahamas', 'Ecuador', 'Cyprus', 'Bangladesh', 'Oman', 'Bolivia', 'Sweden', 'Niger']\n",
      "BIVARIATE   : used_app_before -> ['no', 'yes']\n",
      "UNIVARIATE   : age_desc -> ['18 and more']\n",
      "MULTIVARIATE: relation -> ['Self', '?', 'Health care professional', 'Parent', 'Relative', 'Others']\n"
     ]
    }
   ],
   "source": [
    "# train.select_dtypes(['category']) # category variables\n",
    "\n",
    "for col in train.select_dtypes(['category']).columns :\n",
    "    myval = train[col].unique().tolist()\n",
    "    if len(myval) == 2:\n",
    "        print(f'BIVARIATE   : {col} -> {train[col].unique().tolist()}')\n",
    "    elif len(myval) == 1:\n",
    "        print(f'UNIVARIATE   : {col} -> {train[col].unique().tolist()}')\n",
    "    else:\n",
    "        print(f'MULTIVARIATE: {col} -> {train[col].unique().tolist()}')"
   ]
  },
  {
   "cell_type": "code",
   "execution_count": 131,
   "id": "80be1e88-167c-4983-b11a-38f98ad04650",
   "metadata": {},
   "outputs": [
    {
     "name": "stdout",
     "output_type": "stream",
     "text": [
      "BIVARIATE   : gender -> ['m', 'f']\n",
      "MULTIVARIATE: ethnicity -> ['Asian', '?', 'Middle Eastern ', 'White-European', 'Latino', 'Pasifika', 'Black', 'Hispanic', 'South Asian', 'Others', 'Turkish', 'others']\n",
      "BIVARIATE   : jaundice -> ['no', 'yes']\n",
      "BIVARIATE   : autism -> ['no', 'yes']\n",
      "MULTIVARIATE: country_of_res -> ['United Arab Emirates', 'New Zealand', 'Austria', 'Bahamas', 'Australia', 'Jordan', 'United States', 'Russia', 'Ethiopia', 'Belgium', 'India', 'United Kingdom', 'Mexico', 'AmericanSamoa', 'Armenia', 'Pakistan', 'Canada', 'Netherlands', 'Afghanistan', 'Iraq', 'Brazil', 'Spain', 'France', 'Burundi', 'Iran', 'Argentina', 'Angola', 'Germany', 'Philippines', 'Sri Lanka', 'Serbia', 'Kazakhstan', 'Malaysia', 'South Africa', 'Egypt', 'Viet Nam', 'Iceland', 'Lebanon', 'Italy', 'Saudi Arabia', 'Romania', 'Ukraine', 'Azerbaijan', 'Ireland']\n",
      "BIVARIATE   : used_app_before -> ['no', 'yes']\n",
      "UNIVARIATE   : age_desc -> ['18 and more']\n",
      "MULTIVARIATE: relation -> ['?', 'Parent', 'Self', 'Relative', 'Health care professional', 'Others']\n"
     ]
    }
   ],
   "source": [
    "for col in test.select_dtypes(['category']).columns :\n",
    "    myval = test[col].unique().tolist()\n",
    "    if len(myval) == 2:\n",
    "        print(f'BIVARIATE   : {col} -> {test[col].unique().tolist()}')\n",
    "    elif len(myval) == 1:\n",
    "        print(f'UNIVARIATE   : {col} -> {test[col].unique().tolist()}')\n",
    "    else:\n",
    "        print(f'MULTIVARIATE: {col} -> {test[col].unique().tolist()}')"
   ]
  },
  {
   "cell_type": "code",
   "execution_count": 132,
   "id": "06eb448f-15ea-49cf-9772-bc0bc2c4bf97",
   "metadata": {},
   "outputs": [
    {
     "data": {
      "text/plain": [
       "(['18 and more']\n",
       " Categories (1, object): ['18 and more'],\n",
       " ['18 and more']\n",
       " Categories (1, object): ['18 and more'])"
      ]
     },
     "execution_count": 132,
     "metadata": {},
     "output_type": "execute_result"
    }
   ],
   "source": [
    "train['age_desc'].unique(), test['age_desc'].unique() # this variable is not informative, we will remove it"
   ]
  },
  {
   "cell_type": "code",
   "execution_count": 133,
   "id": "0e20e6b4-c39e-46bf-aa4b-ee88e2d0926e",
   "metadata": {},
   "outputs": [
    {
     "name": "stdout",
     "output_type": "stream",
     "text": [
      "test                      --   train     \n",
      "=============================================\n",
      "?                         --   ?              \n",
      "Health care professional  --   Health care professional\n",
      "Others                    --   Others         \n",
      "Parent                    --   Parent         \n",
      "Relative                  --   Relative       \n",
      "Self                      --   Self           \n"
     ]
    },
    {
     "data": {
      "text/plain": [
       "(6, 6)"
      ]
     },
     "execution_count": 133,
     "metadata": {},
     "output_type": "execute_result"
    }
   ],
   "source": [
    "# let me check if both datasets relations are idential\n",
    "print(f'{\"test\":25s} --   {\"train\":10s}')\n",
    "print(f'{\"=\"*45}')\n",
    "for i,j in zip(np.sort(test.relation.unique()), np.sort(train.relation.unique())):\n",
    "    print(f'{i:25s} --   {j:15s}')\n",
    "    \n",
    "len(test.relation.unique()), len(train.relation.unique())  "
   ]
  },
  {
   "cell_type": "code",
   "execution_count": 134,
   "id": "123b44af-6c9a-4550-9f8b-9d30e3b9cc6a",
   "metadata": {},
   "outputs": [
    {
     "name": "stdout",
     "output_type": "stream",
     "text": [
      "test            --   train     \n",
      "===================================\n",
      "?               --   ?              \n",
      "Asian           --   Asian          \n",
      "Black           --   Black          \n",
      "Hispanic        --   Hispanic       \n",
      "Latino          --   Latino         \n",
      "Middle Eastern  --   Middle Eastern \n",
      "Others          --   Others         \n",
      "Pasifika        --   Pasifika       \n",
      "South Asian     --   South Asian    \n",
      "Turkish         --   Turkish        \n",
      "White-European  --   White-European \n",
      "others          --   others         \n"
     ]
    },
    {
     "data": {
      "text/plain": [
       "(12, 12)"
      ]
     },
     "execution_count": 134,
     "metadata": {},
     "output_type": "execute_result"
    }
   ],
   "source": [
    "# let me check if both datasets are representatives\n",
    "print(f'{\"test\":15s} --   {\"train\":10s}')\n",
    "print(f'{\"=\"*35}')\n",
    "for i,j in zip(np.sort(test.ethnicity.unique()), np.sort(train.ethnicity.unique())):\n",
    "    print(f'{i:15s} --   {j:15s}')\n",
    "len(test.ethnicity.unique()), len(train.ethnicity.unique())"
   ]
  },
  {
   "cell_type": "code",
   "execution_count": 135,
   "id": "97042df8-7c89-41d9-8f5a-175c8d04b7c6",
   "metadata": {},
   "outputs": [
    {
     "name": "stdout",
     "output_type": "stream",
     "text": [
      " 0 --   ?              \n",
      " 1 --   Asian          \n",
      " 2 --   Black          \n",
      " 3 --   Hispanic       \n",
      " 4 --   Latino         \n",
      " 5 --   Middle Eastern \n",
      " 6 --   Others         \n",
      " 7 --   Pasifika       \n",
      " 8 --   South Asian    \n",
      " 9 --   Turkish        \n",
      "10 --   White-European \n",
      "11 --   others         \n"
     ]
    }
   ],
   "source": [
    "for i,j in enumerate(np.sort(test.ethnicity.unique())):\n",
    "    print(f'{i:2d} --   {j:15s}')"
   ]
  },
  {
   "cell_type": "code",
   "execution_count": 136,
   "id": "c8d1cc98-cdaa-4800-91b9-8a8a288d241a",
   "metadata": {},
   "outputs": [
    {
     "name": "stdout",
     "output_type": "stream",
     "text": [
      " 0 --   ?              \n",
      " 1 --   Asian          \n",
      " 2 --   Black          \n",
      " 3 --   Hispanic       \n",
      " 4 --   Latino         \n",
      " 5 --   Middle Eastern \n",
      " 6 --   Others         \n",
      " 7 --   Pasifika       \n",
      " 8 --   South Asian    \n",
      " 9 --   Turkish        \n",
      "10 --   White-European \n",
      "11 --   others         \n"
     ]
    }
   ],
   "source": [
    "for i,j in enumerate(np.sort(train.ethnicity.unique())):\n",
    "    print(f'{i:2d} --   {j:15s}')"
   ]
  },
  {
   "cell_type": "code",
   "execution_count": 137,
   "id": "869f7cbe-df74-4fcd-a1fc-035e3dde2181",
   "metadata": {},
   "outputs": [
    {
     "data": {
      "text/plain": [
       "White-European     211\n",
       "?                  151\n",
       "Asian              134\n",
       "Middle Eastern     116\n",
       "Black               45\n",
       "Latino              44\n",
       "South Asian         35\n",
       "Others              24\n",
       "Pasifika            18\n",
       "Hispanic            16\n",
       "Turkish              4\n",
       "others               2\n",
       "Name: ethnicity, dtype: int64"
      ]
     },
     "execution_count": 137,
     "metadata": {},
     "output_type": "execute_result"
    }
   ],
   "source": [
    "train['ethnicity'].value_counts()"
   ]
  },
  {
   "cell_type": "code",
   "execution_count": 138,
   "id": "e4add915-db59-4217-8aa4-35a8f80514b7",
   "metadata": {},
   "outputs": [
    {
     "data": {
      "text/plain": [
       "White-European     48\n",
       "others             38\n",
       "Middle Eastern     34\n",
       "Asian              31\n",
       "Black              10\n",
       "South Asian         9\n",
       "Latino              7\n",
       "Pasifika            7\n",
       "Turkish             7\n",
       "Others              5\n",
       "Hispanic            4\n",
       "?                   0\n",
       "Name: ethnicity, dtype: int64"
      ]
     },
     "execution_count": 138,
     "metadata": {},
     "output_type": "execute_result"
    }
   ],
   "source": [
    "# ? is others in ethnicity and relation for training set\n",
    "\n",
    "# for train set:\n",
    "train.ethnicity[train['ethnicity'] =='others'] = '?'\n",
    "train['ethnicity'].value_counts()\n",
    "    \n",
    "#for test set:\n",
    "test.ethnicity[test['ethnicity'] =='?'] = 'others'\n",
    "test['ethnicity'].value_counts()"
   ]
  },
  {
   "cell_type": "code",
   "execution_count": 139,
   "id": "d0fa5a9e-6e9a-4ea2-b0c2-e4179242cdf6",
   "metadata": {},
   "outputs": [
    {
     "data": {
      "text/plain": [
       "(11, 11)"
      ]
     },
     "execution_count": 139,
     "metadata": {},
     "output_type": "execute_result"
    }
   ],
   "source": [
    "# If different ethnicit this will affect one-hot-encoding\n",
    "len(test.ethnicity.unique()), len(train.ethnicity.unique())"
   ]
  },
  {
   "cell_type": "code",
   "execution_count": 140,
   "id": "c105f0cf-458b-4a08-b4f6-e8d2c420c1fd",
   "metadata": {},
   "outputs": [
    {
     "data": {
      "text/plain": [
       "Self                        166\n",
       "?                            15\n",
       "Relative                     10\n",
       "Parent                        8\n",
       "Health care professional      1\n",
       "Others                        0\n",
       "Name: relation, dtype: int64"
      ]
     },
     "execution_count": 140,
     "metadata": {},
     "output_type": "execute_result"
    }
   ],
   "source": [
    "# for train set:\n",
    "train.relation[train['relation'] =='Others'] = '?'\n",
    "#train['relation'].value_counts()\n",
    "    \n",
    "#for test set:\n",
    "test.relation[test['relation'] =='Others'] = '?'\n",
    "test['relation'].value_counts()"
   ]
  },
  {
   "cell_type": "code",
   "execution_count": 141,
   "id": "627470ec-c94a-4794-82b3-f50d3e24181a",
   "metadata": {},
   "outputs": [
    {
     "data": {
      "text/plain": [
       "(5, 5)"
      ]
     },
     "execution_count": 141,
     "metadata": {},
     "output_type": "execute_result"
    }
   ],
   "source": [
    "# If different ethnicit this will affect one-hot-encoding\n",
    "len(test.relation.unique()), len(train.relation.unique())"
   ]
  },
  {
   "cell_type": "code",
   "execution_count": 142,
   "id": "1aaedae2-675c-497f-aa4a-5d3c3052abbb",
   "metadata": {},
   "outputs": [
    {
     "data": {
      "text/plain": [
       "(61, 44)"
      ]
     },
     "execution_count": 142,
     "metadata": {},
     "output_type": "execute_result"
    }
   ],
   "source": [
    "# Different ethnicities, this will affect one-hot-encoding!!!\n",
    "len(train['country_of_res'].unique()), len(test['country_of_res'].unique())"
   ]
  },
  {
   "cell_type": "code",
   "execution_count": 143,
   "id": "08dede62-5a02-4604-a346-c6e1425b9c4f",
   "metadata": {},
   "outputs": [
    {
     "data": {
      "text/plain": [
       "False"
      ]
     },
     "execution_count": 143,
     "metadata": {},
     "output_type": "execute_result"
    }
   ],
   "source": [
    "#Different countries, this will affect one-hot-encoding\n",
    "np.array_equiv(train['country_of_res'].unique(), test['country_of_res'].unique())"
   ]
  },
  {
   "cell_type": "code",
   "execution_count": 144,
   "id": "725936ab-6e69-4ba6-ab10-9e694bc1d5b7",
   "metadata": {},
   "outputs": [],
   "source": [
    "# We will map country\n",
    "\n",
    "# Load the dataset of country/region\n",
    "data = pd.read_csv('data/continents.csv') # small dataset, no need to reduce size\n",
    "#data = pd.read_csv('country-mapping-iso-continent-region/continents2.csv') # small dataset, no need to reduce size\n",
    "\n",
    "\n",
    "#print(data.region.unique())\n",
    "continent = pd.Series(data.region.values, index = data.name).to_dict() # create a dictionary\n",
    "continent['Antarctica'] = 'Antarctica'"
   ]
  },
  {
   "cell_type": "code",
   "execution_count": 145,
   "id": "99beb485-2e27-49ef-95f3-e611c5785fcd",
   "metadata": {},
   "outputs": [
    {
     "data": {
      "text/plain": [
       "Int64Index([77, 130, 170, 488, 711, 795], dtype='int64', name='ID')"
      ]
     },
     "execution_count": 145,
     "metadata": {},
     "output_type": "execute_result"
    }
   ],
   "source": [
    "# Viet Nam should be Vietnam\n",
    "train[train['country_of_res'] == 'Viet Nam'].index"
   ]
  },
  {
   "cell_type": "code",
   "execution_count": 146,
   "id": "3de2b962-b2f8-42dd-85f0-0e50c46542b6",
   "metadata": {},
   "outputs": [
    {
     "data": {
      "text/plain": [
       "Int64Index([318, 616], dtype='int64', name='ID')"
      ]
     },
     "execution_count": 146,
     "metadata": {},
     "output_type": "execute_result"
    }
   ],
   "source": [
    "# AmericanSamoa should be American Samoa\n",
    "train[train['country_of_res'] == 'AmericanSamoa'].index"
   ]
  },
  {
   "cell_type": "code",
   "execution_count": null,
   "id": "bfaa41c0-7ee5-4f15-ad84-8c3d706fe3ae",
   "metadata": {},
   "outputs": [],
   "source": []
  },
  {
   "cell_type": "code",
   "execution_count": null,
   "id": "8749dc88-f527-4da5-a1ce-4d0d8dabb828",
   "metadata": {},
   "outputs": [],
   "source": []
  },
  {
   "cell_type": "code",
   "execution_count": 147,
   "id": "796aaf9a-4a7f-45bf-8351-a7e72a32ff41",
   "metadata": {},
   "outputs": [],
   "source": [
    "true_idx = train_target[(train_target==1)].index \n",
    "false_idx = train_target[(train_target==0)].index\n",
    "#np.sum([(train_target==0) & (train['country_of_res']=='United States')])"
   ]
  },
  {
   "cell_type": "code",
   "execution_count": 148,
   "id": "096f8cca-6bb5-44b6-9368-ec339bd6c274",
   "metadata": {},
   "outputs": [
    {
     "name": "stdout",
     "output_type": "stream",
     "text": [
      "Number of unique countries = 61\n",
      "Length ranking dictionary  = 61\n"
     ]
    }
   ],
   "source": [
    "# Create country weight dictionary \n",
    "\n",
    "ncountry = train['country_of_res'].nunique()\n",
    "print(f'Number of unique countries = {ncountry}')\n",
    "\n",
    "# 1. Count and rank countries\n",
    "ranking = range(1,ncountry+1)[::-1]\n",
    "country = train['country_of_res'].value_counts().index.to_list()\n",
    "rank_country = dict( zip(country, ranking))\n",
    "print(f'Length ranking dictionary  = {len(rank_country)}')"
   ]
  },
  {
   "cell_type": "code",
   "execution_count": 149,
   "id": "81ebf65d-57e0-4e58-8b8d-0e44afe76c96",
   "metadata": {},
   "outputs": [],
   "source": [
    "# 2. apply a pos/neg ratio to the rank\n",
    "\n",
    "for key, val in rank_country.items():\n",
    "    pos = np.sum( [(train_target==1) & (train['country_of_res']==key)] ) # when Class/ASD is yes and country is key\n",
    "    neg = np.sum( [(train_target==0) & (train['country_of_res']==key)] ) # when Class/ASD is no  and country is key\n",
    "    assert pos+neg == (train['country_of_res']==key).sum()\n",
    "    if neg ==0:\n",
    "        ratio = 0 # avoid zero-division error\n",
    "    else:\n",
    "        ratio = pos/neg\n",
    "    rank_country[key] = ratio*val # n_total"
   ]
  },
  {
   "cell_type": "code",
   "execution_count": 150,
   "id": "b5cc42ad-7290-404e-b8ea-73290581bcc9",
   "metadata": {},
   "outputs": [
    {
     "data": {
      "image/png": "[encoded data removed]",
      "text/plain": [
       "<Figure size 1152x288 with 1 Axes>"
      ]
     },
     "metadata": {},
     "output_type": "display_data"
    }
   ],
   "source": [
    "# 3. (0-1) normalize those ratios\n",
    "mymax = np.max(list(rank_country.values()))\n",
    "mymin = np.min(list(rank_country.values()))\n",
    "normalize = lambda x: (x-mymin)/(mymax-mymin)\n",
    "weight_country = {key:normalize(val) for key,val in rank_country.items()}\n",
    "pd.Series(weight_country).plot.bar(figsize=(12,3), fontsize=8, title='Country');"
   ]
  },
  {
   "cell_type": "code",
   "execution_count": 151,
   "id": "cea15132-3c6c-41f2-8637-9f9de4c02d14",
   "metadata": {},
   "outputs": [
    {
     "data": {
      "text/plain": [
       "(0.0, 0.0)"
      ]
     },
     "execution_count": 151,
     "metadata": {},
     "output_type": "execute_result"
    }
   ],
   "source": [
    "weight_country['Viet Nam'], weight_country['AmericanSamoa']"
   ]
  },
  {
   "cell_type": "code",
   "execution_count": 152,
   "id": "2b2e996f-9a78-4b6b-93e8-4cdc292d216e",
   "metadata": {},
   "outputs": [],
   "source": [
    "# correct two typos in dictionary\n",
    "weight_country['Vietnam'] = weight_country.pop('Viet Nam')\n",
    "weight_country['American Samoa'] = weight_country.pop('AmericanSamoa')"
   ]
  },
  {
   "cell_type": "code",
   "execution_count": 153,
   "id": "1dfc677c-beba-4347-bf4c-1a01748bfd5b",
   "metadata": {},
   "outputs": [
    {
     "name": "stdout",
     "output_type": "stream",
     "text": [
      "Number of unique ethnicities = 11\n",
      "Length ranking dictionary  = 11\n"
     ]
    },
    {
     "data": {
      "image/png": "[encoded data removed]",
      "text/plain": [
       "<Figure size 1152x288 with 1 Axes>"
      ]
     },
     "metadata": {},
     "output_type": "display_data"
    }
   ],
   "source": [
    "# Create ethnicity weight dictionary \n",
    "nethnicity = train['ethnicity'].nunique()\n",
    "print(f'Number of unique ethnicities = {nethnicity}')\n",
    "\n",
    "# 1. Count and rank ethnicities\n",
    "\n",
    "ranking = range(1,nethnicity+1)[::-1]\n",
    "ethnicity = train['ethnicity'].value_counts().index.to_list()\n",
    "rank_ethnicity = dict( zip(ethnicity, ranking))\n",
    "print(f'Length ranking dictionary  = {len(rank_ethnicity)}')\n",
    "\n",
    "# 2. apply a pos/neg ratio to the rank\n",
    "for key, val in rank_ethnicity.items():\n",
    "    pos = np.sum( [(train_target==1) & (train['ethnicity']==key)] ) # when Class/ASD is yes and country is key\n",
    "    neg = np.sum( [(train_target==0) & (train['ethnicity']==key)] ) # when Class/ASD is no  and country is key\n",
    "    assert pos+neg == (train['ethnicity']==key).sum()\n",
    "    if neg ==0:\n",
    "        ratio = 0 # avoid zero-division error\n",
    "    else:\n",
    "        ratio = pos/neg\n",
    "    rank_ethnicity[key] = ratio*val # n_total\n",
    "\n",
    "# 3. (0-1) normalize those ratios\n",
    "mymax = np.max(list(rank_ethnicity.values()))\n",
    "mymin = np.min(list(rank_ethnicity.values()))\n",
    "normalize = lambda x: (x-mymin)/(mymax-mymin)\n",
    "weight_ethnicity = {key:normalize(val) for key,val in rank_ethnicity.items()}\n",
    "pd.Series(weight_ethnicity).plot.bar(figsize=(12,3), fontsize=8, title='Ethnicity');"
   ]
  },
  {
   "cell_type": "code",
   "execution_count": 154,
   "id": "7fc31e14-7f73-43df-8379-5036f4b8f7cb",
   "metadata": {},
   "outputs": [
    {
     "name": "stdout",
     "output_type": "stream",
     "text": [
      "Number of unique relation = 5\n",
      "Length ranking dictionary  = 5\n"
     ]
    },
    {
     "data": {
      "image/png": "[encoded data removed]",
      "text/plain": [
       "<Figure size 1152x288 with 1 Axes>"
      ]
     },
     "metadata": {},
     "output_type": "display_data"
    }
   ],
   "source": [
    "# Create ethnicity weight dictionary \n",
    "nrelation = train['relation'].nunique()\n",
    "print(f'Number of unique relation = {nrelation}')\n",
    "\n",
    "\n",
    "# 1. Count and rank ethnicities\n",
    "\n",
    "ranking = range(1,nrelation+1)[::-1]\n",
    "relation = train['relation'].value_counts().index.to_list()\n",
    "rank_relation = dict( zip(relation, ranking))\n",
    "print(f'Length ranking dictionary  = {len(rank_relation)}')\n",
    "\n",
    "\n",
    "# 2. apply a pos/neg ratio to the rank\n",
    "for key, val in rank_relation.items():\n",
    "    pos = np.sum( [(train_target==1) & (train['relation']==key)] ) # when Class/ASD is yes and country is key\n",
    "    neg = np.sum( [(train_target==0) & (train['relation']==key)] ) # when Class/ASD is no  and country is key\n",
    "    assert pos+neg == (train['relation']==key).sum()\n",
    "    if neg ==0:\n",
    "        ratio = 0 # avoid zero-division error\n",
    "    else:\n",
    "        ratio = pos/neg\n",
    "    rank_relation[key] = ratio*val # n_total\n",
    "\n",
    "# 3. (0-1) normalize those ratios\n",
    "mymax = np.max(list(rank_relation.values()))\n",
    "mymin = np.min(list(rank_relation.values()))\n",
    "normalize = lambda x: (x-mymin)/(mymax-mymin)\n",
    "weight_relation = {key:normalize(val) for key,val in rank_relation.items()}\n",
    "pd.Series(weight_relation).plot.bar(figsize=(12,3), fontsize=8, title='Relation');"
   ]
  },
  {
   "cell_type": "code",
   "execution_count": 155,
   "id": "edd6f9ab-6201-46a7-bd23-2723a6dc9ee6",
   "metadata": {},
   "outputs": [],
   "source": [
    "# Group by age\n",
    "for df in (train,test):\n",
    "    df.loc[(df.age < 14),  'AgeGroup'] = 'children'\n",
    "    df.loc[(df.age >= 14) &  (df.age < 24),  'AgeGroup'] = 'youth'\n",
    "    df.loc[(df.age >= 24) & (df.age < 64),  'AgeGroup'] = 'adult'\n",
    "    df.loc[(df.age >= 64),  'AgeGroup'] = 'senior'\n",
    "    "
   ]
  },
  {
   "cell_type": "code",
   "execution_count": 156,
   "id": "006f91ae-835f-4b7a-881d-213f2701f0e4",
   "metadata": {},
   "outputs": [
    {
     "name": "stdout",
     "output_type": "stream",
     "text": [
      "Number of AgeGroup  = 4\n",
      "Length ranking dictionary  = 4\n"
     ]
    },
    {
     "data": {
      "image/png": "[encoded data removed]",
      "text/plain": [
       "<Figure size 1152x288 with 1 Axes>"
      ]
     },
     "metadata": {},
     "output_type": "display_data"
    }
   ],
   "source": [
    "# Create age weight dictionary \n",
    "nage = train['AgeGroup'].nunique()\n",
    "print(f'Number of AgeGroup  = {nage}')\n",
    "\n",
    "\n",
    "# 1. Count and rank ages\n",
    "\n",
    "ranking = range(1,nage+1)[::-1]\n",
    "AgeGroup = train['AgeGroup'].value_counts().index.to_list()\n",
    "rank_AgeGroup = dict( zip(AgeGroup, ranking))\n",
    "print(f'Length ranking dictionary  = {len(rank_AgeGroup)}')\n",
    "\n",
    "\n",
    "# 2. apply a pos/neg ratio to the rank\n",
    "for key, val in rank_AgeGroup.items():\n",
    "    pos = np.sum( [(train_target==1) & (train['AgeGroup']==key)] ) # when Class/ASD is yes and country is key\n",
    "    neg = np.sum( [(train_target==0) & (train['AgeGroup']==key)] ) # when Class/ASD is no  and country is key\n",
    "    assert pos+neg == (train['AgeGroup']==key).sum()\n",
    "    if neg ==0:\n",
    "        ratio = 0 # avoid zero-division error\n",
    "    else:\n",
    "        ratio = pos/neg\n",
    "    rank_AgeGroup[key] = ratio*val # n_total\n",
    "\n",
    "# 3. (0-1) normalize those ratios\n",
    "mymax = np.max(list(rank_AgeGroup.values()))\n",
    "mymin = np.min(list(rank_AgeGroup.values()))\n",
    "normalize = lambda x: (x-mymin)/(mymax-mymin)\n",
    "weight_AgeGroup = {key:normalize(val) for key,val in rank_AgeGroup.items()}\n",
    "pd.Series(weight_AgeGroup).plot.bar(figsize=(12,3), fontsize=8, title='AgeGroup');"
   ]
  },
  {
   "cell_type": "markdown",
   "id": "761bc652-89a6-44d9-93d8-2aa0ef64b20e",
   "metadata": {},
   "source": [
    "#Featureenginering&_selection"
   ]
  },
  {
   "cell_type": "code",
   "execution_count": 157,
   "id": "8fa0cbaa-ad89-4968-bec2-eaf373261297",
   "metadata": {},
   "outputs": [],
   "source": [
    "from sklearn.base import BaseEstimator, TransformerMixin"
   ]
  },
  {
   "cell_type": "code",
   "execution_count": 158,
   "id": "c90c7f5b-064f-437c-b811-82b95173f246",
   "metadata": {},
   "outputs": [],
   "source": [
    "class ContinentTransformer(BaseEstimator, TransformerMixin):\n",
    "    \"\"\"\n",
    "    Custom feature transform a Country in one of the \n",
    "    five continents of the world, 'Asia' 'Europe' \n",
    "    'Africa' 'Oceania' 'Americas', or 'nan'.\n",
    "    It creates a 'continent' feature.\n",
    "    \n",
    "    To use it:\n",
    "    >>> myregion = RegionTransformer(continent = data)\n",
    "    >>> df = myregion.fit_transform(X = train)\n",
    "    \"\"\"\n",
    "\n",
    "    def __init__(self, continent:dict) -> None:\n",
    "        \"\"\"\n",
    "        Remove the list of features from a pandas \n",
    "        Dataframe object.\n",
    "        \n",
    "        Parameter\n",
    "        ---------\n",
    "        continent:  (dict) of countries/continent pairs.\n",
    "        \"\"\"\n",
    "\n",
    "        self.continent = continent\n",
    "        self.df = None\n",
    "    \n",
    "    \n",
    "    def get_feature_names_out(self) -> List[str]:\n",
    "        \"\"\"\n",
    "        Get column names (necessary for Pipelines)\n",
    "        \"\"\"\n",
    "        \n",
    "        if self.df is None:\n",
    "            mycols = ['None']\n",
    "        else:\n",
    "            mycols =  self.df.columns.tolist()\n",
    "            \n",
    "        return mycols\n",
    "        \n",
    "\n",
    "    def fit(self, X:pd.DataFrame, y = None):\n",
    "        \"\"\"\n",
    "        Remove the column lists and update dataset\n",
    "        \"\"\"\n",
    "        \n",
    "        df = X.copy()\n",
    "        \n",
    "        # correct 'AmericanSamoa and 'Viet Nam'\n",
    "        typo1 = df[df['country_of_res'] == 'AmericanSamoa'].index\n",
    "        typo2 = df[df['country_of_res'] == 'Viet Nam'].index\n",
    "        \n",
    "        if len(typo1):\n",
    "            df['country_of_res'] = df['country_of_res'].cat.add_categories('American Samoa')\n",
    "            for i in typo1:\n",
    "                df.loc[i,'country_of_res'] = 'American Samoa'\n",
    "        \n",
    "        if len(typo2):\n",
    "            df['country_of_res'] = df['country_of_res'].cat.add_categories('Vietnam')\n",
    "            for i in typo2:\n",
    "                df.loc[i,'country_of_res'] = 'Vietnam'\n",
    "        \n",
    "        \n",
    "        df['continent'] = df['country_of_res'].map(self.continent)\n",
    "        self.df = df\n",
    "        \n",
    "        return self\n",
    "   \n",
    "    def transform(self, X:pd.DataFrame = None) -> pd.DataFrame:\n",
    "        \"\"\"\n",
    "        Returns a pandas DataFrame with removed features.\n",
    "        \n",
    "        Parameter\n",
    "        ---------\n",
    "        dataframe:  Pandas DataFrame object\n",
    "        \"\"\"\n",
    "        \n",
    "        df = X.copy()\n",
    "        \n",
    "        # correct 'AmericanSamoa and 'Viet Nam'\n",
    "        typo1 = df[df['country_of_res'] == 'AmericanSamoa'].index.tolist()\n",
    "        typo2 = df[df['country_of_res'] == 'Viet Nam'].index.tolist()\n",
    "        \n",
    "        if len(typo1):\n",
    "            df['country_of_res'] = df['country_of_res'].cat.add_categories('American Samoa')\n",
    "            for i in typo1:\n",
    "                df.loc[i,'country_of_res'] = 'American Samoa'\n",
    "        \n",
    "        if len(typo2):\n",
    "            df['country_of_res'] = df['country_of_res'].cat.add_categories('Vietnam')\n",
    "            for i in typo2:\n",
    "                df.loc[i,'country_of_res'] = 'Vietnam'\n",
    "        \n",
    "        # Add region to dataset\n",
    "        df['continent'] = df['country_of_res'].map(self.continent)\n",
    "        return df"
   ]
  },
  {
   "cell_type": "code",
   "execution_count": 159,
   "id": "8c64ca17-edac-495d-8a3c-04fe13d028a5",
   "metadata": {},
   "outputs": [
    {
     "data": {
      "text/html": [
       "<div>\n",
       "<style scoped>\n",
       "    .dataframe tbody tr th:only-of-type {\n",
       "        vertical-align: middle;\n",
       "    }\n",
       "\n",
       "    .dataframe tbody tr th {\n",
       "        vertical-align: top;\n",
       "    }\n",
       "\n",
       "    .dataframe thead th {\n",
       "        text-align: right;\n",
       "    }\n",
       "</style>\n",
       "<table border=\"1\" class=\"dataframe\">\n",
       "  <thead>\n",
       "    <tr style=\"text-align: right;\">\n",
       "      <th></th>\n",
       "      <th>country_of_res</th>\n",
       "      <th>continent</th>\n",
       "    </tr>\n",
       "    <tr>\n",
       "      <th>ID</th>\n",
       "      <th></th>\n",
       "      <th></th>\n",
       "    </tr>\n",
       "  </thead>\n",
       "  <tbody>\n",
       "    <tr>\n",
       "      <th>1</th>\n",
       "      <td>United States</td>\n",
       "      <td>Americas</td>\n",
       "    </tr>\n",
       "    <tr>\n",
       "      <th>2</th>\n",
       "      <td>Australia</td>\n",
       "      <td>Oceania</td>\n",
       "    </tr>\n",
       "    <tr>\n",
       "      <th>3</th>\n",
       "      <td>United Kingdom</td>\n",
       "      <td>Europe</td>\n",
       "    </tr>\n",
       "    <tr>\n",
       "      <th>4</th>\n",
       "      <td>New Zealand</td>\n",
       "      <td>Oceania</td>\n",
       "    </tr>\n",
       "    <tr>\n",
       "      <th>5</th>\n",
       "      <td>Italy</td>\n",
       "      <td>Europe</td>\n",
       "    </tr>\n",
       "    <tr>\n",
       "      <th>...</th>\n",
       "      <td>...</td>\n",
       "      <td>...</td>\n",
       "    </tr>\n",
       "    <tr>\n",
       "      <th>796</th>\n",
       "      <td>United States</td>\n",
       "      <td>Americas</td>\n",
       "    </tr>\n",
       "    <tr>\n",
       "      <th>797</th>\n",
       "      <td>New Zealand</td>\n",
       "      <td>Oceania</td>\n",
       "    </tr>\n",
       "    <tr>\n",
       "      <th>798</th>\n",
       "      <td>Jordan</td>\n",
       "      <td>Asia</td>\n",
       "    </tr>\n",
       "    <tr>\n",
       "      <th>799</th>\n",
       "      <td>United States</td>\n",
       "      <td>Americas</td>\n",
       "    </tr>\n",
       "    <tr>\n",
       "      <th>800</th>\n",
       "      <td>New Zealand</td>\n",
       "      <td>Oceania</td>\n",
       "    </tr>\n",
       "  </tbody>\n",
       "</table>\n",
       "<p>800 rows × 2 columns</p>\n",
       "</div>"
      ],
      "text/plain": [
       "     country_of_res continent\n",
       "ID                           \n",
       "1     United States  Americas\n",
       "2         Australia   Oceania\n",
       "3    United Kingdom    Europe\n",
       "4       New Zealand   Oceania\n",
       "5             Italy    Europe\n",
       "..              ...       ...\n",
       "796   United States  Americas\n",
       "797     New Zealand   Oceania\n",
       "798          Jordan      Asia\n",
       "799   United States  Americas\n",
       "800     New Zealand   Oceania\n",
       "\n",
       "[800 rows x 2 columns]"
      ]
     },
     "execution_count": 159,
     "metadata": {},
     "output_type": "execute_result"
    }
   ],
   "source": [
    "myregion = ContinentTransformer(continent = continent)\n",
    "df_t = myregion.transform(X = train)\n",
    "\n",
    "df_t[['country_of_res','continent']]"
   ]
  },
  {
   "cell_type": "code",
   "execution_count": 160,
   "id": "9800a5cd-c76e-49eb-ba5a-3c9680d96185",
   "metadata": {},
   "outputs": [
    {
     "data": {
      "text/plain": [
       "country_of_res    Vietnam\n",
       "continent            Asia\n",
       "Name: 77, dtype: object"
      ]
     },
     "execution_count": 160,
     "metadata": {},
     "output_type": "execute_result"
    }
   ],
   "source": [
    "df_t.loc[77,['country_of_res','continent']] # check Vietnam"
   ]
  },
  {
   "cell_type": "code",
   "execution_count": 161,
   "id": "a99efcf2-2347-44dd-8b57-4377a31bc9ac",
   "metadata": {},
   "outputs": [
    {
     "data": {
      "text/plain": [
       "country_of_res    American Samoa\n",
       "continent                Oceania\n",
       "Name: 318, dtype: object"
      ]
     },
     "execution_count": 161,
     "metadata": {},
     "output_type": "execute_result"
    }
   ],
   "source": [
    "df_t.loc[318,['country_of_res','continent']] # check American Samoa"
   ]
  },
  {
   "cell_type": "code",
   "execution_count": 162,
   "id": "25c700d3-6b2a-4178-ae25-c644b017e260",
   "metadata": {},
   "outputs": [],
   "source": [
    "class WeightEncoder(BaseEstimator, TransformerMixin):\n",
    "    \"\"\"\n",
    "    Custom feature for Label encoding based on weight \n",
    "    of categorical variables. The weight is based on the \n",
    "    relative proportion associated with the success of the\n",
    "    dependent variable.\n",
    "    \n",
    "    To use it:\n",
    "    >>> myrank = {'united states': 1, 'spain':10}\n",
    "    >>> myfreq = WeightEncoder(col_name = ['country_of_res'], weight = myrank)\n",
    "    >>> df = myfreq.fit_transform(X = train)\n",
    "    \n",
    "    It creates a new feature called 'w_col_name'.\n",
    "    \"\"\"\n",
    "\n",
    "    def __init__(self, col_name:str, weight:dict)-> None:\n",
    "        \"\"\"\n",
    "        Remove the list of features from a pandas \n",
    "        Dataframe object.\n",
    "        \n",
    "        Parameter\n",
    "        ---------\n",
    "        col_name:  the variable to remove\n",
    "        rank: (dict) containg the variable and frequency to \n",
    "        be substitued (eg. myrank = {'united states': 1, 'spain':10}\n",
    "        \n",
    "        \"\"\"\n",
    "\n",
    "        self.col_name = col_name\n",
    "        self.weight = weight\n",
    "        self.df = None\n",
    "   \n",
    "       \n",
    "\n",
    "    def fit(self, X:pd.DataFrame, y = None):\n",
    "        \"\"\"\n",
    "        Remove the column lists and update dataset\n",
    "        \"\"\"\n",
    "        df = X.copy()\n",
    "                \n",
    "        df['w_' + self.col_name] = df[self.col_name].map(self.weight).fillna(0)   \n",
    "        self.df = df\n",
    "        \n",
    "        return self\n",
    "   \n",
    "    def transform(self, X:pd.DataFrame = None) -> pd.DataFrame:\n",
    "        \"\"\"\n",
    "        Returns a pandas DataFrame with removed features.\n",
    "        \n",
    "        Parameter\n",
    "        ---------\n",
    "        dataframe:  Pandas DataFrame object\n",
    "        \"\"\"\n",
    "        df = X.copy()\n",
    "        \n",
    "        # 0 if not found in dictionary\n",
    "        df['w_' + self.col_name] = df[self.col_name].map(self.weight).fillna(0)\n",
    "    \n",
    "        return df"
   ]
  },
  {
   "cell_type": "code",
   "execution_count": 163,
   "id": "6c88f5ff-0036-47ff-90e0-738c661554c5",
   "metadata": {},
   "outputs": [
    {
     "data": {
      "text/html": [
       "<div>\n",
       "<style scoped>\n",
       "    .dataframe tbody tr th:only-of-type {\n",
       "        vertical-align: middle;\n",
       "    }\n",
       "\n",
       "    .dataframe tbody tr th {\n",
       "        vertical-align: top;\n",
       "    }\n",
       "\n",
       "    .dataframe thead th {\n",
       "        text-align: right;\n",
       "    }\n",
       "</style>\n",
       "<table border=\"1\" class=\"dataframe\">\n",
       "  <thead>\n",
       "    <tr style=\"text-align: right;\">\n",
       "      <th></th>\n",
       "      <th>w_country_of_res</th>\n",
       "      <th>country_of_res</th>\n",
       "    </tr>\n",
       "    <tr>\n",
       "      <th>ID</th>\n",
       "      <th></th>\n",
       "      <th></th>\n",
       "    </tr>\n",
       "  </thead>\n",
       "  <tbody>\n",
       "    <tr>\n",
       "      <th>1</th>\n",
       "      <td>1.000000</td>\n",
       "      <td>United States</td>\n",
       "    </tr>\n",
       "    <tr>\n",
       "      <th>2</th>\n",
       "      <td>0.600252</td>\n",
       "      <td>Australia</td>\n",
       "    </tr>\n",
       "    <tr>\n",
       "      <th>3</th>\n",
       "      <td>0.659595</td>\n",
       "      <td>United Kingdom</td>\n",
       "    </tr>\n",
       "    <tr>\n",
       "      <th>4</th>\n",
       "      <td>0.091032</td>\n",
       "      <td>New Zealand</td>\n",
       "    </tr>\n",
       "    <tr>\n",
       "      <th>5</th>\n",
       "      <td>0.174863</td>\n",
       "      <td>Italy</td>\n",
       "    </tr>\n",
       "    <tr>\n",
       "      <th>...</th>\n",
       "      <td>...</td>\n",
       "      <td>...</td>\n",
       "    </tr>\n",
       "    <tr>\n",
       "      <th>796</th>\n",
       "      <td>1.000000</td>\n",
       "      <td>United States</td>\n",
       "    </tr>\n",
       "    <tr>\n",
       "      <th>797</th>\n",
       "      <td>0.091032</td>\n",
       "      <td>New Zealand</td>\n",
       "    </tr>\n",
       "    <tr>\n",
       "      <th>798</th>\n",
       "      <td>0.159113</td>\n",
       "      <td>Jordan</td>\n",
       "    </tr>\n",
       "    <tr>\n",
       "      <th>799</th>\n",
       "      <td>1.000000</td>\n",
       "      <td>United States</td>\n",
       "    </tr>\n",
       "    <tr>\n",
       "      <th>800</th>\n",
       "      <td>0.091032</td>\n",
       "      <td>New Zealand</td>\n",
       "    </tr>\n",
       "  </tbody>\n",
       "</table>\n",
       "<p>800 rows × 2 columns</p>\n",
       "</div>"
      ],
      "text/plain": [
       "     w_country_of_res  country_of_res\n",
       "ID                                   \n",
       "1            1.000000   United States\n",
       "2            0.600252       Australia\n",
       "3            0.659595  United Kingdom\n",
       "4            0.091032     New Zealand\n",
       "5            0.174863           Italy\n",
       "..                ...             ...\n",
       "796          1.000000   United States\n",
       "797          0.091032     New Zealand\n",
       "798          0.159113          Jordan\n",
       "799          1.000000   United States\n",
       "800          0.091032     New Zealand\n",
       "\n",
       "[800 rows x 2 columns]"
      ]
     },
     "execution_count": 163,
     "metadata": {},
     "output_type": "execute_result"
    }
   ],
   "source": [
    "wencoder = WeightEncoder(col_name = 'country_of_res', weight = weight_country)\n",
    "df = wencoder.fit_transform(X = train)\n",
    "df[['w_country_of_res','country_of_res']]"
   ]
  },
  {
   "cell_type": "code",
   "execution_count": 164,
   "id": "90c2764d-2252-4944-bd78-0994d5caf95b",
   "metadata": {},
   "outputs": [
    {
     "data": {
      "text/plain": [
       "w_country_of_res              0.0\n",
       "country_of_res      AmericanSamoa\n",
       "Name: 318, dtype: object"
      ]
     },
     "execution_count": 164,
     "metadata": {},
     "output_type": "execute_result"
    }
   ],
   "source": [
    "df.loc[318,['w_country_of_res', 'country_of_res']]  # 'Viet Nam' and 'AmericanSamoa' "
   ]
  },
  {
   "cell_type": "code",
   "execution_count": 165,
   "id": "d315e8de-bd20-4bd9-9865-1945f3809924",
   "metadata": {},
   "outputs": [
    {
     "data": {
      "text/plain": [
       "w_country_of_res         0.0\n",
       "country_of_res      Viet Nam\n",
       "Name: 77, dtype: object"
      ]
     },
     "execution_count": 165,
     "metadata": {},
     "output_type": "execute_result"
    }
   ],
   "source": [
    "df.loc[77,['w_country_of_res', 'country_of_res']] # do not forget applying ContinentTransformer before"
   ]
  },
  {
   "cell_type": "code",
   "execution_count": 166,
   "id": "3f5e1dc3-c7c9-4dc8-a556-e6552bafcbad",
   "metadata": {},
   "outputs": [],
   "source": [
    "class DropperTransformer(BaseEstimator, TransformerMixin):\n",
    "    \"\"\"\n",
    "    Custom feature dropper to add to custom Pipelines.\n",
    "    To use it:\n",
    "    >>> mydropper = DropperTransformer(features = ['age'])\n",
    "    >>> df = mydropper.fit_transform(X = train)\n",
    "    \"\"\"\n",
    "\n",
    "    def __init__(self, features:List[str])-> None:\n",
    "        \"\"\"\n",
    "        Remove the list of features from a pandas \n",
    "        Dataframe object.\n",
    "        \n",
    "        Parameter\n",
    "        ---------\n",
    "        features:  (list) of variables to remove\n",
    "        \"\"\"\n",
    "\n",
    "        self.features = features\n",
    "        self.df = None\n",
    "    \n",
    "    \n",
    "    def get_feature_names_out(self)-> List[str]:\n",
    "        \"\"\"\n",
    "        Get column names (necessary for Pipelines)\n",
    "        \"\"\"\n",
    "        if self.df is None:\n",
    "            mycols = ['None']\n",
    "        else:\n",
    "            mycols =  self.df.columns.tolist()\n",
    "            \n",
    "        return mycols\n",
    "        \n",
    "\n",
    "    def fit(self, X:pd.DataFrame, y = None):\n",
    "        \"\"\"\n",
    "        Remove the column lists and update dataset\n",
    "        \"\"\"\n",
    "        df = X.copy()\n",
    "        self.df = df.drop(self.features, axis = 1)\n",
    "        \n",
    "        return self\n",
    "   \n",
    "    def transform(self, X:pd.DataFrame = None) -> pd.DataFrame:\n",
    "        \"\"\"\n",
    "        Returns a pandas DataFrame with removed features.\n",
    "        \n",
    "        Parameter\n",
    "        ---------\n",
    "        dataframe:  Pandas DataFrame object\n",
    "        \"\"\"\n",
    "        df = X.copy()\n",
    "        \n",
    "        # Drop features\n",
    "        self.df = df.drop(self.features, axis = 1)\n",
    "        return self.df"
   ]
  },
  {
   "cell_type": "code",
   "execution_count": 167,
   "id": "453ab836-7aa1-4f7d-bb5b-73d024e642ad",
   "metadata": {},
   "outputs": [
    {
     "name": "stdout",
     "output_type": "stream",
     "text": [
      " 0 - A1_Score\n",
      " 1 - A2_Score\n",
      " 2 - A3_Score\n",
      " 3 - A4_Score\n",
      " 4 - A5_Score\n",
      " 5 - A6_Score\n",
      " 6 - A7_Score\n",
      " 7 - A8_Score\n",
      " 8 - A9_Score\n",
      " 9 - A10_Score\n",
      "10 - age\n",
      "11 - gender\n",
      "12 - ethnicity\n",
      "13 - jaundice\n",
      "14 - autism\n",
      "15 - country_of_res\n",
      "16 - used_app_before\n",
      "17 - result\n",
      "18 - relation\n",
      "19 - AgeGroup\n"
     ]
    }
   ],
   "source": [
    "mydropper = DropperTransformer(features = ['age_desc'])\n",
    "mydropper.fit(train)\n",
    "#df = mydropper.fit_transform(train)\n",
    "for i, col in enumerate(mydropper.get_feature_names_out()):\n",
    "    print(f'{i:2d} - {col}')"
   ]
  },
  {
   "cell_type": "markdown",
   "id": "3a7c6ef5-8cfd-491c-a5dc-4e030acdc56b",
   "metadata": {},
   "source": [
    "Feature selection with Pearson's Chi-square Test for Independence"
   ]
  },
  {
   "cell_type": "code",
   "execution_count": 168,
   "id": "6605bbfe-6909-42ed-a608-54574db4e836",
   "metadata": {},
   "outputs": [],
   "source": [
    "from sklearn.feature_selection import chi2"
   ]
  },
  {
   "cell_type": "code",
   "execution_count": 169,
   "id": "ca728dd0-d0b1-4ee7-9c12-5f14741d15dd",
   "metadata": {},
   "outputs": [],
   "source": [
    "from sklearn.preprocessing import OneHotEncoder"
   ]
  },
  {
   "cell_type": "code",
   "execution_count": 170,
   "id": "820f3f7e-d8a8-4a7e-8e25-8e66de7e267e",
   "metadata": {},
   "outputs": [
    {
     "data": {
      "text/html": [
       "<div>\n",
       "<style scoped>\n",
       "    .dataframe tbody tr th:only-of-type {\n",
       "        vertical-align: middle;\n",
       "    }\n",
       "\n",
       "    .dataframe tbody tr th {\n",
       "        vertical-align: top;\n",
       "    }\n",
       "\n",
       "    .dataframe thead th {\n",
       "        text-align: right;\n",
       "    }\n",
       "</style>\n",
       "<table border=\"1\" class=\"dataframe\">\n",
       "  <thead>\n",
       "    <tr style=\"text-align: right;\">\n",
       "      <th></th>\n",
       "      <th>category</th>\n",
       "      <th>Chi-Square</th>\n",
       "      <th>p-value</th>\n",
       "      <th>P&lt;0.05</th>\n",
       "    </tr>\n",
       "  </thead>\n",
       "  <tbody>\n",
       "    <tr>\n",
       "      <th>0</th>\n",
       "      <td>gender</td>\n",
       "      <td>6.462530</td>\n",
       "      <td>1.101727e-02</td>\n",
       "      <td>True</td>\n",
       "    </tr>\n",
       "    <tr>\n",
       "      <th>1</th>\n",
       "      <td>jaundice</td>\n",
       "      <td>21.981247</td>\n",
       "      <td>2.753276e-06</td>\n",
       "      <td>True</td>\n",
       "    </tr>\n",
       "    <tr>\n",
       "      <th>2</th>\n",
       "      <td>autism</td>\n",
       "      <td>97.114903</td>\n",
       "      <td>6.541865e-23</td>\n",
       "      <td>True</td>\n",
       "    </tr>\n",
       "    <tr>\n",
       "      <th>3</th>\n",
       "      <td>used_app_before</td>\n",
       "      <td>0.192265</td>\n",
       "      <td>6.610378e-01</td>\n",
       "      <td>False</td>\n",
       "    </tr>\n",
       "  </tbody>\n",
       "</table>\n",
       "</div>"
      ],
      "text/plain": [
       "          category  Chi-Square       p-value  P<0.05\n",
       "0           gender    6.462530  1.101727e-02    True\n",
       "1         jaundice   21.981247  2.753276e-06    True\n",
       "2           autism   97.114903  6.541865e-23    True\n",
       "3  used_app_before    0.192265  6.610378e-01   False"
      ]
     },
     "execution_count": 170,
     "metadata": {},
     "output_type": "execute_result"
    }
   ],
   "source": [
    "binary_features = ['gender', 'jaundice', 'autism', 'used_app_before']\n",
    "binary_encoder = OneHotEncoder(sparse=False, drop= 'if_binary')\n",
    "#foo = binary_encoder.fit_transform(train[binary_features])\n",
    "#cols = binary_encoder.get_feature_names_out()\n",
    "\n",
    "chi_score, p = chi2(X = binary_encoder.fit_transform(train[binary_features])  ,y = train_target)\n",
    "star = p <= 0.05 # if they are dependent, probability of Ho (independency) must be lower than 5%\n",
    "pd.DataFrame(zip(binary_features, chi_score, p, star), columns=['category', 'Chi-Square', 'p-value', 'P<0.05'])"
   ]
  },
  {
   "cell_type": "code",
   "execution_count": 171,
   "id": "4ce936ef-d34b-4347-8042-04ffc812c200",
   "metadata": {},
   "outputs": [
    {
     "data": {
      "text/html": [
       "<div>\n",
       "<style scoped>\n",
       "    .dataframe tbody tr th:only-of-type {\n",
       "        vertical-align: middle;\n",
       "    }\n",
       "\n",
       "    .dataframe tbody tr th {\n",
       "        vertical-align: top;\n",
       "    }\n",
       "\n",
       "    .dataframe thead th {\n",
       "        text-align: right;\n",
       "    }\n",
       "</style>\n",
       "<table border=\"1\" class=\"dataframe\">\n",
       "  <thead>\n",
       "    <tr style=\"text-align: right;\">\n",
       "      <th></th>\n",
       "      <th>category</th>\n",
       "      <th>Chi-Square</th>\n",
       "      <th>p-value</th>\n",
       "      <th>P&lt;0.05</th>\n",
       "    </tr>\n",
       "  </thead>\n",
       "  <tbody>\n",
       "    <tr>\n",
       "      <th>0</th>\n",
       "      <td>A1_Score</td>\n",
       "      <td>28.087740</td>\n",
       "      <td>1.159380e-07</td>\n",
       "      <td>True</td>\n",
       "    </tr>\n",
       "    <tr>\n",
       "      <th>1</th>\n",
       "      <td>A2_Score</td>\n",
       "      <td>82.757731</td>\n",
       "      <td>9.275235e-20</td>\n",
       "      <td>True</td>\n",
       "    </tr>\n",
       "    <tr>\n",
       "      <th>2</th>\n",
       "      <td>A3_Score</td>\n",
       "      <td>164.029628</td>\n",
       "      <td>1.490354e-37</td>\n",
       "      <td>True</td>\n",
       "    </tr>\n",
       "    <tr>\n",
       "      <th>3</th>\n",
       "      <td>A4_Score</td>\n",
       "      <td>123.063444</td>\n",
       "      <td>1.350604e-28</td>\n",
       "      <td>True</td>\n",
       "    </tr>\n",
       "    <tr>\n",
       "      <th>4</th>\n",
       "      <td>A5_Score</td>\n",
       "      <td>87.289627</td>\n",
       "      <td>9.373823e-21</td>\n",
       "      <td>True</td>\n",
       "    </tr>\n",
       "    <tr>\n",
       "      <th>5</th>\n",
       "      <td>A6_Score</td>\n",
       "      <td>186.356096</td>\n",
       "      <td>1.984980e-42</td>\n",
       "      <td>True</td>\n",
       "    </tr>\n",
       "    <tr>\n",
       "      <th>6</th>\n",
       "      <td>A7_Score</td>\n",
       "      <td>90.494446</td>\n",
       "      <td>1.854969e-21</td>\n",
       "      <td>True</td>\n",
       "    </tr>\n",
       "    <tr>\n",
       "      <th>7</th>\n",
       "      <td>A8_Score</td>\n",
       "      <td>10.842539</td>\n",
       "      <td>9.919460e-04</td>\n",
       "      <td>True</td>\n",
       "    </tr>\n",
       "    <tr>\n",
       "      <th>8</th>\n",
       "      <td>A9_Score</td>\n",
       "      <td>158.731010</td>\n",
       "      <td>2.142467e-36</td>\n",
       "      <td>True</td>\n",
       "    </tr>\n",
       "  </tbody>\n",
       "</table>\n",
       "</div>"
      ],
      "text/plain": [
       "   category  Chi-Square       p-value  P<0.05\n",
       "0  A1_Score   28.087740  1.159380e-07    True\n",
       "1  A2_Score   82.757731  9.275235e-20    True\n",
       "2  A3_Score  164.029628  1.490354e-37    True\n",
       "3  A4_Score  123.063444  1.350604e-28    True\n",
       "4  A5_Score   87.289627  9.373823e-21    True\n",
       "5  A6_Score  186.356096  1.984980e-42    True\n",
       "6  A7_Score   90.494446  1.854969e-21    True\n",
       "7  A8_Score   10.842539  9.919460e-04    True\n",
       "8  A9_Score  158.731010  2.142467e-36    True"
      ]
     },
     "execution_count": 171,
     "metadata": {},
     "output_type": "execute_result"
    }
   ],
   "source": [
    "# Note that A*_Score are also binary variables, we will test if they are related to the independent variable\n",
    "mylist = [f'A{i}_Score' for i in range(1,10)]\n",
    "\n",
    "chi_score, p = chi2(X = binary_encoder.fit_transform(train[mylist])  ,y = train_target)\n",
    "star = p <= 0.05\n",
    "pd.DataFrame(zip(mylist, chi_score, p, star), columns=['category', 'Chi-Square', 'p-value', 'P<0.05'])"
   ]
  },
  {
   "cell_type": "markdown",
   "id": "c62f0b8b-c617-4585-ac4f-4a26989b19b1",
   "metadata": {},
   "source": [
    "# Designing preprocessing Pipeline"
   ]
  },
  {
   "cell_type": "code",
   "execution_count": 172,
   "id": "b175f3d8-79b8-4ec5-95a0-9e8514ab5498",
   "metadata": {},
   "outputs": [],
   "source": [
    "# Transformation: create processing pipeline\n",
    "#from sklearn.pipeline import make_pipeline # to concatenate estimators and transformers (like Pipeline)\n",
    "#from sklearn.compose import make_column_transformer # to apply transformers to categories (ColumnTransformer)\n",
    "\n",
    "from sklearn.pipeline import Pipeline\n",
    "from sklearn.compose import ColumnTransformer\n",
    "\n",
    "from sklearn.preprocessing import StandardScaler\n",
    "from sklearn.preprocessing import OneHotEncoder"
   ]
  },
  {
   "cell_type": "code",
   "execution_count": 173,
   "id": "fd82af29-9beb-4b58-9b36-4804eef82af9",
   "metadata": {},
   "outputs": [
    {
     "name": "stdout",
     "output_type": "stream",
     "text": [
      "[ 0] -> A1_Score\n",
      "[ 1] -> A2_Score\n",
      "[ 2] -> A3_Score\n",
      "[ 3] -> A4_Score\n",
      "[ 4] -> A5_Score\n",
      "[ 5] -> A6_Score\n",
      "[ 6] -> A7_Score\n",
      "[ 7] -> A8_Score\n",
      "[ 8] -> A9_Score\n",
      "[ 9] -> A10_Score\n",
      "[10] -> age\n",
      "[11] -> ethnicity\n",
      "[12] -> jaundice\n",
      "[13] -> autism\n",
      "[14] -> result\n",
      "[15] -> relation\n",
      "[16] -> AgeGroup\n",
      "[17] -> continent\n",
      "[18] -> w_country_of_res\n",
      "[19] -> w_ethnicity\n",
      "[20] -> w_relation\n"
     ]
    }
   ],
   "source": [
    "country = ('country', ContinentTransformer(continent = continent)) # creates continent\n",
    "w_country = ('weight_country', WeightEncoder(col_name = 'country_of_res', weight = weight_country)) # creates w_contry_of_res \n",
    "w_ethnicity = ('weight_ethnicity', WeightEncoder(col_name = 'ethnicity', weight = weight_ethnicity)) # creates w_ethnicity\n",
    "w_relation = ('weight_relation', WeightEncoder(col_name = 'relation', weight = weight_relation)) # creates w_relation\n",
    "#w_age = ('weight_age', WeightEncoder(col_name = 'AgeGroup', weight=weight_AgeGroup)) # creates_w_AgeGroup\n",
    "\n",
    "dropper = ('dropper', DropperTransformer(features = ['age_desc', 'gender', 'used_app_before','country_of_res']))\n",
    "\n",
    "in_process = (country, w_country, w_ethnicity, w_relation, dropper)\n",
    "pipeline = Pipeline(steps = in_process)\n",
    "\n",
    "df = pipeline.fit_transform(train)\n",
    "#pipeline[1].get_feature_names_out()\n",
    "for i,col in enumerate(pipeline[-1].get_feature_names_out()):\n",
    "    print(f'[{i:2d}] -> {col}')"
   ]
  },
  {
   "cell_type": "code",
   "execution_count": 174,
   "id": "fd6ee1bf-4267-46b9-bd8a-a92673095d20",
   "metadata": {},
   "outputs": [
    {
     "data": {
      "text/html": [
       "<style>#sk-2d054f56-25f2-44dd-a084-d3e2ae2d11c4 {color: black;background-color: white;}#sk-2d054f56-25f2-44dd-a084-d3e2ae2d11c4 pre{padding: 0;}#sk-2d054f56-25f2-44dd-a084-d3e2ae2d11c4 div.sk-toggleable {background-color: white;}#sk-2d054f56-25f2-44dd-a084-d3e2ae2d11c4 label.sk-toggleable__label {cursor: pointer;display: block;width: 100%;margin-bottom: 0;padding: 0.3em;box-sizing: border-box;text-align: center;}#sk-2d054f56-25f2-44dd-a084-d3e2ae2d11c4 label.sk-toggleable__label-arrow:before {content: \"▸\";float: left;margin-right: 0.25em;color: #696969;}#sk-2d054f56-25f2-44dd-a084-d3e2ae2d11c4 label.sk-toggleable__label-arrow:hover:before {color: black;}#sk-2d054f56-25f2-44dd-a084-d3e2ae2d11c4 div.sk-estimator:hover label.sk-toggleable__label-arrow:before {color: black;}#sk-2d054f56-25f2-44dd-a084-d3e2ae2d11c4 div.sk-toggleable__content {max-height: 0;max-width: 0;overflow: hidden;text-align: left;background-color: #f0f8ff;}#sk-2d054f56-25f2-44dd-a084-d3e2ae2d11c4 div.sk-toggleable__content pre {margin: 0.2em;color: black;border-radius: 0.25em;background-color: #f0f8ff;}#sk-2d054f56-25f2-44dd-a084-d3e2ae2d11c4 input.sk-toggleable__control:checked~div.sk-toggleable__content {max-height: 200px;max-width: 100%;overflow: auto;}#sk-2d054f56-25f2-44dd-a084-d3e2ae2d11c4 input.sk-toggleable__control:checked~label.sk-toggleable__label-arrow:before {content: \"▾\";}#sk-2d054f56-25f2-44dd-a084-d3e2ae2d11c4 div.sk-estimator input.sk-toggleable__control:checked~label.sk-toggleable__label {background-color: #d4ebff;}#sk-2d054f56-25f2-44dd-a084-d3e2ae2d11c4 div.sk-label input.sk-toggleable__control:checked~label.sk-toggleable__label {background-color: #d4ebff;}#sk-2d054f56-25f2-44dd-a084-d3e2ae2d11c4 input.sk-hidden--visually {border: 0;clip: rect(1px 1px 1px 1px);clip: rect(1px, 1px, 1px, 1px);height: 1px;margin: -1px;overflow: hidden;padding: 0;position: absolute;width: 1px;}#sk-2d054f56-25f2-44dd-a084-d3e2ae2d11c4 div.sk-estimator {font-family: monospace;background-color: #f0f8ff;border: 1px dotted black;border-radius: 0.25em;box-sizing: border-box;margin-bottom: 0.5em;}#sk-2d054f56-25f2-44dd-a084-d3e2ae2d11c4 div.sk-estimator:hover {background-color: #d4ebff;}#sk-2d054f56-25f2-44dd-a084-d3e2ae2d11c4 div.sk-parallel-item::after {content: \"\";width: 100%;border-bottom: 1px solid gray;flex-grow: 1;}#sk-2d054f56-25f2-44dd-a084-d3e2ae2d11c4 div.sk-label:hover label.sk-toggleable__label {background-color: #d4ebff;}#sk-2d054f56-25f2-44dd-a084-d3e2ae2d11c4 div.sk-serial::before {content: \"\";position: absolute;border-left: 1px solid gray;box-sizing: border-box;top: 2em;bottom: 0;left: 50%;}#sk-2d054f56-25f2-44dd-a084-d3e2ae2d11c4 div.sk-serial {display: flex;flex-direction: column;align-items: center;background-color: white;padding-right: 0.2em;padding-left: 0.2em;}#sk-2d054f56-25f2-44dd-a084-d3e2ae2d11c4 div.sk-item {z-index: 1;}#sk-2d054f56-25f2-44dd-a084-d3e2ae2d11c4 div.sk-parallel {display: flex;align-items: stretch;justify-content: center;background-color: white;}#sk-2d054f56-25f2-44dd-a084-d3e2ae2d11c4 div.sk-parallel::before {content: \"\";position: absolute;border-left: 1px solid gray;box-sizing: border-box;top: 2em;bottom: 0;left: 50%;}#sk-2d054f56-25f2-44dd-a084-d3e2ae2d11c4 div.sk-parallel-item {display: flex;flex-direction: column;position: relative;background-color: white;}#sk-2d054f56-25f2-44dd-a084-d3e2ae2d11c4 div.sk-parallel-item:first-child::after {align-self: flex-end;width: 50%;}#sk-2d054f56-25f2-44dd-a084-d3e2ae2d11c4 div.sk-parallel-item:last-child::after {align-self: flex-start;width: 50%;}#sk-2d054f56-25f2-44dd-a084-d3e2ae2d11c4 div.sk-parallel-item:only-child::after {width: 0;}#sk-2d054f56-25f2-44dd-a084-d3e2ae2d11c4 div.sk-dashed-wrapped {border: 1px dashed gray;margin: 0 0.4em 0.5em 0.4em;box-sizing: border-box;padding-bottom: 0.4em;background-color: white;position: relative;}#sk-2d054f56-25f2-44dd-a084-d3e2ae2d11c4 div.sk-label label {font-family: monospace;font-weight: bold;background-color: white;display: inline-block;line-height: 1.2em;}#sk-2d054f56-25f2-44dd-a084-d3e2ae2d11c4 div.sk-label-container {position: relative;z-index: 2;text-align: center;}#sk-2d054f56-25f2-44dd-a084-d3e2ae2d11c4 div.sk-container {/* jupyter's `normalize.less` sets `[hidden] { display: none; }` but bootstrap.min.css set `[hidden] { display: none !important; }` so we also need the `!important` here to be able to override the default hidden behavior on the sphinx rendered scikit-learn.org. See: https://github.com/scikit-learn/scikit-learn/issues/21755 */display: inline-block !important;position: relative;}#sk-2d054f56-25f2-44dd-a084-d3e2ae2d11c4 div.sk-text-repr-fallback {display: none;}</style><div id=\"sk-2d054f56-25f2-44dd-a084-d3e2ae2d11c4\" class=\"sk-top-container\"><div class=\"sk-text-repr-fallback\"><pre>Pipeline(steps=((&#x27;country&#x27;,\n",
       "                 ContinentTransformer(continent={&#x27;Afghanistan&#x27;: &#x27;Asia&#x27;,\n",
       "                                                 &#x27;Albania&#x27;: &#x27;Europe&#x27;,\n",
       "                                                 &#x27;Algeria&#x27;: &#x27;Africa&#x27;,\n",
       "                                                 &#x27;American Samoa&#x27;: &#x27;Oceania&#x27;,\n",
       "                                                 &#x27;Andorra&#x27;: &#x27;Europe&#x27;,\n",
       "                                                 &#x27;Angola&#x27;: &#x27;Africa&#x27;,\n",
       "                                                 &#x27;Anguilla&#x27;: &#x27;Americas&#x27;,\n",
       "                                                 &#x27;Antarctica&#x27;: &#x27;Antarctica&#x27;,\n",
       "                                                 &#x27;Antigua and Barbuda&#x27;: &#x27;Americas&#x27;,\n",
       "                                                 &#x27;Argentina&#x27;: &#x27;Americas&#x27;,\n",
       "                                                 &#x27;Armenia&#x27;: &#x27;Asia&#x27;,\n",
       "                                                 &#x27;Aruba&#x27;: &#x27;Americas&#x27;,\n",
       "                                                 &#x27;Australia&#x27;: &#x27;Oceania&#x27;,\n",
       "                                                 &#x27;Austria&#x27;...\n",
       "                (&#x27;dropper&#x27;,\n",
       "                 DropperTransformer(features=[&#x27;age_desc&#x27;, &#x27;gender&#x27;,\n",
       "                                              &#x27;used_app_before&#x27;,\n",
       "                                              &#x27;country_of_res&#x27;])),\n",
       "                (&#x27;col_transformer&#x27;,\n",
       "                 ColumnTransformer(remainder=&#x27;passthrough&#x27;,\n",
       "                                   transformers=((&#x27;z_scoring&#x27;, StandardScaler(),\n",
       "                                                  [10, 14]),\n",
       "                                                 (&#x27;binarize&#x27;,\n",
       "                                                  OneHotEncoder(drop=&#x27;if_binary&#x27;,\n",
       "                                                                sparse=False),\n",
       "                                                  [12, 13]),\n",
       "                                                 (&#x27;one_hot&#x27;,\n",
       "                                                  OneHotEncoder(handle_unknown=&#x27;ignore&#x27;,\n",
       "                                                                sparse=False),\n",
       "                                                  [11, 15, 16, 17]))))))</pre><b>Please rerun this cell to show the HTML repr or trust the notebook.</b></div><div class=\"sk-container\" hidden><div class=\"sk-item sk-dashed-wrapped\"><div class=\"sk-label-container\"><div class=\"sk-label sk-toggleable\"><input class=\"sk-toggleable__control sk-hidden--visually\" id=\"ca82597f-88c7-4f77-a05c-176fd39fff62\" type=\"checkbox\" ><label for=\"ca82597f-88c7-4f77-a05c-176fd39fff62\" class=\"sk-toggleable__label sk-toggleable__label-arrow\">Pipeline</label><div class=\"sk-toggleable__content\"><pre>Pipeline(steps=((&#x27;country&#x27;,\n",
       "                 ContinentTransformer(continent={&#x27;Afghanistan&#x27;: &#x27;Asia&#x27;,\n",
       "                                                 &#x27;Albania&#x27;: &#x27;Europe&#x27;,\n",
       "                                                 &#x27;Algeria&#x27;: &#x27;Africa&#x27;,\n",
       "                                                 &#x27;American Samoa&#x27;: &#x27;Oceania&#x27;,\n",
       "                                                 &#x27;Andorra&#x27;: &#x27;Europe&#x27;,\n",
       "                                                 &#x27;Angola&#x27;: &#x27;Africa&#x27;,\n",
       "                                                 &#x27;Anguilla&#x27;: &#x27;Americas&#x27;,\n",
       "                                                 &#x27;Antarctica&#x27;: &#x27;Antarctica&#x27;,\n",
       "                                                 &#x27;Antigua and Barbuda&#x27;: &#x27;Americas&#x27;,\n",
       "                                                 &#x27;Argentina&#x27;: &#x27;Americas&#x27;,\n",
       "                                                 &#x27;Armenia&#x27;: &#x27;Asia&#x27;,\n",
       "                                                 &#x27;Aruba&#x27;: &#x27;Americas&#x27;,\n",
       "                                                 &#x27;Australia&#x27;: &#x27;Oceania&#x27;,\n",
       "                                                 &#x27;Austria&#x27;...\n",
       "                (&#x27;dropper&#x27;,\n",
       "                 DropperTransformer(features=[&#x27;age_desc&#x27;, &#x27;gender&#x27;,\n",
       "                                              &#x27;used_app_before&#x27;,\n",
       "                                              &#x27;country_of_res&#x27;])),\n",
       "                (&#x27;col_transformer&#x27;,\n",
       "                 ColumnTransformer(remainder=&#x27;passthrough&#x27;,\n",
       "                                   transformers=((&#x27;z_scoring&#x27;, StandardScaler(),\n",
       "                                                  [10, 14]),\n",
       "                                                 (&#x27;binarize&#x27;,\n",
       "                                                  OneHotEncoder(drop=&#x27;if_binary&#x27;,\n",
       "                                                                sparse=False),\n",
       "                                                  [12, 13]),\n",
       "                                                 (&#x27;one_hot&#x27;,\n",
       "                                                  OneHotEncoder(handle_unknown=&#x27;ignore&#x27;,\n",
       "                                                                sparse=False),\n",
       "                                                  [11, 15, 16, 17]))))))</pre></div></div></div><div class=\"sk-serial\"><div class=\"sk-item\"><div class=\"sk-estimator sk-toggleable\"><input class=\"sk-toggleable__control sk-hidden--visually\" id=\"1007b6e5-01b2-4d3d-8e25-0d5983e29d8e\" type=\"checkbox\" ><label for=\"1007b6e5-01b2-4d3d-8e25-0d5983e29d8e\" class=\"sk-toggleable__label sk-toggleable__label-arrow\">ContinentTransformer</label><div class=\"sk-toggleable__content\"><pre>ContinentTransformer(continent={&#x27;Afghanistan&#x27;: &#x27;Asia&#x27;, &#x27;Albania&#x27;: &#x27;Europe&#x27;,\n",
       "                                &#x27;Algeria&#x27;: &#x27;Africa&#x27;,\n",
       "                                &#x27;American Samoa&#x27;: &#x27;Oceania&#x27;,\n",
       "                                &#x27;Andorra&#x27;: &#x27;Europe&#x27;, &#x27;Angola&#x27;: &#x27;Africa&#x27;,\n",
       "                                &#x27;Anguilla&#x27;: &#x27;Americas&#x27;,\n",
       "                                &#x27;Antarctica&#x27;: &#x27;Antarctica&#x27;,\n",
       "                                &#x27;Antigua and Barbuda&#x27;: &#x27;Americas&#x27;,\n",
       "                                &#x27;Argentina&#x27;: &#x27;Americas&#x27;, &#x27;Armenia&#x27;: &#x27;Asia&#x27;,\n",
       "                                &#x27;Aruba&#x27;: &#x27;Americas&#x27;, &#x27;Australia&#x27;: &#x27;Oceania&#x27;,\n",
       "                                &#x27;Austria&#x27;: &#x27;Europe&#x27;, &#x27;Azerbaijan&#x27;: &#x27;Asia&#x27;,\n",
       "                                &#x27;Bahamas&#x27;: &#x27;Americas&#x27;, &#x27;Bahrain&#x27;: &#x27;Asia&#x27;,\n",
       "                                &#x27;Bangladesh&#x27;: &#x27;Asia&#x27;, &#x27;Barbados&#x27;: &#x27;Americas&#x27;,\n",
       "                                &#x27;Belarus&#x27;: &#x27;Europe&#x27;, &#x27;Belgium&#x27;: &#x27;Europe&#x27;,\n",
       "                                &#x27;Belize&#x27;: &#x27;Americas&#x27;, &#x27;Benin&#x27;: &#x27;Africa&#x27;,\n",
       "                                &#x27;Bermuda&#x27;: &#x27;Americas&#x27;, &#x27;Bhutan&#x27;: &#x27;Asia&#x27;,\n",
       "                                &#x27;Bolivia&#x27;: &#x27;Americas&#x27;,\n",
       "                                &#x27;Bonaire, Sint Eustatius and Saba&#x27;: &#x27;Americas&#x27;,\n",
       "                                &#x27;Bosnia And Herzegovina&#x27;: &#x27;Europe&#x27;,\n",
       "                                &#x27;Botswana&#x27;: &#x27;Africa&#x27;,\n",
       "                                &#x27;Bouvet Island&#x27;: &#x27;Americas&#x27;, ...})</pre></div></div></div><div class=\"sk-item\"><div class=\"sk-estimator sk-toggleable\"><input class=\"sk-toggleable__control sk-hidden--visually\" id=\"0a184f62-9f86-4b0a-8032-26fc06860b43\" type=\"checkbox\" ><label for=\"0a184f62-9f86-4b0a-8032-26fc06860b43\" class=\"sk-toggleable__label sk-toggleable__label-arrow\">WeightEncoder</label><div class=\"sk-toggleable__content\"><pre>WeightEncoder(col_name=&#x27;country_of_res&#x27;,\n",
       "              weight={&#x27;Afghanistan&#x27;: 0.08430913348946135, &#x27;American Samoa&#x27;: 0.0,\n",
       "                      &#x27;Angola&#x27;: 0.0, &#x27;Argentina&#x27;: 0.0,\n",
       "                      &#x27;Armenia&#x27;: 0.3360655737704918,\n",
       "                      &#x27;Aruba&#x27;: 0.22131147540983606,\n",
       "                      &#x27;Australia&#x27;: 0.6002522068095838,\n",
       "                      &#x27;Austria&#x27;: 0.26775956284153, &#x27;Azerbaijan&#x27;: 0.0,\n",
       "                      &#x27;Bahamas&#x27;: 0.0, &#x27;Bangladesh&#x27;: 0.0,\n",
       "                      &#x27;Belgium&#x27;: 0.21311475409836064,\n",
       "                      &#x27;Bolivia&#x27;: 0.2540983606557377,\n",
       "                      &#x27;Brazil&#x27;: 0.0942622950819672,\n",
       "                      &#x27;Canada&#x27;: 0.3099850968703428, &#x27;China&#x27;: 0.0,\n",
       "                      &#x27;Costa Rica&#x27;: 0.0, &#x27;Cyprus&#x27;: 0.0, &#x27;Czech Republic&#x27;: 0.0,\n",
       "                      &#x27;Ecuador&#x27;: 0.0, &#x27;Egypt&#x27;: 0.16393442622950818,\n",
       "                      &#x27;Ethiopia&#x27;: 0.20491803278688525, &#x27;Finland&#x27;: 0.0,\n",
       "                      &#x27;France&#x27;: 0.4098360655737705, &#x27;Germany&#x27;: 0.0,\n",
       "                      &#x27;Hong Kong&#x27;: 0.0, &#x27;Iceland&#x27;: 0.0,\n",
       "                      &#x27;India&#x27;: 0.11525086934923, &#x27;Indonesia&#x27;: 0.0, &#x27;Iran&#x27;: 0.0, ...})</pre></div></div></div><div class=\"sk-item\"><div class=\"sk-estimator sk-toggleable\"><input class=\"sk-toggleable__control sk-hidden--visually\" id=\"d150367e-483d-4d4b-8a68-128e0438e2a1\" type=\"checkbox\" ><label for=\"d150367e-483d-4d4b-8a68-128e0438e2a1\" class=\"sk-toggleable__label sk-toggleable__label-arrow\">WeightEncoder</label><div class=\"sk-toggleable__content\"><pre>WeightEncoder(col_name=&#x27;ethnicity&#x27;,\n",
       "              weight={&#x27;?&#x27;: 0.0896488453820315, &#x27;Asian&#x27;: 0.1019268867151105,\n",
       "                      &#x27;Black&#x27;: 0.12000211461053552,\n",
       "                      &#x27;Hispanic&#x27;: 0.06692169329779982,\n",
       "                      &#x27;Latino&#x27;: 0.25963025959999414,\n",
       "                      &#x27;Middle Eastern &#x27;: 0.039126796380351055,\n",
       "                      &#x27;Others&#x27;: 0.07952744161982304,\n",
       "                      &#x27;Pasifika&#x27;: 0.0025829425483361317, &#x27;South Asian&#x27;: 0.0,\n",
       "                      &#x27;Turkish&#x27;: 0.016358636139462177, &#x27;White-European&#x27;: 1.0})</pre></div></div></div><div class=\"sk-item\"><div class=\"sk-estimator sk-toggleable\"><input class=\"sk-toggleable__control sk-hidden--visually\" id=\"968c44e8-899c-4908-a6b4-f55d316173f4\" type=\"checkbox\" ><label for=\"968c44e8-899c-4908-a6b4-f55d316173f4\" class=\"sk-toggleable__label sk-toggleable__label-arrow\">WeightEncoder</label><div class=\"sk-toggleable__content\"><pre>WeightEncoder(col_name=&#x27;relation&#x27;,\n",
       "              weight={&#x27;?&#x27;: 0.08534824132308409, &#x27;Health care professional&#x27;: 0.0,\n",
       "                      &#x27;Parent&#x27;: 0.9181603773584907,\n",
       "                      &#x27;Relative&#x27;: 0.18684344722080573, &#x27;Self&#x27;: 1.0})</pre></div></div></div><div class=\"sk-item\"><div class=\"sk-estimator sk-toggleable\"><input class=\"sk-toggleable__control sk-hidden--visually\" id=\"cf33a04f-bb5f-4c11-a6bf-dcd0815e5175\" type=\"checkbox\" ><label for=\"cf33a04f-bb5f-4c11-a6bf-dcd0815e5175\" class=\"sk-toggleable__label sk-toggleable__label-arrow\">DropperTransformer</label><div class=\"sk-toggleable__content\"><pre>DropperTransformer(features=[&#x27;age_desc&#x27;, &#x27;gender&#x27;, &#x27;used_app_before&#x27;,\n",
       "                             &#x27;country_of_res&#x27;])</pre></div></div></div><div class=\"sk-item sk-dashed-wrapped\"><div class=\"sk-label-container\"><div class=\"sk-label sk-toggleable\"><input class=\"sk-toggleable__control sk-hidden--visually\" id=\"193a12d3-ac8c-45de-947c-ac6197a7ecb4\" type=\"checkbox\" ><label for=\"193a12d3-ac8c-45de-947c-ac6197a7ecb4\" class=\"sk-toggleable__label sk-toggleable__label-arrow\">col_transformer: ColumnTransformer</label><div class=\"sk-toggleable__content\"><pre>ColumnTransformer(remainder=&#x27;passthrough&#x27;,\n",
       "                  transformers=((&#x27;z_scoring&#x27;, StandardScaler(), [10, 14]),\n",
       "                                (&#x27;binarize&#x27;,\n",
       "                                 OneHotEncoder(drop=&#x27;if_binary&#x27;, sparse=False),\n",
       "                                 [12, 13]),\n",
       "                                (&#x27;one_hot&#x27;,\n",
       "                                 OneHotEncoder(handle_unknown=&#x27;ignore&#x27;,\n",
       "                                               sparse=False),\n",
       "                                 [11, 15, 16, 17])))</pre></div></div></div><div class=\"sk-parallel\"><div class=\"sk-parallel-item\"><div class=\"sk-item\"><div class=\"sk-label-container\"><div class=\"sk-label sk-toggleable\"><input class=\"sk-toggleable__control sk-hidden--visually\" id=\"ae8bee71-fd11-412b-b49a-d838bfcebaf2\" type=\"checkbox\" ><label for=\"ae8bee71-fd11-412b-b49a-d838bfcebaf2\" class=\"sk-toggleable__label sk-toggleable__label-arrow\">z_scoring</label><div class=\"sk-toggleable__content\"><pre>[10, 14]</pre></div></div></div><div class=\"sk-serial\"><div class=\"sk-item\"><div class=\"sk-estimator sk-toggleable\"><input class=\"sk-toggleable__control sk-hidden--visually\" id=\"f6c27a6b-9c47-4c6e-8c82-32616bdc7565\" type=\"checkbox\" ><label for=\"f6c27a6b-9c47-4c6e-8c82-32616bdc7565\" class=\"sk-toggleable__label sk-toggleable__label-arrow\">StandardScaler</label><div class=\"sk-toggleable__content\"><pre>StandardScaler()</pre></div></div></div></div></div></div><div class=\"sk-parallel-item\"><div class=\"sk-item\"><div class=\"sk-label-container\"><div class=\"sk-label sk-toggleable\"><input class=\"sk-toggleable__control sk-hidden--visually\" id=\"647f0b71-eb65-4763-ab01-02912ae47e85\" type=\"checkbox\" ><label for=\"647f0b71-eb65-4763-ab01-02912ae47e85\" class=\"sk-toggleable__label sk-toggleable__label-arrow\">binarize</label><div class=\"sk-toggleable__content\"><pre>[12, 13]</pre></div></div></div><div class=\"sk-serial\"><div class=\"sk-item\"><div class=\"sk-estimator sk-toggleable\"><input class=\"sk-toggleable__control sk-hidden--visually\" id=\"23b337b6-89e9-448e-959a-b644ec2a2618\" type=\"checkbox\" ><label for=\"23b337b6-89e9-448e-959a-b644ec2a2618\" class=\"sk-toggleable__label sk-toggleable__label-arrow\">OneHotEncoder</label><div class=\"sk-toggleable__content\"><pre>OneHotEncoder(drop=&#x27;if_binary&#x27;, sparse=False)</pre></div></div></div></div></div></div><div class=\"sk-parallel-item\"><div class=\"sk-item\"><div class=\"sk-label-container\"><div class=\"sk-label sk-toggleable\"><input class=\"sk-toggleable__control sk-hidden--visually\" id=\"cc112bb2-d1fb-4945-a138-73ec1aa264ef\" type=\"checkbox\" ><label for=\"cc112bb2-d1fb-4945-a138-73ec1aa264ef\" class=\"sk-toggleable__label sk-toggleable__label-arrow\">one_hot</label><div class=\"sk-toggleable__content\"><pre>[11, 15, 16, 17]</pre></div></div></div><div class=\"sk-serial\"><div class=\"sk-item\"><div class=\"sk-estimator sk-toggleable\"><input class=\"sk-toggleable__control sk-hidden--visually\" id=\"d6e45d8e-3608-4331-90de-5bbc7f6d8d3f\" type=\"checkbox\" ><label for=\"d6e45d8e-3608-4331-90de-5bbc7f6d8d3f\" class=\"sk-toggleable__label sk-toggleable__label-arrow\">OneHotEncoder</label><div class=\"sk-toggleable__content\"><pre>OneHotEncoder(handle_unknown=&#x27;ignore&#x27;, sparse=False)</pre></div></div></div></div></div></div><div class=\"sk-parallel-item\"><div class=\"sk-item\"><div class=\"sk-label-container\"><div class=\"sk-label sk-toggleable\"><input class=\"sk-toggleable__control sk-hidden--visually\" id=\"1d8f7615-75c6-42a8-8ee7-d36829edd4bd\" type=\"checkbox\" ><label for=\"1d8f7615-75c6-42a8-8ee7-d36829edd4bd\" class=\"sk-toggleable__label sk-toggleable__label-arrow\">remainder</label><div class=\"sk-toggleable__content\"><pre></pre></div></div></div><div class=\"sk-serial\"><div class=\"sk-item\"><div class=\"sk-estimator sk-toggleable\"><input class=\"sk-toggleable__control sk-hidden--visually\" id=\"838a47d0-8483-40ee-8c3d-6bfdc8942842\" type=\"checkbox\" ><label for=\"838a47d0-8483-40ee-8c3d-6bfdc8942842\" class=\"sk-toggleable__label sk-toggleable__label-arrow\">passthrough</label><div class=\"sk-toggleable__content\"><pre>passthrough</pre></div></div></div></div></div></div></div></div></div></div></div></div>"
      ],
      "text/plain": [
       "Pipeline(steps=(('country',\n",
       "                 ContinentTransformer(continent={'Afghanistan': 'Asia',\n",
       "                                                 'Albania': 'Europe',\n",
       "                                                 'Algeria': 'Africa',\n",
       "                                                 'American Samoa': 'Oceania',\n",
       "                                                 'Andorra': 'Europe',\n",
       "                                                 'Angola': 'Africa',\n",
       "                                                 'Anguilla': 'Americas',\n",
       "                                                 'Antarctica': 'Antarctica',\n",
       "                                                 'Antigua and Barbuda': 'Americas',\n",
       "                                                 'Argentina': 'Americas',\n",
       "                                                 'Armenia': 'Asia',\n",
       "                                                 'Aruba': 'Americas',\n",
       "                                                 'Australia': 'Oceania',\n",
       "                                                 'Austria'...\n",
       "                ('dropper',\n",
       "                 DropperTransformer(features=['age_desc', 'gender',\n",
       "                                              'used_app_before',\n",
       "                                              'country_of_res'])),\n",
       "                ('col_transformer',\n",
       "                 ColumnTransformer(remainder='passthrough',\n",
       "                                   transformers=(('z_scoring', StandardScaler(),\n",
       "                                                  [10, 14]),\n",
       "                                                 ('binarize',\n",
       "                                                  OneHotEncoder(drop='if_binary',\n",
       "                                                                sparse=False),\n",
       "                                                  [12, 13]),\n",
       "                                                 ('one_hot',\n",
       "                                                  OneHotEncoder(handle_unknown='ignore',\n",
       "                                                                sparse=False),\n",
       "                                                  [11, 15, 16, 17]))))))"
      ]
     },
     "execution_count": 174,
     "metadata": {},
     "output_type": "execute_result"
    }
   ],
   "source": [
    "# =====================================================================\n",
    "# Tuples for Pipeline contain only the 'key' & Transformers\n",
    "# =====================================================================\n",
    "country = ('country', ContinentTransformer(continent = continent)) # creates continent\n",
    "w_country = ('weight_country', WeightEncoder(col_name = 'country_of_res', weight = weight_country)) # creates w_contry_of_res \n",
    "w_ethnicity = ('weight_ethnicity', WeightEncoder(col_name = 'ethnicity', weight = weight_ethnicity)) # creates w_ethnicity\n",
    "w_relation = ('weight_relation', WeightEncoder(col_name = 'relation', weight = weight_relation)) # creates w_relation\n",
    "#w_age = ('weight_age', WeightEncoder(col_name = 'AgeGroup', weight=weight_AgeGroup)) # creates_w_AgeGroup\n",
    "\n",
    "dropper = ('dropper', DropperTransformer(features = ['age_desc', 'gender', 'used_app_before','country_of_res']))\n",
    "\n",
    "# =====================================================================\n",
    "# Tuples for ColumnTransformer contain only the 'key',Transformers,col\n",
    "# =====================================================================\n",
    "z_scoring = ('z_scoring', StandardScaler(), [10, 14] ) # age, result\n",
    "binarize = ('binarize', OneHotEncoder(sparse=False, drop= 'if_binary'), [12,13] ) # jaundice, austim\n",
    "one_hot =  ('one_hot',  OneHotEncoder(sparse=False, handle_unknown='ignore'), [11,15,16,17] ) # ethnicity, relation, AgeGroup, ontinent\n",
    "\n",
    "col_transformer = ColumnTransformer(transformers = (z_scoring, binarize, one_hot), remainder = 'passthrough')\n",
    "\n",
    "col_preprocess = ('col_transformer', col_transformer)\n",
    "\n",
    "preprocess = Pipeline( steps = (country, w_country, w_ethnicity, w_relation, dropper, col_preprocess))\n",
    "preprocess"
   ]
  },
  {
   "cell_type": "code",
   "execution_count": 175,
   "id": "c34fe275-426a-40bc-9c28-90c7e49b1676",
   "metadata": {},
   "outputs": [
    {
     "data": {
      "text/html": [
       "<style>#sk-1721e6d4-c345-46d2-9404-8170b91a3b80 {color: black;background-color: white;}#sk-1721e6d4-c345-46d2-9404-8170b91a3b80 pre{padding: 0;}#sk-1721e6d4-c345-46d2-9404-8170b91a3b80 div.sk-toggleable {background-color: white;}#sk-1721e6d4-c345-46d2-9404-8170b91a3b80 label.sk-toggleable__label {cursor: pointer;display: block;width: 100%;margin-bottom: 0;padding: 0.3em;box-sizing: border-box;text-align: center;}#sk-1721e6d4-c345-46d2-9404-8170b91a3b80 label.sk-toggleable__label-arrow:before {content: \"▸\";float: left;margin-right: 0.25em;color: #696969;}#sk-1721e6d4-c345-46d2-9404-8170b91a3b80 label.sk-toggleable__label-arrow:hover:before {color: black;}#sk-1721e6d4-c345-46d2-9404-8170b91a3b80 div.sk-estimator:hover label.sk-toggleable__label-arrow:before {color: black;}#sk-1721e6d4-c345-46d2-9404-8170b91a3b80 div.sk-toggleable__content {max-height: 0;max-width: 0;overflow: hidden;text-align: left;background-color: #f0f8ff;}#sk-1721e6d4-c345-46d2-9404-8170b91a3b80 div.sk-toggleable__content pre {margin: 0.2em;color: black;border-radius: 0.25em;background-color: #f0f8ff;}#sk-1721e6d4-c345-46d2-9404-8170b91a3b80 input.sk-toggleable__control:checked~div.sk-toggleable__content {max-height: 200px;max-width: 100%;overflow: auto;}#sk-1721e6d4-c345-46d2-9404-8170b91a3b80 input.sk-toggleable__control:checked~label.sk-toggleable__label-arrow:before {content: \"▾\";}#sk-1721e6d4-c345-46d2-9404-8170b91a3b80 div.sk-estimator input.sk-toggleable__control:checked~label.sk-toggleable__label {background-color: #d4ebff;}#sk-1721e6d4-c345-46d2-9404-8170b91a3b80 div.sk-label input.sk-toggleable__control:checked~label.sk-toggleable__label {background-color: #d4ebff;}#sk-1721e6d4-c345-46d2-9404-8170b91a3b80 input.sk-hidden--visually {border: 0;clip: rect(1px 1px 1px 1px);clip: rect(1px, 1px, 1px, 1px);height: 1px;margin: -1px;overflow: hidden;padding: 0;position: absolute;width: 1px;}#sk-1721e6d4-c345-46d2-9404-8170b91a3b80 div.sk-estimator {font-family: monospace;background-color: #f0f8ff;border: 1px dotted black;border-radius: 0.25em;box-sizing: border-box;margin-bottom: 0.5em;}#sk-1721e6d4-c345-46d2-9404-8170b91a3b80 div.sk-estimator:hover {background-color: #d4ebff;}#sk-1721e6d4-c345-46d2-9404-8170b91a3b80 div.sk-parallel-item::after {content: \"\";width: 100%;border-bottom: 1px solid gray;flex-grow: 1;}#sk-1721e6d4-c345-46d2-9404-8170b91a3b80 div.sk-label:hover label.sk-toggleable__label {background-color: #d4ebff;}#sk-1721e6d4-c345-46d2-9404-8170b91a3b80 div.sk-serial::before {content: \"\";position: absolute;border-left: 1px solid gray;box-sizing: border-box;top: 2em;bottom: 0;left: 50%;}#sk-1721e6d4-c345-46d2-9404-8170b91a3b80 div.sk-serial {display: flex;flex-direction: column;align-items: center;background-color: white;padding-right: 0.2em;padding-left: 0.2em;}#sk-1721e6d4-c345-46d2-9404-8170b91a3b80 div.sk-item {z-index: 1;}#sk-1721e6d4-c345-46d2-9404-8170b91a3b80 div.sk-parallel {display: flex;align-items: stretch;justify-content: center;background-color: white;}#sk-1721e6d4-c345-46d2-9404-8170b91a3b80 div.sk-parallel::before {content: \"\";position: absolute;border-left: 1px solid gray;box-sizing: border-box;top: 2em;bottom: 0;left: 50%;}#sk-1721e6d4-c345-46d2-9404-8170b91a3b80 div.sk-parallel-item {display: flex;flex-direction: column;position: relative;background-color: white;}#sk-1721e6d4-c345-46d2-9404-8170b91a3b80 div.sk-parallel-item:first-child::after {align-self: flex-end;width: 50%;}#sk-1721e6d4-c345-46d2-9404-8170b91a3b80 div.sk-parallel-item:last-child::after {align-self: flex-start;width: 50%;}#sk-1721e6d4-c345-46d2-9404-8170b91a3b80 div.sk-parallel-item:only-child::after {width: 0;}#sk-1721e6d4-c345-46d2-9404-8170b91a3b80 div.sk-dashed-wrapped {border: 1px dashed gray;margin: 0 0.4em 0.5em 0.4em;box-sizing: border-box;padding-bottom: 0.4em;background-color: white;position: relative;}#sk-1721e6d4-c345-46d2-9404-8170b91a3b80 div.sk-label label {font-family: monospace;font-weight: bold;background-color: white;display: inline-block;line-height: 1.2em;}#sk-1721e6d4-c345-46d2-9404-8170b91a3b80 div.sk-label-container {position: relative;z-index: 2;text-align: center;}#sk-1721e6d4-c345-46d2-9404-8170b91a3b80 div.sk-container {/* jupyter's `normalize.less` sets `[hidden] { display: none; }` but bootstrap.min.css set `[hidden] { display: none !important; }` so we also need the `!important` here to be able to override the default hidden behavior on the sphinx rendered scikit-learn.org. See: https://github.com/scikit-learn/scikit-learn/issues/21755 */display: inline-block !important;position: relative;}#sk-1721e6d4-c345-46d2-9404-8170b91a3b80 div.sk-text-repr-fallback {display: none;}</style><div id=\"sk-1721e6d4-c345-46d2-9404-8170b91a3b80\" class=\"sk-top-container\"><div class=\"sk-text-repr-fallback\"><pre>Pipeline(steps=[(&#x27;country&#x27;,\n",
       "                 ContinentTransformer(continent={&#x27;Afghanistan&#x27;: &#x27;Asia&#x27;,\n",
       "                                                 &#x27;Albania&#x27;: &#x27;Europe&#x27;,\n",
       "                                                 &#x27;Algeria&#x27;: &#x27;Africa&#x27;,\n",
       "                                                 &#x27;American Samoa&#x27;: &#x27;Oceania&#x27;,\n",
       "                                                 &#x27;Andorra&#x27;: &#x27;Europe&#x27;,\n",
       "                                                 &#x27;Angola&#x27;: &#x27;Africa&#x27;,\n",
       "                                                 &#x27;Anguilla&#x27;: &#x27;Americas&#x27;,\n",
       "                                                 &#x27;Antarctica&#x27;: &#x27;Antarctica&#x27;,\n",
       "                                                 &#x27;Antigua and Barbuda&#x27;: &#x27;Americas&#x27;,\n",
       "                                                 &#x27;Argentina&#x27;: &#x27;Americas&#x27;,\n",
       "                                                 &#x27;Armenia&#x27;: &#x27;Asia&#x27;,\n",
       "                                                 &#x27;Aruba&#x27;: &#x27;Americas&#x27;,\n",
       "                                                 &#x27;Australia&#x27;: &#x27;Oceania&#x27;,\n",
       "                                                 &#x27;Austria&#x27;...\n",
       "                (&#x27;dropper&#x27;,\n",
       "                 DropperTransformer(features=[&#x27;age_desc&#x27;, &#x27;gender&#x27;,\n",
       "                                              &#x27;used_app_before&#x27;,\n",
       "                                              &#x27;country_of_res&#x27;])),\n",
       "                (&#x27;col_transformer&#x27;,\n",
       "                 ColumnTransformer(remainder=&#x27;passthrough&#x27;,\n",
       "                                   transformers=((&#x27;z_scoring&#x27;, StandardScaler(),\n",
       "                                                  [10, 14]),\n",
       "                                                 (&#x27;binarize&#x27;,\n",
       "                                                  OneHotEncoder(drop=&#x27;if_binary&#x27;,\n",
       "                                                                sparse=False),\n",
       "                                                  [12, 13]),\n",
       "                                                 (&#x27;one_hot&#x27;,\n",
       "                                                  OneHotEncoder(handle_unknown=&#x27;ignore&#x27;,\n",
       "                                                                sparse=False),\n",
       "                                                  [11, 15, 16, 17]))))])</pre><b>Please rerun this cell to show the HTML repr or trust the notebook.</b></div><div class=\"sk-container\" hidden><div class=\"sk-item sk-dashed-wrapped\"><div class=\"sk-label-container\"><div class=\"sk-label sk-toggleable\"><input class=\"sk-toggleable__control sk-hidden--visually\" id=\"a65cecb8-1872-49c5-b1b5-4da9363347ce\" type=\"checkbox\" ><label for=\"a65cecb8-1872-49c5-b1b5-4da9363347ce\" class=\"sk-toggleable__label sk-toggleable__label-arrow\">Pipeline</label><div class=\"sk-toggleable__content\"><pre>Pipeline(steps=[(&#x27;country&#x27;,\n",
       "                 ContinentTransformer(continent={&#x27;Afghanistan&#x27;: &#x27;Asia&#x27;,\n",
       "                                                 &#x27;Albania&#x27;: &#x27;Europe&#x27;,\n",
       "                                                 &#x27;Algeria&#x27;: &#x27;Africa&#x27;,\n",
       "                                                 &#x27;American Samoa&#x27;: &#x27;Oceania&#x27;,\n",
       "                                                 &#x27;Andorra&#x27;: &#x27;Europe&#x27;,\n",
       "                                                 &#x27;Angola&#x27;: &#x27;Africa&#x27;,\n",
       "                                                 &#x27;Anguilla&#x27;: &#x27;Americas&#x27;,\n",
       "                                                 &#x27;Antarctica&#x27;: &#x27;Antarctica&#x27;,\n",
       "                                                 &#x27;Antigua and Barbuda&#x27;: &#x27;Americas&#x27;,\n",
       "                                                 &#x27;Argentina&#x27;: &#x27;Americas&#x27;,\n",
       "                                                 &#x27;Armenia&#x27;: &#x27;Asia&#x27;,\n",
       "                                                 &#x27;Aruba&#x27;: &#x27;Americas&#x27;,\n",
       "                                                 &#x27;Australia&#x27;: &#x27;Oceania&#x27;,\n",
       "                                                 &#x27;Austria&#x27;...\n",
       "                (&#x27;dropper&#x27;,\n",
       "                 DropperTransformer(features=[&#x27;age_desc&#x27;, &#x27;gender&#x27;,\n",
       "                                              &#x27;used_app_before&#x27;,\n",
       "                                              &#x27;country_of_res&#x27;])),\n",
       "                (&#x27;col_transformer&#x27;,\n",
       "                 ColumnTransformer(remainder=&#x27;passthrough&#x27;,\n",
       "                                   transformers=((&#x27;z_scoring&#x27;, StandardScaler(),\n",
       "                                                  [10, 14]),\n",
       "                                                 (&#x27;binarize&#x27;,\n",
       "                                                  OneHotEncoder(drop=&#x27;if_binary&#x27;,\n",
       "                                                                sparse=False),\n",
       "                                                  [12, 13]),\n",
       "                                                 (&#x27;one_hot&#x27;,\n",
       "                                                  OneHotEncoder(handle_unknown=&#x27;ignore&#x27;,\n",
       "                                                                sparse=False),\n",
       "                                                  [11, 15, 16, 17]))))])</pre></div></div></div><div class=\"sk-serial\"><div class=\"sk-item\"><div class=\"sk-estimator sk-toggleable\"><input class=\"sk-toggleable__control sk-hidden--visually\" id=\"e64bfd4a-0d4b-47f6-b713-7fcd7e7e3099\" type=\"checkbox\" ><label for=\"e64bfd4a-0d4b-47f6-b713-7fcd7e7e3099\" class=\"sk-toggleable__label sk-toggleable__label-arrow\">ContinentTransformer</label><div class=\"sk-toggleable__content\"><pre>ContinentTransformer(continent={&#x27;Afghanistan&#x27;: &#x27;Asia&#x27;, &#x27;Albania&#x27;: &#x27;Europe&#x27;,\n",
       "                                &#x27;Algeria&#x27;: &#x27;Africa&#x27;,\n",
       "                                &#x27;American Samoa&#x27;: &#x27;Oceania&#x27;,\n",
       "                                &#x27;Andorra&#x27;: &#x27;Europe&#x27;, &#x27;Angola&#x27;: &#x27;Africa&#x27;,\n",
       "                                &#x27;Anguilla&#x27;: &#x27;Americas&#x27;,\n",
       "                                &#x27;Antarctica&#x27;: &#x27;Antarctica&#x27;,\n",
       "                                &#x27;Antigua and Barbuda&#x27;: &#x27;Americas&#x27;,\n",
       "                                &#x27;Argentina&#x27;: &#x27;Americas&#x27;, &#x27;Armenia&#x27;: &#x27;Asia&#x27;,\n",
       "                                &#x27;Aruba&#x27;: &#x27;Americas&#x27;, &#x27;Australia&#x27;: &#x27;Oceania&#x27;,\n",
       "                                &#x27;Austria&#x27;: &#x27;Europe&#x27;, &#x27;Azerbaijan&#x27;: &#x27;Asia&#x27;,\n",
       "                                &#x27;Bahamas&#x27;: &#x27;Americas&#x27;, &#x27;Bahrain&#x27;: &#x27;Asia&#x27;,\n",
       "                                &#x27;Bangladesh&#x27;: &#x27;Asia&#x27;, &#x27;Barbados&#x27;: &#x27;Americas&#x27;,\n",
       "                                &#x27;Belarus&#x27;: &#x27;Europe&#x27;, &#x27;Belgium&#x27;: &#x27;Europe&#x27;,\n",
       "                                &#x27;Belize&#x27;: &#x27;Americas&#x27;, &#x27;Benin&#x27;: &#x27;Africa&#x27;,\n",
       "                                &#x27;Bermuda&#x27;: &#x27;Americas&#x27;, &#x27;Bhutan&#x27;: &#x27;Asia&#x27;,\n",
       "                                &#x27;Bolivia&#x27;: &#x27;Americas&#x27;,\n",
       "                                &#x27;Bonaire, Sint Eustatius and Saba&#x27;: &#x27;Americas&#x27;,\n",
       "                                &#x27;Bosnia And Herzegovina&#x27;: &#x27;Europe&#x27;,\n",
       "                                &#x27;Botswana&#x27;: &#x27;Africa&#x27;,\n",
       "                                &#x27;Bouvet Island&#x27;: &#x27;Americas&#x27;, ...})</pre></div></div></div><div class=\"sk-item\"><div class=\"sk-estimator sk-toggleable\"><input class=\"sk-toggleable__control sk-hidden--visually\" id=\"87012c68-4a34-4f62-bdeb-6cf77d375ea5\" type=\"checkbox\" ><label for=\"87012c68-4a34-4f62-bdeb-6cf77d375ea5\" class=\"sk-toggleable__label sk-toggleable__label-arrow\">WeightEncoder</label><div class=\"sk-toggleable__content\"><pre>WeightEncoder(col_name=&#x27;country_of_res&#x27;,\n",
       "              weight={&#x27;Afghanistan&#x27;: 0.08430913348946135, &#x27;American Samoa&#x27;: 0.0,\n",
       "                      &#x27;Angola&#x27;: 0.0, &#x27;Argentina&#x27;: 0.0,\n",
       "                      &#x27;Armenia&#x27;: 0.3360655737704918,\n",
       "                      &#x27;Aruba&#x27;: 0.22131147540983606,\n",
       "                      &#x27;Australia&#x27;: 0.6002522068095838,\n",
       "                      &#x27;Austria&#x27;: 0.26775956284153, &#x27;Azerbaijan&#x27;: 0.0,\n",
       "                      &#x27;Bahamas&#x27;: 0.0, &#x27;Bangladesh&#x27;: 0.0,\n",
       "                      &#x27;Belgium&#x27;: 0.21311475409836064,\n",
       "                      &#x27;Bolivia&#x27;: 0.2540983606557377,\n",
       "                      &#x27;Brazil&#x27;: 0.0942622950819672,\n",
       "                      &#x27;Canada&#x27;: 0.3099850968703428, &#x27;China&#x27;: 0.0,\n",
       "                      &#x27;Costa Rica&#x27;: 0.0, &#x27;Cyprus&#x27;: 0.0, &#x27;Czech Republic&#x27;: 0.0,\n",
       "                      &#x27;Ecuador&#x27;: 0.0, &#x27;Egypt&#x27;: 0.16393442622950818,\n",
       "                      &#x27;Ethiopia&#x27;: 0.20491803278688525, &#x27;Finland&#x27;: 0.0,\n",
       "                      &#x27;France&#x27;: 0.4098360655737705, &#x27;Germany&#x27;: 0.0,\n",
       "                      &#x27;Hong Kong&#x27;: 0.0, &#x27;Iceland&#x27;: 0.0,\n",
       "                      &#x27;India&#x27;: 0.11525086934923, &#x27;Indonesia&#x27;: 0.0, &#x27;Iran&#x27;: 0.0, ...})</pre></div></div></div><div class=\"sk-item\"><div class=\"sk-estimator sk-toggleable\"><input class=\"sk-toggleable__control sk-hidden--visually\" id=\"92aca4d0-0c9f-455f-bcc7-02ea03b14785\" type=\"checkbox\" ><label for=\"92aca4d0-0c9f-455f-bcc7-02ea03b14785\" class=\"sk-toggleable__label sk-toggleable__label-arrow\">WeightEncoder</label><div class=\"sk-toggleable__content\"><pre>WeightEncoder(col_name=&#x27;ethnicity&#x27;,\n",
       "              weight={&#x27;?&#x27;: 0.0896488453820315, &#x27;Asian&#x27;: 0.1019268867151105,\n",
       "                      &#x27;Black&#x27;: 0.12000211461053552,\n",
       "                      &#x27;Hispanic&#x27;: 0.06692169329779982,\n",
       "                      &#x27;Latino&#x27;: 0.25963025959999414,\n",
       "                      &#x27;Middle Eastern &#x27;: 0.039126796380351055,\n",
       "                      &#x27;Others&#x27;: 0.07952744161982304,\n",
       "                      &#x27;Pasifika&#x27;: 0.0025829425483361317, &#x27;South Asian&#x27;: 0.0,\n",
       "                      &#x27;Turkish&#x27;: 0.016358636139462177, &#x27;White-European&#x27;: 1.0})</pre></div></div></div><div class=\"sk-item\"><div class=\"sk-estimator sk-toggleable\"><input class=\"sk-toggleable__control sk-hidden--visually\" id=\"5e6cbdb3-6b16-4126-bec0-bad69e585923\" type=\"checkbox\" ><label for=\"5e6cbdb3-6b16-4126-bec0-bad69e585923\" class=\"sk-toggleable__label sk-toggleable__label-arrow\">WeightEncoder</label><div class=\"sk-toggleable__content\"><pre>WeightEncoder(col_name=&#x27;relation&#x27;,\n",
       "              weight={&#x27;?&#x27;: 0.08534824132308409, &#x27;Health care professional&#x27;: 0.0,\n",
       "                      &#x27;Parent&#x27;: 0.9181603773584907,\n",
       "                      &#x27;Relative&#x27;: 0.18684344722080573, &#x27;Self&#x27;: 1.0})</pre></div></div></div><div class=\"sk-item\"><div class=\"sk-estimator sk-toggleable\"><input class=\"sk-toggleable__control sk-hidden--visually\" id=\"26a793b3-f56e-4867-9b17-e2459908d5f5\" type=\"checkbox\" ><label for=\"26a793b3-f56e-4867-9b17-e2459908d5f5\" class=\"sk-toggleable__label sk-toggleable__label-arrow\">DropperTransformer</label><div class=\"sk-toggleable__content\"><pre>DropperTransformer(features=[&#x27;age_desc&#x27;, &#x27;gender&#x27;, &#x27;used_app_before&#x27;,\n",
       "                             &#x27;country_of_res&#x27;])</pre></div></div></div><div class=\"sk-item sk-dashed-wrapped\"><div class=\"sk-label-container\"><div class=\"sk-label sk-toggleable\"><input class=\"sk-toggleable__control sk-hidden--visually\" id=\"61013372-4252-42a9-9f57-e74fdfb520ff\" type=\"checkbox\" ><label for=\"61013372-4252-42a9-9f57-e74fdfb520ff\" class=\"sk-toggleable__label sk-toggleable__label-arrow\">col_transformer: ColumnTransformer</label><div class=\"sk-toggleable__content\"><pre>ColumnTransformer(remainder=&#x27;passthrough&#x27;,\n",
       "                  transformers=((&#x27;z_scoring&#x27;, StandardScaler(), [10, 14]),\n",
       "                                (&#x27;binarize&#x27;,\n",
       "                                 OneHotEncoder(drop=&#x27;if_binary&#x27;, sparse=False),\n",
       "                                 [12, 13]),\n",
       "                                (&#x27;one_hot&#x27;,\n",
       "                                 OneHotEncoder(handle_unknown=&#x27;ignore&#x27;,\n",
       "                                               sparse=False),\n",
       "                                 [11, 15, 16, 17])))</pre></div></div></div><div class=\"sk-parallel\"><div class=\"sk-parallel-item\"><div class=\"sk-item\"><div class=\"sk-label-container\"><div class=\"sk-label sk-toggleable\"><input class=\"sk-toggleable__control sk-hidden--visually\" id=\"faad3819-00aa-49fd-adfd-e3e0b6a1322b\" type=\"checkbox\" ><label for=\"faad3819-00aa-49fd-adfd-e3e0b6a1322b\" class=\"sk-toggleable__label sk-toggleable__label-arrow\">z_scoring</label><div class=\"sk-toggleable__content\"><pre>[10, 14]</pre></div></div></div><div class=\"sk-serial\"><div class=\"sk-item\"><div class=\"sk-estimator sk-toggleable\"><input class=\"sk-toggleable__control sk-hidden--visually\" id=\"6e75922f-9270-4f53-8bb9-61d2f1e33f6f\" type=\"checkbox\" ><label for=\"6e75922f-9270-4f53-8bb9-61d2f1e33f6f\" class=\"sk-toggleable__label sk-toggleable__label-arrow\">StandardScaler</label><div class=\"sk-toggleable__content\"><pre>StandardScaler()</pre></div></div></div></div></div></div><div class=\"sk-parallel-item\"><div class=\"sk-item\"><div class=\"sk-label-container\"><div class=\"sk-label sk-toggleable\"><input class=\"sk-toggleable__control sk-hidden--visually\" id=\"4c7b67b6-caa4-489f-946d-9682df82bee1\" type=\"checkbox\" ><label for=\"4c7b67b6-caa4-489f-946d-9682df82bee1\" class=\"sk-toggleable__label sk-toggleable__label-arrow\">binarize</label><div class=\"sk-toggleable__content\"><pre>[12, 13]</pre></div></div></div><div class=\"sk-serial\"><div class=\"sk-item\"><div class=\"sk-estimator sk-toggleable\"><input class=\"sk-toggleable__control sk-hidden--visually\" id=\"3e658450-e49a-405c-aa4a-e6e61fe5c274\" type=\"checkbox\" ><label for=\"3e658450-e49a-405c-aa4a-e6e61fe5c274\" class=\"sk-toggleable__label sk-toggleable__label-arrow\">OneHotEncoder</label><div class=\"sk-toggleable__content\"><pre>OneHotEncoder(drop=&#x27;if_binary&#x27;, sparse=False)</pre></div></div></div></div></div></div><div class=\"sk-parallel-item\"><div class=\"sk-item\"><div class=\"sk-label-container\"><div class=\"sk-label sk-toggleable\"><input class=\"sk-toggleable__control sk-hidden--visually\" id=\"fde39e23-44f9-4398-bfad-0e6282723b8a\" type=\"checkbox\" ><label for=\"fde39e23-44f9-4398-bfad-0e6282723b8a\" class=\"sk-toggleable__label sk-toggleable__label-arrow\">one_hot</label><div class=\"sk-toggleable__content\"><pre>[11, 15, 16, 17]</pre></div></div></div><div class=\"sk-serial\"><div class=\"sk-item\"><div class=\"sk-estimator sk-toggleable\"><input class=\"sk-toggleable__control sk-hidden--visually\" id=\"363163b7-2196-4e7c-9002-d3c459f2e0bd\" type=\"checkbox\" ><label for=\"363163b7-2196-4e7c-9002-d3c459f2e0bd\" class=\"sk-toggleable__label sk-toggleable__label-arrow\">OneHotEncoder</label><div class=\"sk-toggleable__content\"><pre>OneHotEncoder(handle_unknown=&#x27;ignore&#x27;, sparse=False)</pre></div></div></div></div></div></div><div class=\"sk-parallel-item\"><div class=\"sk-item\"><div class=\"sk-label-container\"><div class=\"sk-label sk-toggleable\"><input class=\"sk-toggleable__control sk-hidden--visually\" id=\"9bb6c5a5-eddd-40bb-b846-5689f8c8d01d\" type=\"checkbox\" ><label for=\"9bb6c5a5-eddd-40bb-b846-5689f8c8d01d\" class=\"sk-toggleable__label sk-toggleable__label-arrow\">remainder</label><div class=\"sk-toggleable__content\"><pre>[&#x27;A1_Score&#x27;, &#x27;A2_Score&#x27;, &#x27;A3_Score&#x27;, &#x27;A4_Score&#x27;, &#x27;A5_Score&#x27;, &#x27;A6_Score&#x27;, &#x27;A7_Score&#x27;, &#x27;A8_Score&#x27;, &#x27;A9_Score&#x27;, &#x27;A10_Score&#x27;, &#x27;w_country_of_res&#x27;, &#x27;w_ethnicity&#x27;, &#x27;w_relation&#x27;]</pre></div></div></div><div class=\"sk-serial\"><div class=\"sk-item\"><div class=\"sk-estimator sk-toggleable\"><input class=\"sk-toggleable__control sk-hidden--visually\" id=\"99a76646-6f93-4439-b789-0e016b096681\" type=\"checkbox\" ><label for=\"99a76646-6f93-4439-b789-0e016b096681\" class=\"sk-toggleable__label sk-toggleable__label-arrow\">passthrough</label><div class=\"sk-toggleable__content\"><pre>passthrough</pre></div></div></div></div></div></div></div></div></div></div></div></div>"
      ],
      "text/plain": [
       "Pipeline(steps=[('country',\n",
       "                 ContinentTransformer(continent={'Afghanistan': 'Asia',\n",
       "                                                 'Albania': 'Europe',\n",
       "                                                 'Algeria': 'Africa',\n",
       "                                                 'American Samoa': 'Oceania',\n",
       "                                                 'Andorra': 'Europe',\n",
       "                                                 'Angola': 'Africa',\n",
       "                                                 'Anguilla': 'Americas',\n",
       "                                                 'Antarctica': 'Antarctica',\n",
       "                                                 'Antigua and Barbuda': 'Americas',\n",
       "                                                 'Argentina': 'Americas',\n",
       "                                                 'Armenia': 'Asia',\n",
       "                                                 'Aruba': 'Americas',\n",
       "                                                 'Australia': 'Oceania',\n",
       "                                                 'Austria'...\n",
       "                ('dropper',\n",
       "                 DropperTransformer(features=['age_desc', 'gender',\n",
       "                                              'used_app_before',\n",
       "                                              'country_of_res'])),\n",
       "                ('col_transformer',\n",
       "                 ColumnTransformer(remainder='passthrough',\n",
       "                                   transformers=(('z_scoring', StandardScaler(),\n",
       "                                                  [10, 14]),\n",
       "                                                 ('binarize',\n",
       "                                                  OneHotEncoder(drop='if_binary',\n",
       "                                                                sparse=False),\n",
       "                                                  [12, 13]),\n",
       "                                                 ('one_hot',\n",
       "                                                  OneHotEncoder(handle_unknown='ignore',\n",
       "                                                                sparse=False),\n",
       "                                                  [11, 15, 16, 17]))))])"
      ]
     },
     "execution_count": 175,
     "metadata": {},
     "output_type": "execute_result"
    }
   ],
   "source": [
    "preprocess.fit(test) # we need to fit the pipeline to obtain get_features_names_out()"
   ]
  },
  {
   "cell_type": "code",
   "execution_count": 176,
   "id": "609dae63-03ae-4bca-9604-f8bae2baef18",
   "metadata": {},
   "outputs": [
    {
     "data": {
      "text/plain": [
       "'age'"
      ]
     },
     "execution_count": 176,
     "metadata": {},
     "output_type": "execute_result"
    }
   ],
   "source": [
    "def remove_prefix(mystring:str)-> str:\n",
    "    \"\"\"\n",
    "    Removes prefix until '__'\n",
    "    e.g 'z_scoring__age' to 'age'\n",
    "    \"\"\"\n",
    "    mystring = mystring.replace(r\"__\",\"*\") # 'replace double underscore with *\n",
    "    return mystring[mystring.find(\"*\")+1:]\n",
    "\n",
    "remove_prefix('z_scoring__age')"
   ]
  },
  {
   "cell_type": "code",
   "execution_count": 177,
   "id": "88d9d804-6e16-4c99-b8a3-b39eadaeb7ca",
   "metadata": {},
   "outputs": [
    {
     "data": {
      "text/plain": [
       "['age',\n",
       " 'result',\n",
       " 'jaundice_yes',\n",
       " 'autism_yes',\n",
       " 'ethnicity_Asian',\n",
       " 'ethnicity_Black',\n",
       " 'ethnicity_Hispanic',\n",
       " 'ethnicity_Latino',\n",
       " 'ethnicity_Middle Eastern ',\n",
       " 'ethnicity_Others',\n",
       " 'ethnicity_Pasifika',\n",
       " 'ethnicity_South Asian',\n",
       " 'ethnicity_Turkish',\n",
       " 'ethnicity_White-European',\n",
       " 'ethnicity_others',\n",
       " 'relation_?',\n",
       " 'relation_Health care professional',\n",
       " 'relation_Parent',\n",
       " 'relation_Relative',\n",
       " 'relation_Self',\n",
       " 'AgeGroup_adult',\n",
       " 'AgeGroup_children',\n",
       " 'AgeGroup_senior',\n",
       " 'AgeGroup_youth',\n",
       " 'continent_Africa',\n",
       " 'continent_Americas',\n",
       " 'continent_Asia',\n",
       " 'continent_Europe',\n",
       " 'continent_Oceania',\n",
       " 'A1_Score',\n",
       " 'A2_Score',\n",
       " 'A3_Score',\n",
       " 'A4_Score',\n",
       " 'A5_Score',\n",
       " 'A6_Score',\n",
       " 'A7_Score',\n",
       " 'A8_Score',\n",
       " 'A9_Score',\n",
       " 'A10_Score',\n",
       " 'w_country_of_res',\n",
       " 'w_ethnicity',\n",
       " 'w_relation']"
      ]
     },
     "execution_count": 177,
     "metadata": {},
     "output_type": "execute_result"
    }
   ],
   "source": [
    "mycols = [remove_prefix(mystring= col_name) for col_name in preprocess[-1].get_feature_names_out()]\n",
    "mycols"
   ]
  },
  {
   "cell_type": "code",
   "execution_count": 178,
   "id": "cfa46bae-0dfb-4aa2-a909-df05cc150703",
   "metadata": {},
   "outputs": [],
   "source": [
    "from sklearn.preprocessing import FunctionTransformer\n",
    "\n",
    "# pipeline to add columns \n",
    "# see here https://datascience.stackexchange.com/questions/75449/is-there-a-way-to-force-a-transformer-to-return-a-pandas-dataframe\n",
    "pandarized = (\"pandarizer\",FunctionTransformer(lambda x: pd.DataFrame(x, columns = mycols)))\n",
    "preprocess = Pipeline( steps = (country, w_country, w_ethnicity, w_relation, dropper, col_preprocess, pandarized))"
   ]
  },
  {
   "cell_type": "code",
   "execution_count": 179,
   "id": "d00174be-307c-4853-961e-3a9d252febbd",
   "metadata": {},
   "outputs": [],
   "source": [
    "# Exploration: there are no missing values in both train and test datasets\n",
    "assert test.isnull().values.any() == False, 'test dataset contains missing values'\n",
    "assert train.isnull().values.any() == False, 'train dataset contains missing values'"
   ]
  },
  {
   "cell_type": "code",
   "execution_count": 180,
   "id": "294b7a6c-981c-4a61-9047-7d7aba08fd68",
   "metadata": {},
   "outputs": [],
   "source": [
    "# Check the number of resulting variables are the same\n",
    "#preprocess.fit_transform(X=train).shape, preprocess.fit_transform(X=test).shape"
   ]
  },
  {
   "cell_type": "code",
   "execution_count": 181,
   "id": "bde1bc31-f2c8-4538-bd96-b6175e4814bd",
   "metadata": {},
   "outputs": [],
   "source": [
    "# We first apply the preprocessing pipeline\n",
    "Xtrain = preprocess.fit_transform(X = train)\n",
    "Xtest = preprocess.fit_transform(X = test)\n",
    "\n",
    "# check resulting variables are the same after preprocessing\n",
    "assert (Xtrain.shape[1] == Xtest.shape[1]), 'train and set contain different number of independent variables'\n",
    "\n",
    "# check the same number of independent variables\n",
    "assert (Xtrain.shape[0] == train_target.shape[0]), 'train changed the number of observations'\n",
    "\n",
    "#Xtrain.shape, Xtest.shape, train_target.shape"
   ]
  },
  {
   "cell_type": "markdown",
   "id": "86084cb4-d1a9-46e3-b061-56b8ff210a3d",
   "metadata": {},
   "source": [
    "# Oversampling"
   ]
  },
  {
   "cell_type": "markdown",
   "id": "ba1c74b7-8b28-446d-86a6-4409e5d729ef",
   "metadata": {},
   "source": [
    "Oversampling:\n",
    "SMOTEENN is described in Batista et al (2004). It combines the SMOTE to generate synthetic examples for minority class with ENN to delete some observations from both classes that are identified as having different class between the observation’s class and its K-nearest neighbor majority class. "
   ]
  },
  {
   "cell_type": "code",
   "execution_count": 182,
   "id": "414e662d-d9db-4aa8-ba88-6f818416a388",
   "metadata": {},
   "outputs": [],
   "source": [
    "#from imblearn.over_sampling import SMOTE\n",
    "\n",
    "from imblearn.combine import SMOTEENN\n",
    "from imblearn.under_sampling import EditedNearestNeighbours"
   ]
  },
  {
   "cell_type": "code",
   "execution_count": 183,
   "id": "05f5bd94-e366-45ac-80fc-ae98d8bf2249",
   "metadata": {},
   "outputs": [
    {
     "name": "stderr",
     "output_type": "stream",
     "text": [
      "/Users/krish/opt/anaconda3/lib/python3.9/site-packages/imblearn/over_sampling/_smote/base.py:336: FutureWarning: The parameter `n_jobs` has been deprecated in 0.10 and will be removed in 0.12. You can pass an nearest neighbors estimator where `n_jobs` is already set instead.\n",
      "  warnings.warn(\n"
     ]
    }
   ],
   "source": [
    "sm = SMOTEENN(enn = EditedNearestNeighbours(sampling_strategy='all', kind_sel=\"mode\"), random_state = 42, n_jobs =-1)\n",
    "ov_Xtrain, ov_ytrain = sm.fit_resample(X = Xtrain, y = train_target)"
   ]
  },
  {
   "cell_type": "code",
   "execution_count": 184,
   "id": "6024f890-1e3d-459a-bc63-ac4c50f83de4",
   "metadata": {},
   "outputs": [
    {
     "data": {
      "text/plain": [
       "1    601\n",
       "0    499\n",
       "Name: Class/ASD, dtype: int64"
      ]
     },
     "execution_count": 184,
     "metadata": {},
     "output_type": "execute_result"
    }
   ],
   "source": [
    "ov_ytrain.value_counts() # see now balanced target "
   ]
  },
  {
   "cell_type": "code",
   "execution_count": 185,
   "id": "515be85c-4fda-488b-8884-408ce1d338a0",
   "metadata": {},
   "outputs": [
    {
     "data": {
      "text/plain": [
       "0    615\n",
       "1    185\n",
       "Name: Class/ASD, dtype: int64"
      ]
     },
     "execution_count": 185,
     "metadata": {},
     "output_type": "execute_result"
    }
   ],
   "source": [
    "train_target.value_counts() # umbalanced"
   ]
  },
  {
   "cell_type": "code",
   "execution_count": 186,
   "id": "02322657-8d24-412f-b457-e91585b66fdf",
   "metadata": {},
   "outputs": [
    {
     "data": {
      "text/plain": [
       "((1100, 42), (1100,))"
      ]
     },
     "execution_count": 186,
     "metadata": {},
     "output_type": "execute_result"
    }
   ],
   "source": [
    "ov_Xtrain.shape, ov_ytrain.shape"
   ]
  },
  {
   "cell_type": "code",
   "execution_count": 187,
   "id": "7db7e5c9-f678-4fc0-9d44-2477f3268e50",
   "metadata": {},
   "outputs": [
    {
     "data": {
      "image/png": "[encoded data removed]",
      "text/plain": [
       "<Figure size 576x288 with 2 Axes>"
      ]
     },
     "metadata": {},
     "output_type": "display_data"
    }
   ],
   "source": [
    "# Exploration: visualization of target variable\n",
    "\n",
    "autistic = ov_ytrain.value_counts() \n",
    "\n",
    "fig, ax = plt.subplots(1,2, figsize =(6,3))\n",
    "fig.tight_layout(pad = 1, h_pad = 2, w_pad = 4)\n",
    "\n",
    "mylabels = ['ASD (No)', 'ASD (Yes)']\n",
    "mycolors = ['tab:blue', 'tab:orange']\n",
    "\n",
    "ax[0].bar(x=mylabels, height = autistic, color = mycolors, width = 0.75, alpha = .6)\n",
    "\n",
    "for tick in ax[0].get_xticklabels():\n",
    "    tick.set_rotation(90)\n",
    "ax[0].set_ylabel('counts')#, ax[0].set_yticks(np.arange(0,4000,500))\n",
    "\n",
    "ax[1].pie(autistic.values, labels = mylabels, colors = mycolors, autopct='%2.2f%%',shadow=True, startangle=90);"
   ]
  },
  {
   "cell_type": "markdown",
   "id": "8e9686b9-a455-4767-8c35-0ba0e5490820",
   "metadata": {},
   "source": [
    "# Training"
   ]
  },
  {
   "cell_type": "markdown",
   "id": "def8657e-1e63-4ad6-8a55-fb7f7b8ed071",
   "metadata": {},
   "source": [
    "We will test the accuracy of our models when training the dataset with the most common classification methods."
   ]
  },
  {
   "cell_type": "code",
   "execution_count": 188,
   "id": "9edceeab-fbbe-46e3-a478-645f18ef9c4f",
   "metadata": {},
   "outputs": [],
   "source": [
    "from sklearn.ensemble import RandomForestClassifier\n",
    "\n",
    "from sklearn.ensemble import GradientBoostingClassifier\n",
    "from sklearn.ensemble import ExtraTreesClassifier\n",
    "\n",
    "from sklearn.linear_model import LogisticRegression\n",
    "\n",
    "\n",
    "\n",
    "\n",
    "\n",
    "\n",
    "# 1. Instances of all models \n",
    "RF_clf = RandomForestClassifier(random_state = 42)\n",
    "\n",
    "GB_clf = GradientBoostingClassifier(random_state=42)\n",
    "ET_clf = ExtraTreesClassifier(random_state = 42)\n",
    "\n",
    "LR_clf = LogisticRegression(random_state = 42, solver='liblinear', max_iter = 1500)\n",
    "\n"
   ]
  },
  {
   "cell_type": "code",
   "execution_count": 189,
   "id": "49b9fffb-d5d4-48b3-8af9-5bc57b237e46",
   "metadata": {},
   "outputs": [],
   "source": [
    "# minimal reporting here\n",
    "from sklearn.metrics import classification_report\n",
    "from sklearn.metrics import accuracy_score\n",
    "from sklearn.metrics import confusion_matrix, ConfusionMatrixDisplay\n",
    "from sklearn.metrics import roc_curve, roc_auc_score"
   ]
  },
  {
   "cell_type": "code",
   "execution_count": 190,
   "id": "18d6a5d6-9d27-43ff-80fe-55e0697887d6",
   "metadata": {},
   "outputs": [],
   "source": [
    "# minimal train/test split\n",
    "from sklearn.model_selection import train_test_split\n",
    "from sklearn.model_selection import cross_val_score\n",
    "\n",
    "# we train with one-third of the dataset for simplicity\n",
    "X_train, X_test, y_train, y_test = train_test_split(ov_Xtrain, ov_ytrain, test_size=1/3., random_state=42)"
   ]
  },
  {
   "cell_type": "markdown",
   "id": "1871d957-b547-42c2-b709-351e0a8e65be",
   "metadata": {},
   "source": [
    "# Random_Forest"
   ]
  },
  {
   "cell_type": "code",
   "execution_count": 191,
   "id": "58950e46-5d60-4377-a5c9-99ff4ac10694",
   "metadata": {},
   "outputs": [],
   "source": [
    "# from sklearn.ensemble import RandomForestClassifier"
   ]
  },
  {
   "cell_type": "code",
   "execution_count": 192,
   "id": "1ee70835-3a94-49d8-ae12-c330186103c5",
   "metadata": {},
   "outputs": [],
   "source": [
    "# RF_clf = RandomForestClassifier(random_state = 42) # instance of model with default methods"
   ]
  },
  {
   "cell_type": "code",
   "execution_count": 193,
   "id": "6d6b9641-3cf5-4a6a-9784-568980b02c9d",
   "metadata": {},
   "outputs": [
    {
     "name": "stdout",
     "output_type": "stream",
     "text": [
      "              precision    recall  f1-score   support\n",
      "\n",
      "           0       0.97      0.99      0.98       174\n",
      "           1       0.99      0.97      0.98       193\n",
      "\n",
      "    accuracy                           0.98       367\n",
      "   macro avg       0.98      0.98      0.98       367\n",
      "weighted avg       0.98      0.98      0.98       367\n",
      "\n"
     ]
    }
   ],
   "source": [
    "# train \n",
    "RF_clf.fit(X = X_train, y = y_train) # training with 2/3 of the balanced data\n",
    "\n",
    "prediction = RF_clf.predict(X = X_test) # predict the rest 1/3 of the balanced data\n",
    "\n",
    "print(classification_report(y_test, prediction)) # accuracy 0.97"
   ]
  },
  {
   "cell_type": "code",
   "execution_count": 194,
   "id": "6f8f480d-6b50-4f8e-8112-9f7b0debfcc4",
   "metadata": {},
   "outputs": [],
   "source": [
    "def plot_metrics(model, X:np.array, y_target:np.array) -> plt.figure:\n",
    "    \"\"\"\n",
    "    Plots confusion matrix and Receiver Operating Characteristic\n",
    "    (ROC) curve of the classifier\n",
    "    \n",
    "    Arguments:\n",
    "    ----------\n",
    "    predictor\n",
    "    X (array): input matrix\n",
    "    y_target (array) : target vector\n",
    "    \"\"\"\n",
    "    prediction = model.predict( X )\n",
    "    \n",
    "    # Compute donfusion matrix\n",
    "    cm = confusion_matrix(y_target, prediction, labels = model.classes_)\n",
    "    disp = ConfusionMatrixDisplay(confusion_matrix = cm, display_labels = model.classes_)\n",
    "    \n",
    "    fig, ax = plt.subplots(1,2, figsize=(8,4))\n",
    "    fig.tight_layout(pad = 3, h_pad = 2, w_pad = 4)\n",
    "    fig.suptitle(type(model).__name__)\n",
    "    ax[0] = disp.plot(ax = ax[0])\n",
    "\n",
    "    \n",
    "    # ROC curve\n",
    "    y_pred_prob = model.predict_proba(X)[::,1]\n",
    "    test_FP, test_TP, thresholds = roc_curve(y_target ,y_pred_prob)\n",
    "    auc = roc_auc_score(y_target, y_pred_prob)\n",
    "    \n",
    "    ax[1].plot(test_FP, test_TP, color='C0', label = f'AUC = {auc:2.2f}')\n",
    "    ax[1].plot([0, 1], [0, 1],'r--', lw=1)\n",
    "\n",
    "    ax[1].legend(loc =4, fontsize=10);\n",
    "\n",
    "    ax[1].set_ylabel('True Positive (TP)', fontsize=10);\n",
    "    ax[1].set_xlabel('False Positive (FP)', fontsize=10);\n",
    "\n",
    "    ax[1].set_title('Receiver Operating Characteristic (ROC) curve', fontsize=10);\n",
    "    \n",
    "    #return fig"
   ]
  },
  {
   "cell_type": "code",
   "execution_count": 195,
   "id": "a3808e09-a942-4cef-b898-e5e4977c9815",
   "metadata": {},
   "outputs": [
    {
     "data": {
      "image/png": "[encoded data removed]",
      "text/plain": [
       "<Figure size 768x384 with 3 Axes>"
      ]
     },
     "metadata": {},
     "output_type": "display_data"
    }
   ],
   "source": [
    "# RandomForest performance on test dataset (1/3 of the training dataset)\n",
    "plot_metrics(model = RF_clf,  X = X_test, y_target = y_test)"
   ]
  },
  {
   "cell_type": "code",
   "execution_count": 196,
   "id": "587790e0-d1fb-485a-8b65-012e5d688aa7",
   "metadata": {},
   "outputs": [],
   "source": [
    "def get_predictionfile(prediction: np.array, filename:str):\n",
    "    \"\"\"\n",
    "    Return submission file\n",
    "    \n",
    "    Arguments:\n",
    "    prediction: (array)\n",
    "        the estimator result of predict() method  \n",
    "    filename : (str)\n",
    "        filename to be saved\n",
    "    \"\"\"\n",
    "    # test input size\n",
    "    check_shape = prediction.shape == (200,)\n",
    "    assert check_shape, f'prediction shape expected (200,), got: {prediction.shape}'\n",
    "    \n",
    "    df = pd.DataFrame({'ID': test.index, 'Class/ASD': prediction})\n",
    "    print(f'{filename} with {df.shape[0]} predictions created')\n",
    "    return df.to_csv(filename, index=False)"
   ]
  },
  {
   "cell_type": "code",
   "execution_count": 197,
   "id": "0216b4ff-7b0a-4815-8945-649176813293",
   "metadata": {},
   "outputs": [],
   "source": [
    "# we test our trained model with the Xtest restulting from the competition \n",
    "# get_predictionfile(RF_clf.predict_proba(Xtest)[:,1], 'RF_submission_test_size3.csv') # Score: "
   ]
  },
  {
   "cell_type": "code",
   "execution_count": 198,
   "id": "4105652d-db06-4ca2-a921-3f13f3070ff5",
   "metadata": {},
   "outputs": [
    {
     "name": "stdout",
     "output_type": "stream",
     "text": [
      "0.9040594775599808 0.04190234857580873\n"
     ]
    }
   ],
   "source": [
    "cv_score = cross_val_score(estimator = RF_clf, X = Xtrain, y = train_target, scoring = \"roc_auc\", cv = 4, n_jobs=-1)\n",
    "print(np.mean(cv_score), np.std(cv_score)) # that's closer to competition"
   ]
  },
  {
   "cell_type": "markdown",
   "id": "5f9d3bc9-ab74-4846-8c0b-83f674267709",
   "metadata": {},
   "source": [
    "# Logistic_Regression"
   ]
  },
  {
   "cell_type": "code",
   "execution_count": 199,
   "id": "aba1b08c-0b05-473d-91e7-c3d9db2a57db",
   "metadata": {},
   "outputs": [],
   "source": [
    "#from sklearn.linear_model import LogisticRegression"
   ]
  },
  {
   "cell_type": "code",
   "execution_count": 200,
   "id": "646a6872-b5a4-47d2-8005-cb18fd2eb0ca",
   "metadata": {},
   "outputs": [],
   "source": [
    "# LR_clf = LogisticRegression(random_state = 42,solver='liblinear')#, max_iter = 1500)"
   ]
  },
  {
   "cell_type": "code",
   "execution_count": 201,
   "id": "c1eca455-c0d5-4ef1-8fc2-748acacfddf6",
   "metadata": {},
   "outputs": [
    {
     "name": "stdout",
     "output_type": "stream",
     "text": [
      "              precision    recall  f1-score   support\n",
      "\n",
      "           0       0.92      0.90      0.91       174\n",
      "           1       0.91      0.93      0.92       193\n",
      "\n",
      "    accuracy                           0.92       367\n",
      "   macro avg       0.92      0.92      0.92       367\n",
      "weighted avg       0.92      0.92      0.92       367\n",
      "\n"
     ]
    }
   ],
   "source": [
    "LR_clf.fit(X = X_train, y = y_train) # training with 2/3 of the data\n",
    "\n",
    "prediction = LR_clf.predict(X = X_test) # predict the rest 1/3 \n",
    "\n",
    "print(classification_report(y_test, prediction)) # accuracy 0.96"
   ]
  },
  {
   "cell_type": "code",
   "execution_count": 202,
   "id": "af8bbe2a-dc2f-4b96-b131-c7cb69875b64",
   "metadata": {},
   "outputs": [
    {
     "data": {
      "image/png": "[encoded data removed]",
      "text/plain": [
       "<Figure size 768x384 with 3 Axes>"
      ]
     },
     "metadata": {},
     "output_type": "display_data"
    }
   ],
   "source": [
    "# Logistic Regression performance on test dataset (1/5 of the training dataset)\n",
    "plot_metrics(model = LR_clf,  X = X_test, y_target = y_test)"
   ]
  },
  {
   "cell_type": "code",
   "execution_count": 203,
   "id": "e2c369fc-7328-432b-8178-cc2e09c215a4",
   "metadata": {},
   "outputs": [],
   "source": [
    "# we test our trained model with the Xtest restulting from the competition \n",
    "# get_predictionfile(LR_clf.predict_proba(Xtest)[:,1], 'LR_submission_test_size3.csv') # Score: "
   ]
  },
  {
   "cell_type": "code",
   "execution_count": 204,
   "id": "32d13ca1-fd48-44e7-927d-308c9e26ed87",
   "metadata": {},
   "outputs": [
    {
     "name": "stdout",
     "output_type": "stream",
     "text": [
      "0.9098144562957917 0.03669965904796159\n"
     ]
    }
   ],
   "source": [
    "cv_score = cross_val_score(estimator = LR_clf, X = Xtrain, y = train_target, scoring = \"roc_auc\", cv = 4, n_jobs=-1)\n",
    "print(np.mean(cv_score), np.std(cv_score)) # that's closer to competition"
   ]
  },
  {
   "cell_type": "markdown",
   "id": "785dbc06-6c60-44bb-b650-cdc4026e8d12",
   "metadata": {},
   "source": [
    "# Extra_Tree"
   ]
  },
  {
   "cell_type": "code",
   "execution_count": 205,
   "id": "4db40075-04c4-4fa4-8a45-46139c47b297",
   "metadata": {},
   "outputs": [],
   "source": [
    "#from sklearn.tree import DecisionTreeClassifier"
   ]
  },
  {
   "cell_type": "code",
   "execution_count": 206,
   "id": "e5fff097-9fef-4428-bc96-f0c03eeaaff2",
   "metadata": {},
   "outputs": [],
   "source": [
    "#DT_clf = DecisionTreeClassifier(random_state=42)"
   ]
  },
  {
   "cell_type": "code",
   "execution_count": 207,
   "id": "43cf6751-446b-44a8-b7c7-6495329f47a4",
   "metadata": {},
   "outputs": [
    {
     "name": "stdout",
     "output_type": "stream",
     "text": [
      "              precision    recall  f1-score   support\n",
      "\n",
      "           0       0.98      0.98      0.98       174\n",
      "           1       0.98      0.98      0.98       193\n",
      "\n",
      "    accuracy                           0.98       367\n",
      "   macro avg       0.98      0.98      0.98       367\n",
      "weighted avg       0.98      0.98      0.98       367\n",
      "\n"
     ]
    }
   ],
   "source": [
    "ET_clf.fit(X = X_train, y = y_train) # training with 2/3 of the data\n",
    "\n",
    "prediction = ET_clf.predict(X = X_test) # predict the rest 1/3 \n",
    "\n",
    "print(classification_report(y_test, prediction)) # accuracy 0.98"
   ]
  },
  {
   "cell_type": "code",
   "execution_count": 208,
   "id": "3fc3de21-90d1-4537-bb55-e7869086cd91",
   "metadata": {},
   "outputs": [
    {
     "data": {
      "image/png": "[encoded data removed]",
      "text/plain": [
       "<Figure size 768x384 with 3 Axes>"
      ]
     },
     "metadata": {},
     "output_type": "display_data"
    }
   ],
   "source": [
    "# Logistic Regression performance on test dataset (1/3 of the training dataset)\n",
    "plot_metrics(model = ET_clf,  X = X_test, y_target = y_test)"
   ]
  },
  {
   "cell_type": "code",
   "execution_count": 209,
   "id": "14148c7c-4eb0-4600-85cb-852f2f69e9e9",
   "metadata": {},
   "outputs": [],
   "source": [
    "# we test our trained model with the Xtest restulting from the competition \n",
    "# get_predictionfile(prediction = ET_clf.predict_proba(Xtest)[:,1], filename = 'ET_submission_test_size3.csv') # Score: "
   ]
  },
  {
   "cell_type": "code",
   "execution_count": 210,
   "id": "1ecff21d-cf5f-4546-b822-dc7824885034",
   "metadata": {},
   "outputs": [
    {
     "name": "stdout",
     "output_type": "stream",
     "text": [
      "0.897428059189364 0.034554061787799566\n"
     ]
    }
   ],
   "source": [
    "cv_score = cross_val_score(estimator = ET_clf, X = Xtrain, y = train_target, scoring = \"roc_auc\", cv = 4, n_jobs=-1)\n",
    "print(np.mean(cv_score), np.std(cv_score)) # that's closer to competition"
   ]
  },
  {
   "cell_type": "markdown",
   "id": "d20e4152-3f0b-4683-9673-3d1dfe1b8b69",
   "metadata": {},
   "source": [
    "# Gradient_Boosting"
   ]
  },
  {
   "cell_type": "code",
   "execution_count": 211,
   "id": "162e622a-0a20-46c4-9bfe-22cb93c25072",
   "metadata": {},
   "outputs": [
    {
     "name": "stdout",
     "output_type": "stream",
     "text": [
      "              precision    recall  f1-score   support\n",
      "\n",
      "           0       0.98      0.98      0.98       174\n",
      "           1       0.98      0.98      0.98       193\n",
      "\n",
      "    accuracy                           0.98       367\n",
      "   macro avg       0.98      0.98      0.98       367\n",
      "weighted avg       0.98      0.98      0.98       367\n",
      "\n"
     ]
    }
   ],
   "source": [
    "GB_clf.fit(X = X_train, y = y_train) # training with 2/3 of the data\n",
    "\n",
    "prediction = GB_clf.predict(X = X_test) # predict the rest 1/3 \n",
    "\n",
    "print(classification_report(y_test, prediction)) # accuracy 0.98"
   ]
  },
  {
   "cell_type": "code",
   "execution_count": 212,
   "id": "0b4b1e21-f653-4346-ab2f-3cbeac85f06d",
   "metadata": {},
   "outputs": [
    {
     "data": {
      "image/png": "[encoded data removed]",
      "text/plain": [
       "<Figure size 768x384 with 3 Axes>"
      ]
     },
     "metadata": {},
     "output_type": "display_data"
    }
   ],
   "source": [
    "# Gradient Boosting performance on test dataset (1/3 of the training dataset)\n",
    "plot_metrics(model = GB_clf,  X = X_test, y_target = y_test)"
   ]
  },
  {
   "cell_type": "code",
   "execution_count": 213,
   "id": "d7b9fe8e-476a-4cc5-b528-3c9b4b08df05",
   "metadata": {},
   "outputs": [],
   "source": [
    "# we test our trained model with the Xtest restulting from the competition \n",
    "# get_predictionfile(prediction = GB_clf.predict_proba(Xtest)[:,1], filename = 'GB_submission_test_size3.csv') # Score: "
   ]
  },
  {
   "cell_type": "code",
   "execution_count": 214,
   "id": "062eb9fc-b3f3-4f27-9485-0f1e633dd1f8",
   "metadata": {},
   "outputs": [
    {
     "name": "stdout",
     "output_type": "stream",
     "text": [
      "0.9027372848895676 0.03891068829105948\n"
     ]
    }
   ],
   "source": [
    "cv_score = cross_val_score(estimator = GB_clf, X = Xtrain, y = train_target, scoring = \"roc_auc\", cv = 4, n_jobs=-1)\n",
    "print(np.mean(cv_score), np.std(cv_score)) # that's closer to competition"
   ]
  },
  {
   "cell_type": "markdown",
   "id": "67cba161-60ee-461b-9889-3f2ec53dc285",
   "metadata": {},
   "source": [
    "# Test_All_Models"
   ]
  },
  {
   "cell_type": "code",
   "execution_count": 215,
   "id": "33092e32-8a34-42ee-aa80-6f78f9c53a40",
   "metadata": {},
   "outputs": [
    {
     "name": "stdout",
     "output_type": "stream",
     "text": [
      "We test 4 classifiers\n"
     ]
    }
   ],
   "source": [
    "classifiers = [RF_clf,  ET_clf, LR_clf, GB_clf]\n",
    "print(f'We test {len(classifiers)} classifiers')"
   ]
  },
  {
   "cell_type": "code",
   "execution_count": 216,
   "id": "acc2191e-34eb-4ac0-b1dd-4db7b3c7894f",
   "metadata": {},
   "outputs": [],
   "source": [
    "from sklearn.model_selection import StratifiedKFold\n",
    "\n",
    "# We use a 4-fold cross validation of Xtrain, that creates 200 entries blocks\n",
    "myKFold = StratifiedKFold(n_splits = 4, shuffle = True, random_state=42) #"
   ]
  },
  {
   "cell_type": "code",
   "execution_count": 217,
   "id": "6bc90990-1a1e-4638-9b22-935d18e12829",
   "metadata": {},
   "outputs": [
    {
     "data": {
      "text/html": [
       "<div>\n",
       "<style scoped>\n",
       "    .dataframe tbody tr th:only-of-type {\n",
       "        vertical-align: middle;\n",
       "    }\n",
       "\n",
       "    .dataframe tbody tr th {\n",
       "        vertical-align: top;\n",
       "    }\n",
       "\n",
       "    .dataframe thead th {\n",
       "        text-align: right;\n",
       "    }\n",
       "</style>\n",
       "<table border=\"1\" class=\"dataframe\">\n",
       "  <thead>\n",
       "    <tr style=\"text-align: right;\">\n",
       "      <th></th>\n",
       "      <th>roc_auc(%)</th>\n",
       "      <th>stdev(%)</th>\n",
       "    </tr>\n",
       "    <tr>\n",
       "      <th>Classifier</th>\n",
       "      <th></th>\n",
       "      <th></th>\n",
       "    </tr>\n",
       "  </thead>\n",
       "  <tbody>\n",
       "    <tr>\n",
       "      <th>RandomForestClassifier</th>\n",
       "      <td>90.007929</td>\n",
       "      <td>1.587507</td>\n",
       "    </tr>\n",
       "    <tr>\n",
       "      <th>ExtraTreesClassifier</th>\n",
       "      <td>89.244213</td>\n",
       "      <td>1.784509</td>\n",
       "    </tr>\n",
       "    <tr>\n",
       "      <th>LogisticRegression</th>\n",
       "      <td>91.082770</td>\n",
       "      <td>1.184810</td>\n",
       "    </tr>\n",
       "    <tr>\n",
       "      <th>GradientBoostingClassifier</th>\n",
       "      <td>90.670229</td>\n",
       "      <td>0.956550</td>\n",
       "    </tr>\n",
       "  </tbody>\n",
       "</table>\n",
       "</div>"
      ],
      "text/plain": [
       "                            roc_auc(%)  stdev(%)\n",
       "Classifier                                      \n",
       "RandomForestClassifier       90.007929  1.587507\n",
       "ExtraTreesClassifier         89.244213  1.784509\n",
       "LogisticRegression           91.082770  1.184810\n",
       "GradientBoostingClassifier   90.670229  0.956550"
      ]
     },
     "execution_count": 217,
     "metadata": {},
     "output_type": "execute_result"
    }
   ],
   "source": [
    "mydict = dict()\n",
    "\n",
    "name = list()\n",
    "roc_score = list()\n",
    "stdev =  list()\n",
    "\n",
    "for clf in classifiers:\n",
    "    name.append(type(clf).__name__)\n",
    "    clf.fit(X = ov_Xtrain, y = ov_ytrain ) # train balanced dataset\n",
    "    mycv = cross_val_score(clf, Xtrain, y = train_target, scoring = \"roc_auc\", cv = myKFold, n_jobs=-1) # score unbalanced dataset\n",
    "    roc_score.append( np.mean(mycv)*100 )\n",
    "    stdev.append( np.std(mycv) *100)\n",
    "\n",
    "mydict['Classifier'] = name\n",
    "mydict['roc_auc(%)'] = roc_score\n",
    "mydict['stdev(%)'] = stdev\n",
    "\n",
    "mybase = pd.DataFrame.from_dict(mydict).set_index('Classifier')\n",
    "mybase"
   ]
  },
  {
   "cell_type": "code",
   "execution_count": 218,
   "id": "9d2900cb-ea03-43c7-a99a-31b1532cf09a",
   "metadata": {},
   "outputs": [
    {
     "data": {
      "text/html": [
       "<div>\n",
       "<style scoped>\n",
       "    .dataframe tbody tr th:only-of-type {\n",
       "        vertical-align: middle;\n",
       "    }\n",
       "\n",
       "    .dataframe tbody tr th {\n",
       "        vertical-align: top;\n",
       "    }\n",
       "\n",
       "    .dataframe thead th {\n",
       "        text-align: right;\n",
       "    }\n",
       "</style>\n",
       "<table border=\"1\" class=\"dataframe\">\n",
       "  <thead>\n",
       "    <tr style=\"text-align: right;\">\n",
       "      <th></th>\n",
       "      <th>roc_auc(%)</th>\n",
       "      <th>stdev(%)</th>\n",
       "    </tr>\n",
       "    <tr>\n",
       "      <th>Classifier</th>\n",
       "      <th></th>\n",
       "      <th></th>\n",
       "    </tr>\n",
       "  </thead>\n",
       "  <tbody>\n",
       "    <tr>\n",
       "      <th>RandomForestClassifier</th>\n",
       "      <td>90.007929</td>\n",
       "      <td>1.587507</td>\n",
       "    </tr>\n",
       "    <tr>\n",
       "      <th>LogisticRegression</th>\n",
       "      <td>91.082770</td>\n",
       "      <td>1.184810</td>\n",
       "    </tr>\n",
       "    <tr>\n",
       "      <th>GradientBoostingClassifier</th>\n",
       "      <td>90.670229</td>\n",
       "      <td>0.956550</td>\n",
       "    </tr>\n",
       "  </tbody>\n",
       "</table>\n",
       "</div>"
      ],
      "text/plain": [
       "                            roc_auc(%)  stdev(%)\n",
       "Classifier                                      \n",
       "RandomForestClassifier       90.007929  1.587507\n",
       "LogisticRegression           91.082770  1.184810\n",
       "GradientBoostingClassifier   90.670229  0.956550"
      ]
     },
     "execution_count": 218,
     "metadata": {},
     "output_type": "execute_result"
    }
   ],
   "source": [
    "mybase[mybase['roc_auc(%)']>90]"
   ]
  },
  {
   "cell_type": "code",
   "execution_count": null,
   "id": "3e952e5e-4f7c-4641-8d1d-ed67491f6577",
   "metadata": {},
   "outputs": [],
   "source": []
  },
  {
   "cell_type": "code",
   "execution_count": null,
   "id": "cb4745e5-cd6f-4ada-971e-a33d8856157a",
   "metadata": {},
   "outputs": [],
   "source": []
  },
  {
   "cell_type": "code",
   "execution_count": null,
   "id": "646ac6cf-46cd-41af-a4c6-4984ddc1a5c3",
   "metadata": {},
   "outputs": [],
   "source": []
  },
  {
   "cell_type": "code",
   "execution_count": null,
   "id": "deeaebf6-779f-4c9c-b2fc-560597e2d2a3",
   "metadata": {},
   "outputs": [],
   "source": []
  },
  {
   "cell_type": "code",
   "execution_count": null,
   "id": "fb7e140a-7713-44b7-9157-db604858a310",
   "metadata": {},
   "outputs": [],
   "source": []
  },
  {
   "cell_type": "code",
   "execution_count": null,
   "id": "757c0b10-cb5f-4b9b-8a8b-61bf3b1da042",
   "metadata": {},
   "outputs": [],
   "source": []
  }
 ],
 "metadata": {
  "kernelspec": {
   "display_name": "Python 3 (ipykernel)",
   "language": "python",
   "name": "python3"
  },
  "language_info": {
   "codemirror_mode": {
    "name": "ipython",
    "version": 3
   },
   "file_extension": ".py",
   "mimetype": "text/x-python",
   "name": "python",
   "nbconvert_exporter": "python",
   "pygments_lexer": "ipython3",
   "version": "3.9.13"
  }
 },
 "nbformat": 4,
 "nbformat_minor": 5
}
